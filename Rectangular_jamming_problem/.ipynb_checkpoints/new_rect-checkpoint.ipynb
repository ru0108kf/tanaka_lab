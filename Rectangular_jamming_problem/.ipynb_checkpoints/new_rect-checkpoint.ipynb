{
 "cells": [
  {
   "cell_type": "code",
   "execution_count": 3,
   "id": "87c6d861",
   "metadata": {},
   "outputs": [],
   "source": [
    "# モジュールの読み込み\n",
    "import matplotlib.pyplot as plt\n",
    "from matplotlib import patches\n",
    "import math\n",
    "import numpy as np\n",
    "import random\n",
    "import pandas as pd\n",
    "import itertools\n",
    "from IPython.display import clear_output\n",
    "import time\n",
    "import array\n",
    "import numpy\n",
    "%matplotlib inline"
   ]
  },
  {
   "cell_type": "code",
   "execution_count": 4,
   "id": "37d5381c",
   "metadata": {},
   "outputs": [],
   "source": [
    "# Axesオブジェクトに長方形を配置\n",
    "def Rect_place(rect,n):\n",
    "    global ax,fig\n",
    "    ax.grid()\n",
    "    colors=\"#\"+''.join([random.choice('0123456789ABCDEF') for i in range(3)])\n",
    "    r = patches.Rectangle( xy=(rect.loc[n][\"x\"],rect.loc[n][\"y\"]) , width=rect.loc[n][\"w\"], height=rect.loc[n][\"h\"], color=colors)\n",
    "    ax.add_patch(r)"
   ]
  },
  {
   "cell_type": "code",
   "execution_count": 5,
   "id": "199fc83d",
   "metadata": {},
   "outputs": [],
   "source": [
    "class Rect():\n",
    "    def __init__(self, x, y, w, h):\n",
    "        self.x1 = x\n",
    "        self.y1 = y\n",
    "        self.x2 = x + w\n",
    "        self.y2 = y + h\n",
    "        self.w = w\n",
    "        self.h = h\n",
    "    \n",
    "    def overlap(self, b):\n",
    "        return max(self.x1, b.x1) < min(self.x2, b.x2) and max(self.y1, b.y1) < min(self.y2, b.y2)\n",
    "\n",
    "    def subtract_by(self, b):\n",
    "        if self.overlap(b):\n",
    "            rooms = []\n",
    "            if (self.x1 < b.x1 and b.x1 < self.x2) and max(self.y1, b.y1) < min(self.y2, b.y2):\n",
    "                rooms.append(Rect(self.x1, self.y1, b.x1 - self.x1, self.h))\n",
    "\n",
    "            if (self.x1 < b.x2 and b.x2 < self.x2) and max(self.y1, b.y1) < min(self.y2, b.y2):\n",
    "                rooms.append(Rect(b.x2, self.y1, self.x2 - b.x2, self.h))\n",
    "\n",
    "            if (self.y1 < b.y1 and b.y1 < self.y2) and max(self.x1, b.x1) < min(self.x2, b.x2) :\n",
    "                rooms.append(Rect(self.x1, self.y1, self.w, b.y1 - self.y1))\n",
    "\n",
    "            if (self.y1 < b.y2 and b.y2 < self.y2) and max(self.x1, b.x1) < min(self.x2, b.x2) :\n",
    "                rooms.append(Rect(self.x1, b.y2, self.w, self.y2 - b.y2))\n",
    "            return rooms\n",
    "        \n",
    "        else:\n",
    "            return [self]\n",
    "\n",
    "    def include(self, b):\n",
    "        return self.x1 <= b.x1 and b.x2 <= self.x2 and self.y1 <= b.y1 and b.y2 <= self.y2\n",
    "\n",
    "    def larger_than(self, w, h):\n",
    "    # 座標は関係なく、図形として入るかどうか\n",
    "        return w <= self.w and h <= self.h"
   ]
  },
  {
   "cell_type": "code",
   "execution_count": 6,
   "id": "ef5d358a",
   "metadata": {
    "scrolled": true
   },
   "outputs": [],
   "source": [
    "def put_rect(input_rects, roomsORIG):\n",
    "# 空白矩形と比較し、配置可能な空白を探索\n",
    "    rects = []\n",
    "    uniq_rooms = list(roomsORIG)\n",
    "    for input_rect in input_rects:\n",
    "        for i in range(len(uniq_rooms)):\n",
    "            room = uniq_rooms[i]\n",
    "            if room.larger_than(input_rect[0], input_rect[1]): #このrectに配置可能\n",
    "                new_rect = Rect(room.x1, room.y1, input_rect[0], input_rect[1])\n",
    "                rects.append(new_rect)\n",
    "                break\n",
    "\n",
    "        # すべての空白矩形から subtractする\n",
    "        new_rooms = []\n",
    "        for room in uniq_rooms:\n",
    "            new_rooms += room.subtract_by(new_rect)\n",
    "        new_rooms = sorted(new_rooms, key=lambda x:x.y1) # 結局総当たりするので意味ないが、将来効率化を考えソート\n",
    "\n",
    "        # 重複削除 総当たり\n",
    "        uniq_rooms = []\n",
    "        for r_i in new_rooms:\n",
    "            include_flg = False\n",
    "            for r_j in new_rooms:\n",
    "                if r_i == r_j: continue\n",
    "                if r_j.include(r_i):\n",
    "                    include_flg = True\n",
    "                    break\n",
    "            if not include_flg:\n",
    "            # print(\"{} は他のどれにも含まれない\".format(r_i))\n",
    "                uniq_rooms.append(r_i)\n",
    "        # 低い順（左にある順）に並び替え\n",
    "        new_rooms = sorted(new_rooms, key=lambda a:a.x1)\n",
    "        uniq_rooms = sorted(new_rooms, key=lambda a:a.y1)\n",
    "\n",
    "    return (rects, uniq_rooms)"
   ]
  },
  {
   "cell_type": "code",
   "execution_count": 13,
   "id": "ea109e4b",
   "metadata": {},
   "outputs": [],
   "source": [
    "# seed値\n",
    "seed = 0\n",
    "random.seed(seed)\n",
    "np.random.seed(seed)\n",
    "#数値\n",
    "W, B, V = 4, 20, 20\n",
    "wh = np.random.uniform(low=0.5, high=1.5, size=(B, 2))\n",
    "wh = wh*(math.sqrt(V/np.sum(wh[:,0]*wh[:,1])))\n",
    "xy = [[0,0]]*B\n",
    "#DataFrame処理\n",
    "wh_df = pd.DataFrame(data=(wh),columns=(\"w\",\"h\"))\n",
    "xy_df = pd.DataFrame(data=(xy),columns=(\"x\",\"y\"))\n",
    "Rectangle = pd.concat([wh_df,xy_df],axis=1)"
   ]
  },
  {
   "cell_type": "code",
   "execution_count": 14,
   "id": "401e939e",
   "metadata": {},
   "outputs": [
    {
     "name": "stdout",
     "output_type": "stream",
     "text": [
      "経過時間： 0.36秒\n",
      "高さ：6.54\n"
     ]
    },
    {
     "data": {
      "image/png": "[encoded data removed]",
      "text/plain": [
       "<Figure size 400x700 with 1 Axes>"
      ]
     },
     "metadata": {},
     "output_type": "display_data"
    }
   ],
   "source": [
    "# 処理前の時刻\n",
    "t1 = time.time()\n",
    "\n",
    "# 実行\n",
    "img_list =  []\n",
    "for i in range(B):\n",
    "    img_list.append((Rectangle.loc[i][\"w\"],wh_df.loc[i][\"h\"]))\n",
    "rects, rooms = put_rect(img_list, roomsORIG=[Rect(0,0,W,100)])\n",
    "x,y = [],[]\n",
    "for rect in rects:\n",
    "    x.append(rect.x1)\n",
    "    y.append(rect.y1)\n",
    "Rectangle[\"x\"] = x\n",
    "Rectangle[\"y\"] = y\n",
    "\n",
    "# 高さを定義\n",
    "Height = round(max(Rectangle[\"y\"]+Rectangle[\"h\"]),2)\n",
    "H = math.ceil(Height)\n",
    "# Axesオブジェクトを作成\n",
    "fig, ax = plt.subplots(figsize=(W,H))\n",
    "ax.set_xticks([0, W])\n",
    "ax.set_yticks([0, H])\n",
    "ax.axhline(Height)\n",
    "plt.text(4.1,Height,Height,size='10')\n",
    "ax.grid()\n",
    "\n",
    "for n in range(B):\n",
    "    Rect_place(Rectangle,n)\n",
    "\n",
    "# 処理後の時刻\n",
    "t2 = time.time()\n",
    " \n",
    "# 経過時間を表示\n",
    "elapsed_time = t2-t1\n",
    "print(f\"経過時間：{elapsed_time: .2f}秒\")\n",
    "    \n",
    "# 図形を描画\n",
    "print(f\"高さ：{Height}\")\n",
    "plt.show()"
   ]
  },
  {
   "cell_type": "code",
   "execution_count": null,
   "id": "f32e06fd",
   "metadata": {},
   "outputs": [],
   "source": []
  }
 ],
 "metadata": {
  "kernelspec": {
   "display_name": "Python 3 (ipykernel)",
   "language": "python",
   "name": "python3"
  },
  "language_info": {
   "codemirror_mode": {
    "name": "ipython",
    "version": 3
   },
   "file_extension": ".py",
   "mimetype": "text/x-python",
   "name": "python",
   "nbconvert_exporter": "python",
   "pygments_lexer": "ipython3",
   "version": "3.11.4"
  }
 },
 "nbformat": 4,
 "nbformat_minor": 5
}
