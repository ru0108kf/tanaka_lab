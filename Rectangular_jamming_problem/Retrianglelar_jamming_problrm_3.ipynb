{
 "cells": [
  {
   "cell_type": "code",
   "execution_count": 1,
   "id": "b25992de",
   "metadata": {},
   "outputs": [],
   "source": [
    "#モジュールの読み込み\n",
    "import matplotlib.pyplot as plt\n",
    "from matplotlib import patches\n",
    "import math\n",
    "import numpy as np\n",
    "import random\n",
    "import pandas as pd\n",
    "import itertools\n",
    "%matplotlib inline"
   ]
  },
  {
   "cell_type": "code",
   "execution_count": 2,
   "id": "e184c659",
   "metadata": {},
   "outputs": [],
   "source": [
    "#seed値を設定（ここをなくせば完全ランダムになる。色もランダムになる）\n",
    "seed = 1\n",
    "random.seed(seed)\n",
    "np.random.seed(seed)"
   ]
  },
  {
   "cell_type": "code",
   "execution_count": 3,
   "id": "372aff71",
   "metadata": {},
   "outputs": [],
   "source": [
    "#数値(W:部屋の幅,B:長方形の数,V:長方形の面積の合計)\n",
    "W = 4\n",
    "B = 20\n",
    "V = 20\n",
    "wh = np.random.uniform(low=0.5, high=1.5, size=(B, 2))\n",
    "wh = wh*(math.sqrt(V/np.sum(wh[:,0]*wh[:,1])))\n",
    "xy = [[0,0]]*B"
   ]
  },
  {
   "cell_type": "code",
   "execution_count": 4,
   "id": "0eb18a6a",
   "metadata": {},
   "outputs": [],
   "source": [
    "#DataFrame処理\n",
    "wh_df = pd.DataFrame(data=(wh),columns=(\"w\",\"h\"))\n",
    "xy_df = pd.DataFrame(data=(xy),columns=(\"x\",\"y\"))\n",
    "S_df = wh_df[\"w\"]*wh_df[\"h\"]\n",
    "Rect = pd.concat([wh_df,xy_df],axis=1)"
   ]
  },
  {
   "cell_type": "code",
   "execution_count": 5,
   "id": "a4399ec4",
   "metadata": {},
   "outputs": [],
   "source": [
    "#Axesオブジェクトに長方形を配置\n",
    "def Rect_place(rect,n):\n",
    "    global ax,fig\n",
    "    ax.grid()\n",
    "    colors=\"#\"+''.join([random.choice('0123456789ABCDEF') for i in range(3)])\n",
    "    r = patches.Rectangle( xy=(rect.loc[n][\"x\"],rect.loc[n][\"y\"]) , width=rect.loc[n][\"w\"], height=rect.loc[n][\"h\"], color=colors)\n",
    "    ax.add_patch(r)"
   ]
  },
  {
   "cell_type": "code",
   "execution_count": 6,
   "id": "cc269e38",
   "metadata": {},
   "outputs": [],
   "source": [
    "#index：ｎがそれより若いindexの長方形と重なっていないか確認.重なっていなければ、Trueを返す\n",
    "def overlap(rect,n):\n",
    "    result = []\n",
    "    for i in range(n):\n",
    "        xn = rect.loc[n][\"x\"]\n",
    "        xi = rect.loc[i][\"x\"]\n",
    "        wn = rect.loc[n][\"w\"]\n",
    "        wi = rect.loc[i][\"w\"]\n",
    "        yn = rect.loc[n][\"y\"]\n",
    "        yi = rect.loc[i][\"y\"]\n",
    "        hn = rect.loc[n][\"h\"]\n",
    "        hi = rect.loc[i][\"h\"]\n",
    "        result.append(not((max(xn,xi)<min(xn+wn,xi+wi))and(max(yn,yi)<min(yn+hn,yi+hi))))#重なっていなければ、True\n",
    "    return all(result)#一つでもFalseがあればFalse"
   ]
  },
  {
   "cell_type": "code",
   "execution_count": 7,
   "id": "581c6e3b",
   "metadata": {},
   "outputs": [],
   "source": [
    "#index:nが範囲内にあるか確認.範囲内にあれば、Trueを返す\n",
    "def Out(rect,n):\n",
    "    xn = rect.loc[n][\"x\"]\n",
    "    yn = rect.loc[n][\"y\"]\n",
    "    wn = rect.loc[n][\"w\"]\n",
    "    hn = rect.loc[n][\"h\"]\n",
    "    return xn>=0 and yn>=0 and xn+wn<=W"
   ]
  },
  {
   "cell_type": "code",
   "execution_count": 8,
   "id": "e328dd8a",
   "metadata": {},
   "outputs": [],
   "source": [
    "#配置する座標を決める\n",
    "def place_coordinate(rect,n):\n",
    "    rect[\"x+w\"] = rect[\"x\"]+rect[\"w\"]#x列とw列を足して、x+w列を作る。\n",
    "    rect[\"y+h\"] = rect[\"y\"]+rect[\"h\"]\n",
    "    x_coordinate = pd.concat([rect.loc[:,\"x+w\"], rect.loc[:,\"x\"]],axis=0).drop_duplicates()#x列とx+w列を縦につなげ、効率化のため、重複は消す。\n",
    "    y_coordinate = pd.concat([rect.loc[:,\"y\"], rect.loc[:,\"y+h\"]],axis=0).drop_duplicates()\n",
    "    #xとyのすべての組み合わせを列挙する。\n",
    "    coordinate = pd.DataFrame(itertools.product(x_coordinate, y_coordinate)).rename(columns={0:'x',1:'y'})\n",
    "    #先にyについてソートした後に、xについてソートする。\n",
    "    coordinate_sort = coordinate.sort_values(by=[\"y\",\"x\"], ascending=True)\n",
    "    #行を再ラベリングする。\n",
    "    coordinate_sort = coordinate_sort.set_axis(list(np.arange(0, len(coordinate))), axis=0)\n",
    "    i = 0\n",
    "    while True:\n",
    "        rect.at[n,\"x\"] = coordinate_sort.loc[i][\"x\"]\n",
    "        rect.at[n,\"y\"] = coordinate_sort.loc[i][\"y\"]\n",
    "        if overlap(rect,n) and Out(rect,n):#重ならず、範囲内にあれば、True\n",
    "            break\n",
    "        if i == len(coordinate):#n回繰り返したらやめる\n",
    "            break\n",
    "        i += 1"
   ]
  },
  {
   "cell_type": "code",
   "execution_count": 9,
   "id": "ba3d8a09",
   "metadata": {},
   "outputs": [
    {
     "name": "stdout",
     "output_type": "stream",
     "text": [
      "高さ: 6.146586637166262\n"
     ]
    },
    {
     "data": {
      "image/png": "[encoded data removed]",
      "text/plain": [
       "<Figure size 400x614.659 with 1 Axes>"
      ]
     },
     "metadata": {},
     "output_type": "display_data"
    }
   ],
   "source": [
    "#実行\n",
    "for j in range(B):\n",
    "    place_coordinate(Rect,j)\n",
    "\n",
    "#高さを定義\n",
    "H = Rect.loc[B-1][\"y\"]+Rect.loc[B-1][\"h\"]\n",
    "\n",
    "#Axesオブジェクトを作成\n",
    "fig, ax = plt.subplots(figsize=(W,H))\n",
    "ax.set_xticks([0, W])\n",
    "ax.set_yticks([0, H])\n",
    "ax.grid()\n",
    "    \n",
    "for n in range(B):\n",
    "    Rect_place(Rect,n)\n",
    "\n",
    "#図形を描画\n",
    "print(\"高さ:\",H)\n",
    "plt.show()"
   ]
  }
 ],
 "metadata": {
  "kernelspec": {
   "display_name": "Python 3 (ipykernel)",
   "language": "python",
   "name": "python3"
  },
  "language_info": {
   "codemirror_mode": {
    "name": "ipython",
    "version": 3
   },
   "file_extension": ".py",
   "mimetype": "text/x-python",
   "name": "python",
   "nbconvert_exporter": "python",
   "pygments_lexer": "ipython3",
   "version": "3.11.4"
  }
 },
 "nbformat": 4,
 "nbformat_minor": 5
}
