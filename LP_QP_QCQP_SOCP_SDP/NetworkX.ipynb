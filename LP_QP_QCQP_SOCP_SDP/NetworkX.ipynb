{
 "cells": [
  {
   "cell_type": "code",
   "execution_count": 2,
   "id": "c0ba6174",
   "metadata": {},
   "outputs": [],
   "source": [
    "import networkx as nx\n",
    "G = nx.Graph()#無向グラフを生成"
   ]
  },
  {
   "cell_type": "code",
   "execution_count": 3,
   "id": "a78c1e17",
   "metadata": {},
   "outputs": [],
   "source": [
    "#グラフに頂点を追加する\n",
    "G.add_node(1)\n",
    "G.add_node(2)\n",
    "G.add_node(\"n1\")"
   ]
  },
  {
   "cell_type": "code",
   "execution_count": 4,
   "id": "9ae177eb",
   "metadata": {},
   "outputs": [
    {
     "name": "stdout",
     "output_type": "stream",
     "text": [
      "[1, 2, 'n1']\n"
     ]
    }
   ],
   "source": [
    "#画面に表示\n",
    "print(G.nodes)"
   ]
  },
  {
   "cell_type": "code",
   "execution_count": 5,
   "id": "444f0e1b",
   "metadata": {},
   "outputs": [],
   "source": [
    "#まとめて追加\n",
    "G.add_nodes_from([3,4,\"n2\"])"
   ]
  },
  {
   "cell_type": "code",
   "execution_count": 6,
   "id": "a9cae665",
   "metadata": {},
   "outputs": [],
   "source": [
    "#引数は、イテレート可能なコンテナであればよい\n",
    "#辺を追加する\n",
    "G.add_edge(1,2)\n",
    "G.add_edges_from([(1,2),(2,\"n1\")])"
   ]
  },
  {
   "cell_type": "code",
   "execution_count": 7,
   "id": "c4168f17",
   "metadata": {},
   "outputs": [
    {
     "name": "stdout",
     "output_type": "stream",
     "text": [
      "[1, 2, 'n1', 3, 4, 'n2']\n"
     ]
    }
   ],
   "source": [
    "print(G.nodes)"
   ]
  },
  {
   "cell_type": "code",
   "execution_count": 8,
   "id": "c7cb0236",
   "metadata": {},
   "outputs": [
    {
     "name": "stdout",
     "output_type": "stream",
     "text": [
      "[(1, 2), (2, 'n1')]\n"
     ]
    }
   ],
   "source": [
    "print(G.edges)"
   ]
  },
  {
   "cell_type": "code",
   "execution_count": null,
   "id": "202164a3",
   "metadata": {},
   "outputs": [],
   "source": [
    "#グラフのサイズを知る\n"
   ]
  }
 ],
 "metadata": {
  "kernelspec": {
   "display_name": "Python 3 (ipykernel)",
   "language": "python",
   "name": "python3"
  },
  "language_info": {
   "codemirror_mode": {
    "name": "ipython",
    "version": 3
   },
   "file_extension": ".py",
   "mimetype": "text/x-python",
   "name": "python",
   "nbconvert_exporter": "python",
   "pygments_lexer": "ipython3",
   "version": "3.11.4"
  }
 },
 "nbformat": 4,
 "nbformat_minor": 5
}
