{
 "cells": [
  {
   "cell_type": "code",
   "execution_count": 1,
   "id": "53608982",
   "metadata": {},
   "outputs": [
    {
     "name": "stdout",
     "output_type": "stream",
     "text": [
      "HELLO\n"
     ]
    }
   ],
   "source": [
    "#文字列を活用する\n",
    "s=\"Hello\"\n",
    "print(s.upper())"
   ]
  },
  {
   "cell_type": "code",
   "execution_count": 2,
   "id": "871284a2",
   "metadata": {},
   "outputs": [
    {
     "name": "stdout",
     "output_type": "stream",
     "text": [
      "PYTHON\n"
     ]
    }
   ],
   "source": [
    "print(\"python\".upper())"
   ]
  },
  {
   "cell_type": "code",
   "execution_count": 3,
   "id": "9ff0b5d9",
   "metadata": {},
   "outputs": [
    {
     "name": "stdout",
     "output_type": "stream",
     "text": [
      "春\n",
      "夏\n",
      "秋\n",
      "冬\n"
     ]
    }
   ],
   "source": [
    "skst = \"春夏秋冬\"\n",
    "for char in skst:\n",
    "    print(char)"
   ]
  },
  {
   "cell_type": "code",
   "execution_count": 4,
   "id": "7668ef54",
   "metadata": {},
   "outputs": [
    {
     "name": "stdout",
     "output_type": "stream",
     "text": [
      "1234\n",
      "012\n",
      "345\n"
     ]
    }
   ],
   "source": [
    "s=\"012345\"\n",
    "print(s[1:5])\n",
    "print(s[:3])\n",
    "print(s[3:])"
   ]
  },
  {
   "cell_type": "code",
   "execution_count": 5,
   "id": "d3c1f35b",
   "metadata": {},
   "outputs": [
    {
     "name": "stdout",
     "output_type": "stream",
     "text": [
      "検索文字列を入力してください地\n",
      "\"地\"が見つかりました\n",
      "インデックス 3\n"
     ]
    }
   ],
   "source": [
    "str1 = \"水金地火木土天海\"\n",
    "str2 = input(\"検索文字列を入力してください\")\n",
    "\n",
    "index = str1.find(str2)#find()文字列が見つからなかったらindexに-1を出力する。見つかったら、indexにその番号を出力\n",
    "if index != -1:\n",
    "    print('\"'+str2+'\"が見つかりました')\n",
    "    print(\"インデックス\",index+1)\n",
    "else:\n",
    "    print('\"'+str2+'\"が見つかりませんでした')"
   ]
  },
  {
   "cell_type": "code",
   "execution_count": 6,
   "id": "f5e85f11",
   "metadata": {},
   "outputs": [
    {
     "data": {
      "text/plain": [
       "'こんにちはpythonの世界へようこそ'"
      ]
     },
     "execution_count": 6,
     "metadata": {},
     "output_type": "execute_result"
    }
   ],
   "source": [
    "\"こんにちは{}の世界へようこそ\".format(\"python\")#文字列をほかの文字列に埋め込む"
   ]
  },
  {
   "cell_type": "code",
   "execution_count": 7,
   "id": "b85d1a01",
   "metadata": {},
   "outputs": [
    {
     "data": {
      "text/plain": [
       "'12月は冬です'"
      ]
     },
     "execution_count": 7,
     "metadata": {},
     "output_type": "execute_result"
    }
   ],
   "source": [
    "\"{}月は{}です\".format(12,\"冬\")\n",
    "\"{1}月は{0}です\".format(\"冬\",12)#引数の番号で指定"
   ]
  },
  {
   "cell_type": "code",
   "execution_count": 8,
   "id": "cf69aa7f",
   "metadata": {},
   "outputs": [
    {
     "name": "stdout",
     "output_type": "stream",
     "text": [
      "西暦を入力してください2023\n",
      "西暦2023年は、令和5年です\n"
     ]
    }
   ],
   "source": [
    "seireki = int(input(\"西暦を入力してください\"))\n",
    "print(\"西暦{}年は、令和{}年です\".format(seireki,seireki-2018))"
   ]
  },
  {
   "cell_type": "code",
   "execution_count": 9,
   "id": "76fa7df1",
   "metadata": {},
   "outputs": [
    {
     "data": {
      "text/plain": [
       "'3.937'"
      ]
     },
     "execution_count": 9,
     "metadata": {},
     "output_type": "execute_result"
    }
   ],
   "source": [
    "\"{:.3f}\".format(10/2.54)#数値の小数点以下の桁を指定"
   ]
  },
  {
   "cell_type": "code",
   "execution_count": 10,
   "id": "a74a9f48",
   "metadata": {},
   "outputs": [
    {
     "name": "stdout",
     "output_type": "stream",
     "text": [
      "センチメートルを入力してください18\n",
      "18.000cmは、7.087inchiです。\n"
     ]
    }
   ],
   "source": [
    "cm = float(input(\"センチメートルを入力してください\"))\n",
    "print(\"{:.3f}cmは、{:.3f}inchiです。\".format(cm,cm/2.54))"
   ]
  },
  {
   "cell_type": "code",
   "execution_count": 11,
   "id": "462b6946",
   "metadata": {},
   "outputs": [
    {
     "data": {
      "text/plain": [
       "'21,949,698,619,826'"
      ]
     },
     "execution_count": 11,
     "metadata": {},
     "output_type": "execute_result"
    }
   ],
   "source": [
    "\"{:,}\".format(21949698619826)#3桁区切りでコンマを入れる"
   ]
  },
  {
   "cell_type": "code",
   "execution_count": 12,
   "id": "cc6ee30b",
   "metadata": {},
   "outputs": [
    {
     "data": {
      "text/plain": [
       "'私は20歳です'"
      ]
     },
     "execution_count": 12,
     "metadata": {},
     "output_type": "execute_result"
    }
   ],
   "source": [
    "#f文字列\n",
    "age=20\n",
    "f\"私は{age}歳です\""
   ]
  },
  {
   "cell_type": "code",
   "execution_count": 13,
   "id": "663b0116",
   "metadata": {},
   "outputs": [
    {
     "name": "stdout",
     "output_type": "stream",
     "text": [
      "センチメートルを入力してください12\n",
      "12.000cmは、4.724inchiです。\n"
     ]
    }
   ],
   "source": [
    "cm = float(input(\"センチメートルを入力してください\"))\n",
    "print(f\"{cm:.3f}cmは、{cm/2.54:.3f}inchiです。\")"
   ]
  },
  {
   "cell_type": "code",
   "execution_count": 14,
   "id": "b9b1b8da",
   "metadata": {},
   "outputs": [
    {
     "name": "stdout",
     "output_type": "stream",
     "text": [
      "<re.Match object; span=(8, 10), match='千葉'>\n"
     ]
    }
   ],
   "source": [
    "import re\n",
    "m = re.search(\"千葉$\",\"千葉一郎:34:千葉\")#千葉$は最後の文字にヒットする\n",
    "print(m)"
   ]
  },
  {
   "cell_type": "code",
   "execution_count": 15,
   "id": "a209e109",
   "metadata": {},
   "outputs": [
    {
     "name": "stdout",
     "output_type": "stream",
     "text": [
      "千葉\n",
      "(8, 10)\n"
     ]
    }
   ],
   "source": [
    "print(m.group())\n",
    "print(m.span())#グループとスパンを取り出す"
   ]
  },
  {
   "cell_type": "code",
   "execution_count": 16,
   "id": "96f21f89",
   "metadata": {},
   "outputs": [
    {
     "name": "stdout",
     "output_type": "stream",
     "text": [
      "<re.Match object; span=(0, 2), match='千葉'>\n"
     ]
    }
   ],
   "source": [
    "m = re.search(\"千葉\",\"千葉一郎:34:千葉\")#千葉は最初の文字にヒットする\n",
    "print(m)"
   ]
  },
  {
   "cell_type": "code",
   "execution_count": 17,
   "id": "ecd198e3",
   "metadata": {},
   "outputs": [
    {
     "name": "stdout",
     "output_type": "stream",
     "text": [
      "<re.Match object; span=(0, 5), match='2021 '>\n"
     ]
    }
   ],
   "source": [
    "#raw文字記法\n",
    "m = re.search(r\"^\\d{4}\\s\",\"2021 OSAKA\")#＾は先頭、\\dは数字、{4}はそれを4回繰り返す、\\sはスペース\n",
    "print(m)"
   ]
  },
  {
   "cell_type": "code",
   "execution_count": 18,
   "id": "5bdb1feb",
   "metadata": {},
   "outputs": [
    {
     "name": "stdout",
     "output_type": "stream",
     "text": [
      "井上花子:東京:21\n"
     ]
    }
   ],
   "source": [
    "s1=\"井上花子:21:東京\"\n",
    "s2=re.sub(r\":(\\d+):(\\w+)\",r\":\\2:\\1\",s1)#sub()年齢と都道府県を入れ替える。検索後は￥番号で認識する\n",
    "print(s2)"
   ]
  },
  {
   "cell_type": "code",
   "execution_count": 19,
   "id": "bbd7d509",
   "metadata": {},
   "outputs": [
    {
     "data": {
      "text/plain": [
       "['春', '夏', '秋', '冬']"
      ]
     },
     "execution_count": 19,
     "metadata": {},
     "output_type": "execute_result"
    }
   ],
   "source": [
    "lst=[\"春\",\"夏\"]+[\"秋\",\"冬\"]\n",
    "lst"
   ]
  },
  {
   "cell_type": "code",
   "execution_count": 20,
   "id": "5812e2d3",
   "metadata": {},
   "outputs": [
    {
     "data": {
      "text/plain": [
       "[1, 3, 5, 1, 3, 5, 1, 3, 5]"
      ]
     },
     "execution_count": 20,
     "metadata": {},
     "output_type": "execute_result"
    }
   ],
   "source": [
    "lst=[1,3,5]*3\n",
    "lst"
   ]
  },
  {
   "cell_type": "code",
   "execution_count": 21,
   "id": "18451e59",
   "metadata": {},
   "outputs": [
    {
     "data": {
      "text/plain": [
       "['red', 'green', 'yellow', 'white']"
      ]
     },
     "execution_count": 21,
     "metadata": {},
     "output_type": "execute_result"
    }
   ],
   "source": [
    "colors=[\"red\",\"green\"]\n",
    "colors+=[\"yellow\",\"white\"]\n",
    "colors"
   ]
  },
  {
   "cell_type": "code",
   "execution_count": 22,
   "id": "02da6dd5",
   "metadata": {},
   "outputs": [
    {
     "data": {
      "text/plain": [
       "['春', '春', '春', '春']"
      ]
     },
     "execution_count": 22,
     "metadata": {},
     "output_type": "execute_result"
    }
   ],
   "source": [
    "lst=[\"春\"]*4\n",
    "lst"
   ]
  },
  {
   "cell_type": "code",
   "execution_count": 23,
   "id": "f8fdfcc7",
   "metadata": {},
   "outputs": [
    {
     "data": {
      "text/plain": [
       "['two', 'three', 'four']"
      ]
     },
     "execution_count": 23,
     "metadata": {},
     "output_type": "execute_result"
    }
   ],
   "source": [
    "num=[\"zero\",\"one\",\"two\",\"three\",\"four\",\"five\",\"six\"]\n",
    "num[2:5]"
   ]
  },
  {
   "cell_type": "code",
   "execution_count": 24,
   "id": "8997b73f",
   "metadata": {},
   "outputs": [
    {
     "name": "stdout",
     "output_type": "stream",
     "text": [
      "['日', '月', '火']\n",
      "['水', '木', '金', '土']\n"
     ]
    }
   ],
   "source": [
    "weekdays=[\"日\",\"月\",\"火\",\"水\",\"木\",\"金\",\"土\"]\n",
    "print(weekdays[:3])\n",
    "print(weekdays[3:])"
   ]
  },
  {
   "cell_type": "code",
   "execution_count": 25,
   "id": "e24cad7f",
   "metadata": {},
   "outputs": [
    {
     "data": {
      "text/plain": [
       "['日', '火', '木', '土']"
      ]
     },
     "execution_count": 25,
     "metadata": {},
     "output_type": "execute_result"
    }
   ],
   "source": [
    "weekdays[::2]"
   ]
  },
  {
   "cell_type": "code",
   "execution_count": 26,
   "id": "11a0b37d",
   "metadata": {},
   "outputs": [
    {
     "data": {
      "text/plain": [
       "['東京', '大阪', '名古屋', '京都', '青森']"
      ]
     },
     "execution_count": 26,
     "metadata": {},
     "output_type": "execute_result"
    }
   ],
   "source": [
    "str=\"東京,大阪,名古屋,京都,青森\"\n",
    "lst=str.split(\",\")\n",
    "lst"
   ]
  },
  {
   "cell_type": "code",
   "execution_count": 27,
   "id": "fcd49d7d",
   "metadata": {},
   "outputs": [
    {
     "name": "stdout",
     "output_type": "stream",
     "text": [
      "True\n",
      "False\n"
     ]
    }
   ],
   "source": [
    "weekdays=[\"日\",\"月\",\"火\",\"水\",\"木\",\"金\",\"土\"]\n",
    "print(\"月\"in weekdays)\n",
    "print(\"月\"not in weekdays)"
   ]
  },
  {
   "cell_type": "code",
   "execution_count": 28,
   "id": "e9753e03",
   "metadata": {},
   "outputs": [
    {
     "name": "stdout",
     "output_type": "stream",
     "text": [
      "文字列を入力してください地球\n",
      "\"地球\"は見つかりませんでした\n"
     ]
    }
   ],
   "source": [
    "words=[\"空\",\"秘密\",\"電柱\",\"開けゴマ\",\"海\",\"ギター\",\"スマホ\"]\n",
    "str = input(\"文字列を入力してください\")\n",
    "\n",
    "try:\n",
    "    index=words.index(str)\n",
    "    print(f'\"{str}\"のインデックスは{index}です')\n",
    "except ValueError:\n",
    "    print(f'\"{str}\"は見つかりませんでした')"
   ]
  },
  {
   "cell_type": "code",
   "execution_count": 29,
   "id": "50bdb8f0",
   "metadata": {},
   "outputs": [
    {
     "ename": "IndexError",
     "evalue": "list assignment index out of range",
     "output_type": "error",
     "traceback": [
      "\u001b[1;31m---------------------------------------------------------------------------\u001b[0m",
      "\u001b[1;31mIndexError\u001b[0m                                Traceback (most recent call last)",
      "Cell \u001b[1;32mIn[29], line 3\u001b[0m\n\u001b[0;32m      1\u001b[0m names\u001b[38;5;241m=\u001b[39m[\u001b[38;5;124m\"\u001b[39m\u001b[38;5;124m山田\u001b[39m\u001b[38;5;124m\"\u001b[39m,\u001b[38;5;124m\"\u001b[39m\u001b[38;5;124m井上\u001b[39m\u001b[38;5;124m\"\u001b[39m,\u001b[38;5;124m\"\u001b[39m\u001b[38;5;124m太田\u001b[39m\u001b[38;5;124m\"\u001b[39m,\u001b[38;5;124m\"\u001b[39m\u001b[38;5;124m田中\u001b[39m\u001b[38;5;124m\"\u001b[39m]\n\u001b[0;32m      2\u001b[0m names[\u001b[38;5;241m1\u001b[39m]\u001b[38;5;241m=\u001b[39m\u001b[38;5;124m\"\u001b[39m\u001b[38;5;124m江藤\u001b[39m\u001b[38;5;124m\"\u001b[39m\n\u001b[1;32m----> 3\u001b[0m names[\u001b[38;5;241m9\u001b[39m]\u001b[38;5;241m=\u001b[39m\u001b[38;5;124m\"\u001b[39m\u001b[38;5;124m加藤\u001b[39m\u001b[38;5;124m\"\u001b[39m\n",
      "\u001b[1;31mIndexError\u001b[0m: list assignment index out of range"
     ]
    }
   ],
   "source": [
    "names=[\"山田\",\"井上\",\"太田\",\"田中\"]\n",
    "names[1]=\"江藤\"\n",
    "names[9]=\"加藤\"#存在しないインデックスなのでエラー"
   ]
  },
  {
   "cell_type": "code",
   "execution_count": 30,
   "id": "985a4d9f",
   "metadata": {},
   "outputs": [
    {
     "name": "stdout",
     "output_type": "stream",
     "text": [
      "['春', ['夏', '秋', '冬']]\n"
     ]
    }
   ],
   "source": [
    "lst=[]\n",
    "lst.append(\"春\")\n",
    "lst.append([\"夏\",\"秋\",\"冬\"])\n",
    "print(lst)"
   ]
  },
  {
   "cell_type": "code",
   "execution_count": 31,
   "id": "60fd0e97",
   "metadata": {},
   "outputs": [
    {
     "name": "stdout",
     "output_type": "stream",
     "text": [
      "春\n",
      "['夏', '秋', '冬']\n",
      "秋\n"
     ]
    }
   ],
   "source": [
    "print(lst[0])\n",
    "print(lst[1])\n",
    "print(lst[1][1])"
   ]
  },
  {
   "cell_type": "code",
   "execution_count": 32,
   "id": "51a55be8",
   "metadata": {},
   "outputs": [
    {
     "data": {
      "text/plain": [
       "['井上', '太田', '田中', '山田']"
      ]
     },
     "execution_count": 32,
     "metadata": {},
     "output_type": "execute_result"
    }
   ],
   "source": [
    "names=[\"山田\",\"井上\",\"太田\",\"田中\",\"山田\"]\n",
    "names.remove(\"山田\")\n",
    "names"
   ]
  },
  {
   "cell_type": "code",
   "execution_count": 33,
   "id": "af9923cd",
   "metadata": {},
   "outputs": [
    {
     "data": {
      "text/plain": [
       "['山田', '太田', '田中', '山田']"
      ]
     },
     "execution_count": 33,
     "metadata": {},
     "output_type": "execute_result"
    }
   ],
   "source": [
    "names=[\"山田\",\"井上\",\"太田\",\"田中\",\"山田\"]\n",
    "del names[1]\n",
    "names"
   ]
  },
  {
   "cell_type": "code",
   "execution_count": 34,
   "id": "313d68ea",
   "metadata": {},
   "outputs": [
    {
     "data": {
      "text/plain": [
       "['山田', '山田']"
      ]
     },
     "execution_count": 34,
     "metadata": {},
     "output_type": "execute_result"
    }
   ],
   "source": [
    "names=[\"山田\",\"井上\",\"太田\",\"田中\",\"山田\"]\n",
    "del names[1:4]\n",
    "names"
   ]
  },
  {
   "cell_type": "code",
   "execution_count": 35,
   "id": "0569c177",
   "metadata": {},
   "outputs": [
    {
     "data": {
      "text/plain": [
       "['土', '金', '木', '水', '火', '月', '日']"
      ]
     },
     "execution_count": 35,
     "metadata": {},
     "output_type": "execute_result"
    }
   ],
   "source": [
    "weekdays=[\"日\",\"月\",\"火\",\"水\",\"木\",\"金\",\"土\"]\n",
    "weekdays.reverse()\n",
    "weekdays"
   ]
  },
  {
   "cell_type": "code",
   "execution_count": 36,
   "id": "2239b0e5",
   "metadata": {},
   "outputs": [
    {
     "name": "stdout",
     "output_type": "stream",
     "text": [
      "10\n",
      "-3\n"
     ]
    }
   ],
   "source": [
    "nums=[3,5,-3,8,10]\n",
    "print(max(nums))\n",
    "print(min(nums))"
   ]
  },
  {
   "cell_type": "code",
   "execution_count": 37,
   "id": "497b5d8c",
   "metadata": {},
   "outputs": [
    {
     "data": {
      "text/plain": [
       "[-5, 0, 3, 14, 14, 18, 99, 100]"
      ]
     },
     "execution_count": 37,
     "metadata": {},
     "output_type": "execute_result"
    }
   ],
   "source": [
    "nums=[99,3,-5,0,100,14,18,14]\n",
    "nums.sort()\n",
    "nums"
   ]
  },
  {
   "cell_type": "code",
   "execution_count": 38,
   "id": "f98139df",
   "metadata": {},
   "outputs": [
    {
     "data": {
      "text/plain": [
       "[100, 99, 18, 14, 14, 3, 0, -5]"
      ]
     },
     "execution_count": 38,
     "metadata": {},
     "output_type": "execute_result"
    }
   ],
   "source": [
    "nums=[99,3,-5,0,100,14,18,14]\n",
    "nums.sort(reverse=True)\n",
    "nums"
   ]
  },
  {
   "cell_type": "code",
   "execution_count": 39,
   "id": "788ab2b3",
   "metadata": {},
   "outputs": [
    {
     "name": "stdout",
     "output_type": "stream",
     "text": [
      "[99, 3, -5, 0, 100, 14, 18, 14]\n",
      "[-5, 0, 3, 14, 14, 18, 99, 100]\n"
     ]
    }
   ],
   "source": [
    "nums1=[99,3,-5,0,100,14,18,14]\n",
    "nums2=sorted(nums1)\n",
    "print(nums1)\n",
    "print(nums2)"
   ]
  },
  {
   "cell_type": "code",
   "execution_count": 40,
   "id": "cc9cb4df",
   "metadata": {},
   "outputs": [
    {
     "name": "stdout",
     "output_type": "stream",
     "text": [
      "0:C:\\Users\\msy-t\\anaconda3\\Lib\\site-packages\\ipykernel_launcher.py\n",
      "1:-f\n",
      "2:C:\\Users\\msy-t\\AppData\\Roaming\\jupyter\\runtime\\kernel-2714f88b-9c63-4eab-98f8-e49910e2f032.json\n"
     ]
    }
   ],
   "source": [
    "import sys\n",
    "\n",
    "for i,arg in enumerate(sys.argv):\n",
    "    print(f\"{i}:{arg}\")"
   ]
  },
  {
   "cell_type": "code",
   "execution_count": 41,
   "id": "2685089e",
   "metadata": {},
   "outputs": [
    {
     "data": {
      "text/plain": [
       "{'red': '赤', 'blue': '青', 'yellow': '黄'}"
      ]
     },
     "execution_count": 41,
     "metadata": {},
     "output_type": "execute_result"
    }
   ],
   "source": [
    "#辞書と集合の操作\n",
    "colors = {\"red\":\"赤\",\"blue\":\"青\",\"yellow\":\"黄\"}#キー:値\n",
    "colors"
   ]
  },
  {
   "cell_type": "code",
   "execution_count": 42,
   "id": "e7a60e51",
   "metadata": {},
   "outputs": [
    {
     "name": "stdout",
     "output_type": "stream",
     "text": [
      "3\n",
      "赤\n",
      "{'red': '赤', 'blue': '青', 'yellow': '黄色'}\n"
     ]
    }
   ],
   "source": [
    "print(len(colors))\n",
    "print(colors[\"red\"])\n",
    "colors[\"yellow\"]=\"黄色\"\n",
    "print(colors)"
   ]
  },
  {
   "cell_type": "code",
   "execution_count": 43,
   "id": "2030b6a2",
   "metadata": {},
   "outputs": [
    {
     "data": {
      "text/plain": [
       "{'red': '赤', 'blue': '青', 'yellow': '黄色', 'green': '緑'}"
      ]
     },
     "execution_count": 43,
     "metadata": {},
     "output_type": "execute_result"
    }
   ],
   "source": [
    "colors[\"green\"]=\"緑\"\n",
    "colors"
   ]
  },
  {
   "cell_type": "code",
   "execution_count": 44,
   "id": "752fe788",
   "metadata": {},
   "outputs": [
    {
     "data": {
      "text/plain": [
       "{'red': '赤', 'blue': '青', 'yellow': '黄色'}"
      ]
     },
     "execution_count": 44,
     "metadata": {},
     "output_type": "execute_result"
    }
   ],
   "source": [
    "del colors[\"green\"]\n",
    "colors"
   ]
  },
  {
   "cell_type": "code",
   "execution_count": 45,
   "id": "154c6549",
   "metadata": {},
   "outputs": [
    {
     "data": {
      "text/plain": [
       "{'red': '赤', 'blue': '青', 'yellow': '黄', 'green': '緑'}"
      ]
     },
     "execution_count": 45,
     "metadata": {},
     "output_type": "execute_result"
    }
   ],
   "source": [
    "colors = {\"red\":\"赤\",\"blue\":\"青\",\"yellow\":\"黄\"}|{\"green\":\"緑\"}\n",
    "colors"
   ]
  },
  {
   "cell_type": "code",
   "execution_count": 46,
   "id": "e694a775",
   "metadata": {},
   "outputs": [
    {
     "data": {
      "text/plain": [
       "{'秋': 'Autumn', '春': 'Spring', '冬': 'Winter', '夏': 'summer'}"
      ]
     },
     "execution_count": 46,
     "metadata": {},
     "output_type": "execute_result"
    }
   ],
   "source": [
    "seasons={\"秋\":\"Autumn\",\"春\":\"Spring\"}\n",
    "seasons|={\"冬\":\"Winter\",\"夏\":\"summer\"}\n",
    "seasons"
   ]
  },
  {
   "cell_type": "code",
   "execution_count": 47,
   "id": "3e3690b1",
   "metadata": {},
   "outputs": [
    {
     "data": {
      "text/plain": [
       "dict_keys(['秋', '春', '冬', '夏'])"
      ]
     },
     "execution_count": 47,
     "metadata": {},
     "output_type": "execute_result"
    }
   ],
   "source": [
    "seasons.keys()#キー"
   ]
  },
  {
   "cell_type": "code",
   "execution_count": 48,
   "id": "37889ad2",
   "metadata": {},
   "outputs": [
    {
     "data": {
      "text/plain": [
       "dict_values(['Autumn', 'Spring', 'Winter', 'summer'])"
      ]
     },
     "execution_count": 48,
     "metadata": {},
     "output_type": "execute_result"
    }
   ],
   "source": [
    "seasons.values()#値"
   ]
  },
  {
   "cell_type": "code",
   "execution_count": 49,
   "id": "c253a0da",
   "metadata": {},
   "outputs": [
    {
     "data": {
      "text/plain": [
       "['秋', '春', '冬', '夏']"
      ]
     },
     "execution_count": 49,
     "metadata": {},
     "output_type": "execute_result"
    }
   ],
   "source": [
    "ks = seasons.keys()\n",
    "list(ks)"
   ]
  },
  {
   "cell_type": "code",
   "execution_count": 50,
   "id": "7924f208",
   "metadata": {},
   "outputs": [
    {
     "name": "stdout",
     "output_type": "stream",
     "text": [
      "イギリス:8\n",
      "スペイン:7\n",
      "ドイツ:7\n",
      "フランス:3\n"
     ]
    }
   ],
   "source": [
    "answers=[\"イギリス\",\"イギリス\",\"イギリス\",\"スペイン\",\"ドイツ\",\"イギリス\",\"イギリス\",\"フランス\",\"ドイツ\",\n",
    "        \"ドイツ\",\"ドイツ\",\"スペイン\",\"ドイツ\",\"スペイン\",\"ドイツ\",\"スペイン\",\"ドイツ\",\"スペイン\",\"スペイン\",\"スペイン\",\n",
    "       \"イギリス\",\"イギリス\",\"フランス\",\"フランス\",\"イギリス\"]\n",
    "\n",
    "#空の辞書を用意\n",
    "results={}\n",
    "\n",
    "#辞書resultsに国と得票数を格納する\n",
    "for country in answers:\n",
    "    if country in results:\n",
    "        results[country]+=1\n",
    "    else:\n",
    "        results[country]=1\n",
    "\n",
    "#結果を表示する\n",
    "for country,num in results.items():\n",
    "    print(f\"{country}:{num}\")"
   ]
  },
  {
   "cell_type": "code",
   "execution_count": 51,
   "id": "516d9dd3",
   "metadata": {},
   "outputs": [
    {
     "data": {
      "text/plain": [
       "{1, 3, 5, 10}"
      ]
     },
     "execution_count": 51,
     "metadata": {},
     "output_type": "execute_result"
    }
   ],
   "source": [
    "lst=[10,1,3,3,1,10,5,10,10,1]\n",
    "st=set(lst)\n",
    "st"
   ]
  },
  {
   "cell_type": "code",
   "execution_count": 56,
   "id": "3a2b5ed7",
   "metadata": {},
   "outputs": [
    {
     "name": "stdout",
     "output_type": "stream",
     "text": [
      "{'red', 'green', 'blue', 'orange'}\n",
      "{'red', 'green', 'blue', 'orange'}\n",
      "{'green', 'blue', 'orange'}\n",
      "set()\n"
     ]
    }
   ],
   "source": [
    "colors={\"red\",\"green\",\"blue\"}\n",
    "colors.add(\"orange\")\n",
    "print(colors)\n",
    "colors.add(\"red\")\n",
    "print(colors)\n",
    "colors.remove(\"red\")\n",
    "print(colors)\n",
    "colors.clear()\n",
    "print(colors)"
   ]
  },
  {
   "cell_type": "code",
   "execution_count": 57,
   "id": "97802c6d",
   "metadata": {},
   "outputs": [
    {
     "name": "stdout",
     "output_type": "stream",
     "text": [
      "{'川', '山', '空気', '海', '地球', '空'}\n",
      "{'海', '空'}\n",
      "{'地球', '川'}\n",
      "{'川', '空気', '地球', '山'}\n"
     ]
    }
   ],
   "source": [
    "words1={\"空\",\"海\",\"川\",\"地球\"}\n",
    "words2={\"山\",\"海\",\"空\",\"空気\"}\n",
    "print(words1|words2)#結合\n",
    "print(words1&words2)#共通する\n",
    "print(words1-words2)#含まれない\n",
    "print(words1^words2)#どちらか一方"
   ]
  },
  {
   "cell_type": "code",
   "execution_count": 58,
   "id": "2879aefb",
   "metadata": {},
   "outputs": [
    {
     "name": "stdout",
     "output_type": "stream",
     "text": [
      "[0, 4, 16, 36, 64, 100, 144, 196, 256, 324, 400]\n"
     ]
    }
   ],
   "source": [
    "lst = []\n",
    "for n in range(0,21,2):\n",
    "    lst.append(n**2)\n",
    "    \n",
    "print(lst)"
   ]
  },
  {
   "cell_type": "code",
   "execution_count": 59,
   "id": "6fa4c355",
   "metadata": {},
   "outputs": [
    {
     "name": "stdout",
     "output_type": "stream",
     "text": [
      "[0, 4, 16, 36, 64, 100, 144, 196, 256, 324, 400]\n"
     ]
    }
   ],
   "source": [
    "lst=[num**2 for num in range(0,21,2)]#内包表記\n",
    "print(lst)"
   ]
  },
  {
   "cell_type": "code",
   "execution_count": 60,
   "id": "8303bbf5",
   "metadata": {},
   "outputs": [
    {
     "name": "stdout",
     "output_type": "stream",
     "text": [
      "[149, 745, 1415.5, 14900]\n"
     ]
    }
   ],
   "source": [
    "dollars=[1,5,9.5,100]\n",
    "rate=149\n",
    "yens=[dollar*rate for dollar in dollars]\n",
    "print(yens)"
   ]
  },
  {
   "cell_type": "code",
   "execution_count": 61,
   "id": "46041e26",
   "metadata": {},
   "outputs": [
    {
     "name": "stdout",
     "output_type": "stream",
     "text": [
      "['月曜日', '火曜日', '水曜日', '木曜日', '金曜日', '土曜日', '日曜日']\n"
     ]
    }
   ],
   "source": [
    "weekdays=[day+\"曜日\" for day in \"月火水木金土日\"]\n",
    "print(weekdays)"
   ]
  },
  {
   "cell_type": "code",
   "execution_count": 62,
   "id": "eeb6fe1d",
   "metadata": {},
   "outputs": [
    {
     "name": "stdout",
     "output_type": "stream",
     "text": [
      "[3, 9, 15, 30]\n"
     ]
    }
   ],
   "source": [
    "num1=[1,3,7,10,9,15,20,30]\n",
    "num2=[n for n in num1 if (n%3)==0]\n",
    "print(num2)"
   ]
  },
  {
   "cell_type": "code",
   "execution_count": 63,
   "id": "9a56001c",
   "metadata": {},
   "outputs": [
    {
     "name": "stdout",
     "output_type": "stream",
     "text": [
      "['千代田区', '杉並区', '町田市', '西東京市', '大田区']\n"
     ]
    }
   ],
   "source": [
    "address=[\"東京都千代田区\",\"千葉県船橋市\",\"東京都杉並区\",\"埼玉県大宮市\",\"東京都町田市\",\n",
    "         \"東京都西東京市\",\"東京都大田区\",\"神奈川県横浜市\"]\n",
    "tokyo=[town[3:]for town in address if town.startswith(\"東京都\")]#4列目から\n",
    "print(tokyo)"
   ]
  },
  {
   "cell_type": "code",
   "execution_count": 64,
   "id": "efb58e21",
   "metadata": {},
   "outputs": [
    {
     "name": "stdout",
     "output_type": "stream",
     "text": [
      "['千代田区', '杉並区', '町田市', '西東京市', '大田区']\n"
     ]
    }
   ],
   "source": [
    "tokyo2=[town.removeprefix(\"東京都\") for town in address if town.startswith(\"東京都\")]#東京都を除く\n",
    "print(tokyo2)"
   ]
  },
  {
   "cell_type": "code",
   "execution_count": 65,
   "id": "7182eeb8",
   "metadata": {},
   "outputs": [
    {
     "name": "stdout",
     "output_type": "stream",
     "text": [
      "{'yellow': 1, 'pink': 1, 'blue': 1, 'green': 1}\n"
     ]
    }
   ],
   "source": [
    "colors = [\"yellow\",\"pink\",\"blue\",\"green\"]\n",
    "\n",
    "colors_dic={color:1 for color in colors}\n",
    "print(colors_dic)"
   ]
  },
  {
   "cell_type": "code",
   "execution_count": 66,
   "id": "fc6364ee",
   "metadata": {},
   "outputs": [
    {
     "name": "stdout",
     "output_type": "stream",
     "text": [
      "{'秋': 'Autumn', '春': 'Spring', '冬': 'Winter', '夏': 'summer'}\n"
     ]
    }
   ],
   "source": [
    "e_seasons=[\"spring\",\"summer\",\"Autumn\",\"Winter\"]\n",
    "j_seasons=[\"春\",\"夏\",\"秋\",\"冬\"]\n",
    "\n",
    "sesons={e:j for (e,j) in zip(e_seasons,j_seasons)}\n",
    "print(seasons)"
   ]
  },
  {
   "cell_type": "code",
   "execution_count": 67,
   "id": "d9d9c74f",
   "metadata": {},
   "outputs": [
    {
     "name": "stdout",
     "output_type": "stream",
     "text": [
      "pythonの利用者は45人\n",
      "Cの利用者は14人\n",
      "Swiftの利用者は40人\n",
      "JavaScriptの利用者は40人\n",
      "Javaの利用者は44人\n"
     ]
    }
   ],
   "source": [
    "lang={\"python\":45,\"C\":14,\"Swift\":40,\"JavaScript\":40,\"Java\":44}\n",
    "for l,n in lang.items():\n",
    "    print(f\"{l}の利用者は{n}人\")"
   ]
  }
 ],
 "metadata": {
  "kernelspec": {
   "display_name": "Python 3 (ipykernel)",
   "language": "python",
   "name": "python3"
  },
  "language_info": {
   "codemirror_mode": {
    "name": "ipython",
    "version": 3
   },
   "file_extension": ".py",
   "mimetype": "text/x-python",
   "name": "python",
   "nbconvert_exporter": "python",
   "pygments_lexer": "ipython3",
   "version": "3.11.4"
  }
 },
 "nbformat": 4,
 "nbformat_minor": 5
}
