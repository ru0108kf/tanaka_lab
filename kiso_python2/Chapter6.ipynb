{
 "cells": [
  {
   "cell_type": "markdown",
   "id": "7137b883",
   "metadata": {},
   "source": [
    "テキストファイルの読み書きを理解する"
   ]
  },
  {
   "cell_type": "code",
   "execution_count": 15,
   "id": "2f901611",
   "metadata": {},
   "outputs": [
    {
     "name": "stdout",
     "output_type": "stream",
     "text": [
      "こんにちは。\n",
      "こちらはsample.txt内です。\n",
      "どうぞよろしく。\n"
     ]
    }
   ],
   "source": [
    "f = open(\"sample.txt\",\"r\",encoding=\"utf_8\")\n",
    "lines = f.read()\n",
    "print(lines)\n",
    "f.close()"
   ]
  },
  {
   "cell_type": "code",
   "execution_count": 19,
   "id": "40a4207a",
   "metadata": {},
   "outputs": [
    {
     "name": "stdout",
     "output_type": "stream",
     "text": [
      "こん\n",
      "にちは\n"
     ]
    }
   ],
   "source": [
    "f = open(\"sample.txt\",\"r\",encoding=\"utf_8\")#デフォルトなので省略可だが、WIndowsなので、ちょっと違うみたい\n",
    "lines = f.read(2)\n",
    "print(lines)\n",
    "lines = f.read(3)\n",
    "print(lines)\n",
    "f.close()"
   ]
  },
  {
   "cell_type": "code",
   "execution_count": 36,
   "id": "cea911ee",
   "metadata": {},
   "outputs": [
    {
     "name": "stdout",
     "output_type": "stream",
     "text": [
      "   1:こんにちは。\n",
      "   2:こちらはsample.txt内です。\n",
      "   3:どうぞよろしく。\n"
     ]
    }
   ],
   "source": [
    "f = open(\"sample.txt\",\"r\",encoding=\"utf_8\")\n",
    "lines = f.readlines()\n",
    "\n",
    "for i,line in enumerate(lines):\n",
    "    print(\"{:4d}:{}\".format(i+1,line.rstrip(\"\\n\")))#f文字列は使用不可\n",
    "f.close()"
   ]
  },
  {
   "cell_type": "code",
   "execution_count": 88,
   "id": "c23cd678",
   "metadata": {},
   "outputs": [
    {
     "name": "stdout",
     "output_type": "stream",
     "text": [
      "押してもだめなら引いてみな\n"
     ]
    }
   ],
   "source": [
    "import random\n",
    "\n",
    "f = open(\"kakugen.txt\",\"r\",encoding=\"utf_8\")\n",
    "lines = f.readlines()\n",
    "\n",
    "kakugen = lines[random.randrange(len(lines))]\n",
    "print(kakugen.rstrip(\"\\n\"))"
   ]
  },
  {
   "cell_type": "code",
   "execution_count": 92,
   "id": "d976721a",
   "metadata": {},
   "outputs": [
    {
     "name": "stdout",
     "output_type": "stream",
     "text": [
      "   1:こんにちは。\n",
      "   2:こちらはsample.txt内です。\n",
      "   3:どうぞよろしく。\n"
     ]
    }
   ],
   "source": [
    "f =  open(\"sample.txt\",\"r\",encoding=\"utf_8\")\n",
    "\n",
    "i = 0\n",
    "while True:\n",
    "    line = f.readline()#一行づつ読み込む\n",
    "    if line == \"\":\n",
    "        break\n",
    "    print(\"{:4d}:{}\".format(i+1,line.rstrip(\"\\n\")))\n",
    "    i+=1\n",
    "f.close()"
   ]
  },
  {
   "cell_type": "code",
   "execution_count": 94,
   "id": "1d442c61",
   "metadata": {},
   "outputs": [
    {
     "name": "stdout",
     "output_type": "stream",
     "text": [
      "   1:こんにちは。\n",
      "   2:こちらはsample.txt内です。\n",
      "   3:どうぞよろしく。\n"
     ]
    }
   ],
   "source": [
    "#ファイルオブジェクトをイリテレートする\n",
    "f =  open(\"sample.txt\",\"r\",encoding=\"utf_8\")\n",
    "\n",
    "for i,line in enumerate(f):#enumerate()を使用すれば、行番号と行の両方を取り出せる\n",
    "    print(\"{:4d}:{}\".format(i+1,line.rstrip(\"\\n\")))\n",
    "f.close()"
   ]
  },
  {
   "cell_type": "code",
   "execution_count": 97,
   "id": "36341455",
   "metadata": {},
   "outputs": [
    {
     "name": "stdout",
     "output_type": "stream",
     "text": [
      "   1:こんにちは。\n",
      "   2:こちらはsample.txt内です。\n",
      "   3:どうぞよろしく。\n"
     ]
    }
   ],
   "source": [
    "#with文 with open(ファイル名) as ファイルオブジェクト:ファイルの操作\n",
    "with open(\"sample.txt\",\"r\",encoding=\"utf_8\") as f:\n",
    "    for i,line in enumerate(f):\n",
    "        print(\"{:4d}:{}\".format(i+1,line.rstrip(\"\\n\")))#close()が不要"
   ]
  },
  {
   "cell_type": "code",
   "execution_count": 15,
   "id": "8faba6ea",
   "metadata": {},
   "outputs": [
    {
     "name": "stdout",
     "output_type": "stream",
     "text": [
      "イギリス:10\n",
      "ドイツ:7\n",
      "イタリア:6\n",
      "フランス:5\n",
      "スペイン:4\n"
     ]
    }
   ],
   "source": [
    "with open(\"answer.txt\",\"r\",encoding=\"utf_8\") as f:\n",
    "    answers=[]\n",
    "    for line in f:\n",
    "        answers.append(line.rstrip(\"\\n\"))\n",
    "\n",
    "#空の辞書を用意\n",
    "results={}\n",
    "\n",
    "#辞書resultsに国と得票数を格納する\n",
    "for country in answers:\n",
    "    if country in results:\n",
    "        results[country]+=1\n",
    "    else:\n",
    "        results[country]=1\n",
    "\n",
    "#結果をソートして表示する\n",
    "for country in sorted(results.items(),key=lambda c:c[1],reverse=True):\n",
    "    print(f\"{country[0]}:{country[1]}\")"
   ]
  },
  {
   "cell_type": "code",
   "execution_count": 17,
   "id": "8b01fef8",
   "metadata": {},
   "outputs": [
    {
     "name": "stdout",
     "output_type": "stream",
     "text": [
      "イギリス:10\n",
      "ドイツ:7\n",
      "イタリア:6\n",
      "フランス:5\n",
      "スペイン:4\n"
     ]
    }
   ],
   "source": [
    "#空の辞書を用意\n",
    "results={}\n",
    "\n",
    "with open(\"answer.txt\",\"r\",encoding=\"utf_8\") as f:\n",
    "    for line in f:\n",
    "        country = line.rstrip(\"\\n\")\n",
    "        if country in results:\n",
    "            results[country]+=1\n",
    "        else:\n",
    "            results[country]=1\n",
    "\n",
    "#結果をソートして表示する\n",
    "for country in sorted(results.items(),key=lambda c:c[1],reverse=True):\n",
    "    print(f\"{country[0]}:{country[1]}\")"
   ]
  },
  {
   "cell_type": "code",
   "execution_count": 20,
   "id": "87c33b8b",
   "metadata": {},
   "outputs": [],
   "source": [
    "#テキストファイルに文字列を書き込む\n",
    "with open(\"out.txt\",\"w\",encoding=\"utf_8\") as f:\n",
    "    f.write(\"こんにちは\")\n",
    "    f.write(\"Pythonの世界へようこそ\\n\")#\\nが改行コード\n",
    "    f.write(str(2023))\n",
    "    f.write(\"年\\n\")"
   ]
  },
  {
   "cell_type": "code",
   "execution_count": 22,
   "id": "1e0b6b38",
   "metadata": {},
   "outputs": [
    {
     "data": {
      "text/plain": [
       "'\\r\\n'"
      ]
     },
     "execution_count": 22,
     "metadata": {},
     "output_type": "execute_result"
    }
   ],
   "source": [
    "import os\n",
    "os.linesep"
   ]
  },
  {
   "cell_type": "code",
   "execution_count": 24,
   "id": "9ade709b",
   "metadata": {},
   "outputs": [],
   "source": [
    "with open(\"out.txt\",\"a\",encoding=\"utf_8\") as f:#ファイルの最後に追加または、ファイルを作成する\n",
    "    f.write(\"さようなら\\n\")"
   ]
  },
  {
   "cell_type": "code",
   "execution_count": 37,
   "id": "ac3b9c1c",
   "metadata": {},
   "outputs": [],
   "source": [
    "weekdays = [\"月曜日\",\"火曜日\",\"水曜日\",\"木曜日\",\"金曜日\",\"土曜日\",\"日曜日\"]\n",
    "weekdaysn=[]\n",
    "for weekday in weekdays:\n",
    "    weekdaysn.append(weekday+\"\\n\")\n",
    "weekdays=weekdaysn\n",
    "\n",
    "with open(\"days.txt\",\"w\",encoding=\"utf_8\") as f:\n",
    "    f.writelines(weekdays)"
   ]
  },
  {
   "cell_type": "markdown",
   "id": "9f24400a",
   "metadata": {
    "scrolled": true
   },
   "source": [
    "#ファイルが存在しているかどうか調べる\n",
    "import os,sys,random\n",
    "\n",
    "#引数が一つであることを確認\n",
    "if len(sys.argv) !=2:\n",
    "    print(\"ファイル名を一つ指定してください\")\n",
    "    sys.exit()\n",
    "\n",
    "#パスが存在するかを確認\n",
    "path = sys.argv[1]\n",
    "if os.path.exists(path):\n",
    "    if input(\"上書きしますか？(y/n):\") != \"y\":\n",
    "        sys.exit()\n",
    "    \n",
    "kujis = [\"大吉\",\"中吉\",\"凶\"]\n",
    "with open(path,\"w\",encoding=\"utf_8\") as f:\n",
    "    f.write(kujis[random.randrange(len(kujis))]+\"\\n\")"
   ]
  },
  {
   "cell_type": "code",
   "execution_count": 23,
   "id": "591b70ee",
   "metadata": {},
   "outputs": [
    {
     "name": "stdout",
     "output_type": "stream",
     "text": [
      "結果を出力するファイル名を決めてください:kuji\n",
      "上書きしますか？(y/n):y\n"
     ]
    }
   ],
   "source": [
    "file = input(\"結果を出力するファイル名を決めてください:\")\n",
    "file1 = file+\".txt\"\n",
    "\n",
    "#パスが存在するかを確認\n",
    "path = file1\n",
    "if os.path.exists(path):\n",
    "    if input(\"上書きしますか？(y/n):\") != \"y\":\n",
    "        sys.exit()\n",
    "\n",
    "kujis = [\"大吉\",\"中吉\",\"吉\",\"末吉\",\"凶\"]\n",
    "with open(path,\"w\",encoding=\"utf_8\") as f:\n",
    "    f.write(kujis[random.randrange(len(kujis))]+\"\\n\")"
   ]
  },
  {
   "cell_type": "markdown",
   "id": "535f6df7",
   "metadata": {},
   "source": [
    "#文字エンコーディング変換プログラムを作成する\n",
    "import os,sys\n",
    "\n",
    "#引数が二つであることを確認\n",
    "if len(sys.argv) != 3:#sys.argvの要素数は引数+1\n",
    "    print(\"使い方:conv_enc1.py file1 file2\")\n",
    "    sys.exit()\n",
    "    \n",
    "#変換元のファイルが存在することを確認\n",
    "in_file = sys.argv[1]\n",
    "if not os.path.exists(in_file):\n",
    "    print(\"ファイルが存在しません\")\n",
    "    sys.exit()\n",
    "    \n",
    "#変換先のファイルが存在していた場合に上書きするかを確認\n",
    "out_file = sys.argv[2]\n",
    "if os.path.exists(out_file):\n",
    "    if input(\"上書きしますか？(y/n):\") != \"y\":\n",
    "        sys.exit()\n",
    "        \n",
    "#文字エンコーディングを入力\n",
    "print(\"文字エンコーディングを指定してください\");\n",
    "enc_num = input(\"1:ShiftsJIS 2:EUC-JP 3:JIS :\")\n",
    "if enc_num == \"1\":\n",
    "    enc = \"shift_jis\"\n",
    "elif enc_num == \"2\":\n",
    "    enc = \"euc-jp\"\n",
    "elif enc_num == \"3\":\n",
    "    enc = \"iso2022_jp\"\n",
    "else:\n",
    "    print(\"エンコーディングが正しくありません\")\n",
    "    sys.exit()\n",
    "    \n",
    "#文字エンコーディングを変換する\n",
    "with open(in_file, \"r\", encoding=\"utf_8\") as in_f:\n",
    "    with open(out_file, \"w\", encoding=enc) as out_f:\n",
    "        for str in in_f:\n",
    "            out_f.write(str)"
   ]
  },
  {
   "cell_type": "code",
   "execution_count": 28,
   "id": "5aa493eb",
   "metadata": {},
   "outputs": [
    {
     "name": "stdout",
     "output_type": "stream",
     "text": [
      "変換元のファイル名を指定してください:sample.txt\n",
      "変換先のファイル名を指定してください:jis.txt\n",
      "上書きしますか？(y/n):y\n",
      "文字エンコーディングを指定してください\n",
      "1:ShiftsJIS 2:EUC-JP 3:JIS :3\n"
     ]
    }
   ],
   "source": [
    "#文字エンコーディング変換プログラムを作成する\n",
    "import os,sys\n",
    "\n",
    "#変換元のファイルが存在することを確認\n",
    "in_file = input(\"変換元のファイル名を指定してください:\")\n",
    "if not os.path.exists(in_file):\n",
    "    print(\"ファイルが存在しません\")\n",
    "    sys.exit()\n",
    "    \n",
    "#変換先のファイルが存在していた場合に上書きするかを確認\n",
    "out_file = input(\"変換先のファイル名を指定してください:\")\n",
    "if os.path.exists(out_file):\n",
    "    if input(\"上書きしますか？(y/n):\") != \"y\":\n",
    "        sys.exit()\n",
    "        \n",
    "#文字エンコーディングを入力\n",
    "print(\"文字エンコーディングを指定してください\");\n",
    "enc_num = input(\"1:ShiftsJIS 2:EUC-JP 3:JIS :\")\n",
    "if enc_num == \"1\":\n",
    "    enc = \"shift_jis\"\n",
    "elif enc_num == \"2\":\n",
    "    enc = \"euc-jp\"\n",
    "elif enc_num == \"3\":\n",
    "    enc = \"iso2022_jp\"\n",
    "else:\n",
    "    print(\"エンコーディングが正しくありません\")\n",
    "    sys.exit()\n",
    "\n",
    "#文字エンコーディングを変換する\n",
    "with open(in_file, \"r\", encoding=\"utf_8\") as in_f:\n",
    "    with open(out_file, \"w\", encoding=enc) as out_f:\n",
    "        for str in in_f:\n",
    "            out_f.write(str)"
   ]
  },
  {
   "cell_type": "code",
   "execution_count": 32,
   "id": "2a85a720",
   "metadata": {},
   "outputs": [
    {
     "data": {
      "text/plain": [
       "{'food': ['カレー', 'ラーメン', 'うどん', 'そば']}"
      ]
     },
     "execution_count": 32,
     "metadata": {},
     "output_type": "execute_result"
    }
   ],
   "source": [
    "#JSONファイルの読み込み\n",
    "{\n",
    "    \"name\":\"大津真\",\n",
    "    \"age\":44,\n",
    "    \"pref\":\"東京都\",\n",
    "}\n",
    "{\n",
    "    \"food\":[\"カレー\",\"ラーメン\",\"うどん\",\"そば\"]\n",
    "}"
   ]
  },
  {
   "cell_type": "code",
   "execution_count": 34,
   "id": "df3cafd1",
   "metadata": {},
   "outputs": [
    {
     "name": "stdout",
     "output_type": "stream",
     "text": [
      "{'customers': [{'name': '山田三郎', 'age': 19, 'pref': '東京都'}, {'name': '江藤玲子', 'age': 23, 'pref': '千葉県'}, {'name': '田中一郎', 'age': 15, 'pref': '千葉県'}, {'name': '岸田誠', 'age': 41, 'pref': '神奈川県'}, {'name': '山本直樹', 'age': 45, 'pref': '東京都'}, {'name': '向井五郎', 'age': 25, 'pref': '東京都'}, {'name': '山本虎雄', 'age': 32, 'pref': '千葉県'}]}\n"
     ]
    }
   ],
   "source": [
    "#JSON形式を読み込むload関数\n",
    "import json\n",
    "\n",
    "f = open(\"meibo.json\",\"r\",encoding=\"utf_8\")\n",
    "json_obj = json.load(f)\n",
    "print(json_obj)\n",
    "f.close()"
   ]
  },
  {
   "cell_type": "code",
   "execution_count": 37,
   "id": "ba3db7d7",
   "metadata": {},
   "outputs": [
    {
     "name": "stdout",
     "output_type": "stream",
     "text": [
      "山田三郎 19歳 東京都\n",
      "江藤玲子 23歳 千葉県\n",
      "田中一郎 15歳 千葉県\n",
      "岸田誠 41歳 神奈川県\n",
      "山本直樹 45歳 東京都\n",
      "向井五郎 25歳 東京都\n",
      "山本虎雄 32歳 千葉県\n"
     ]
    }
   ],
   "source": [
    "with open(\"meibo.json\",\"r\",encoding=\"utf_8\") as f:\n",
    "    json_obj = json.load(f)\n",
    "    for person in json_obj[\"customers\"]:\n",
    "        print(f\"{person['name']} {person['age']}歳 {person['pref']}\")"
   ]
  },
  {
   "cell_type": "code",
   "execution_count": 38,
   "id": "f48c9b7f",
   "metadata": {},
   "outputs": [
    {
     "name": "stdout",
     "output_type": "stream",
     "text": [
      "田中一郎 15歳 千葉県\n",
      "山田三郎 19歳 東京都\n",
      "江藤玲子 23歳 千葉県\n",
      "向井五郎 25歳 東京都\n",
      "山本虎雄 32歳 千葉県\n",
      "岸田誠 41歳 神奈川県\n",
      "山本直樹 45歳 東京都\n"
     ]
    }
   ],
   "source": [
    "#データを並べ替える\n",
    "with open(\"meibo.json\",\"r\",encoding=\"utf_8\") as f:\n",
    "    json_obj = json.load(f)\n",
    "    sorted_customers = sorted(json_obj[\"customers\"], key=lambda a:a[\"age\"])\n",
    "    for person in sorted_customers:    \n",
    "        print(f\"{person['name']} {person['age']}歳 {person['pref']}\")"
   ]
  }
 ],
 "metadata": {
  "kernelspec": {
   "display_name": "Python 3 (ipykernel)",
   "language": "python",
   "name": "python3"
  },
  "language_info": {
   "codemirror_mode": {
    "name": "ipython",
    "version": 3
   },
   "file_extension": ".py",
   "mimetype": "text/x-python",
   "name": "python",
   "nbconvert_exporter": "python",
   "pygments_lexer": "ipython3",
   "version": "3.11.4"
  }
 },
 "nbformat": 4,
 "nbformat_minor": 5
}
