{
 "cells": [
  {
   "cell_type": "code",
   "execution_count": 34,
   "id": "57eb3794",
   "metadata": {},
   "outputs": [
    {
     "name": "stdout",
     "output_type": "stream",
     "text": [
      "ようこそpythonの世界へ\n"
     ]
    }
   ],
   "source": [
    "print(\"ようこそpythonの世界へ\")"
   ]
  },
  {
   "cell_type": "code",
   "execution_count": 35,
   "id": "9b374394",
   "metadata": {},
   "outputs": [
    {
     "name": "stdout",
     "output_type": "stream",
     "text": [
      "ようこそ\n",
      "pythonの世界へ\n"
     ]
    }
   ],
   "source": [
    "print(\"ようこそ\");print(\"pythonの世界へ\")"
   ]
  },
  {
   "cell_type": "code",
   "execution_count": 36,
   "id": "782e5679",
   "metadata": {},
   "outputs": [
    {
     "name": "stdout",
     "output_type": "stream",
     "text": [
      "西暦2023年は令和5年です\n"
     ]
    }
   ],
   "source": [
    "print(\"西暦\"+str(2023)+\"年は\",end=\"\")#キーワード引数\n",
    "print(\"令和\"+str(2023-2018)+\"年です\")"
   ]
  },
  {
   "cell_type": "code",
   "execution_count": 37,
   "id": "546a5b9a",
   "metadata": {},
   "outputs": [
    {
     "name": "stdout",
     "output_type": "stream",
     "text": [
      "こんにちは\n",
      "pythonの世界へ\n",
      "ようこそ\n"
     ]
    }
   ],
   "source": [
    "print(\"\"\"こんにちは\n",
    "pythonの世界へ\n",
    "ようこそ\"\"\")"
   ]
  },
  {
   "cell_type": "code",
   "execution_count": 38,
   "id": "5271c4a1",
   "metadata": {},
   "outputs": [
    {
     "name": "stdout",
     "output_type": "stream",
     "text": [
      "西暦2023年は令和5年です\n"
     ]
    }
   ],
   "source": [
    "year = 2023\n",
    "print(\"西暦\"+str(year)+\"年は\",end=\"\")\n",
    "print(\"令和\"+str(year-2018)+\"年です\")"
   ]
  },
  {
   "cell_type": "code",
   "execution_count": 39,
   "id": "beb928bb",
   "metadata": {},
   "outputs": [
    {
     "name": "stdout",
     "output_type": "stream",
     "text": [
      "身長:170cm →　標準体重: 63.57999999999999kg\n"
     ]
    }
   ],
   "source": [
    "height = 170\n",
    "bmi = 22\n",
    "std_weight = bmi * (height/100)**2\n",
    "print(\"身長:\"+str(height)+\"cm →　\",end=\"\")\n",
    "print(\"標準体重: \"+str(std_weight)+\"kg\")"
   ]
  },
  {
   "cell_type": "code",
   "execution_count": 45,
   "id": "c946cbf4",
   "metadata": {},
   "outputs": [
    {
     "name": "stdout",
     "output_type": "stream",
     "text": [
      "何か入力してください:180\n"
     ]
    }
   ],
   "source": [
    "a = input(\"何か入力してください:\")"
   ]
  },
  {
   "cell_type": "code",
   "execution_count": 46,
   "id": "6342a438",
   "metadata": {},
   "outputs": [
    {
     "name": "stdout",
     "output_type": "stream",
     "text": [
      "身長(cm)を入力してください:180\n",
      "身長:180.0cm →　標準体重: 71.28kg\n"
     ]
    }
   ],
   "source": [
    "height = float(input(\"身長(cm)を入力してください:\"))#floatは小数点を含むときに使う\n",
    "bmi = 22\n",
    "std_weight = bmi * (height/100)**2\n",
    "print(\"身長:\" + str(height) + \"cm →　\",end=\"\")\n",
    "print(\"標準体重: \"+str(std_weight)+\"kg\")"
   ]
  },
  {
   "cell_type": "code",
   "execution_count": 42,
   "id": "f1f6ca21",
   "metadata": {},
   "outputs": [
    {
     "data": {
      "text/plain": [
       "int"
      ]
     },
     "execution_count": 42,
     "metadata": {},
     "output_type": "execute_result"
    }
   ],
   "source": [
    "type(3)"
   ]
  },
  {
   "cell_type": "code",
   "execution_count": 43,
   "id": "166bd2a8",
   "metadata": {},
   "outputs": [
    {
     "data": {
      "text/plain": [
       "float"
      ]
     },
     "execution_count": 43,
     "metadata": {},
     "output_type": "execute_result"
    }
   ],
   "source": [
    "type(3.14)"
   ]
  },
  {
   "cell_type": "code",
   "execution_count": 44,
   "id": "122c3013",
   "metadata": {},
   "outputs": [
    {
     "data": {
      "text/plain": [
       "str"
      ]
     },
     "execution_count": 44,
     "metadata": {},
     "output_type": "execute_result"
    }
   ],
   "source": [
    "type(\"こんにちは\")"
   ]
  },
  {
   "cell_type": "code",
   "execution_count": 10,
   "id": "1d46b185",
   "metadata": {},
   "outputs": [
    {
     "name": "stdout",
     "output_type": "stream",
     "text": [
      "3.0\n"
     ]
    },
    {
     "data": {
      "text/plain": [
       "float"
      ]
     },
     "execution_count": 10,
     "metadata": {},
     "output_type": "execute_result"
    }
   ],
   "source": [
    "n=9/3#足し算掛け算引き算の答えは整数ならintになるが、割り算は問答無用でfloatになる\n",
    "print(n)\n",
    "type(n)"
   ]
  },
  {
   "cell_type": "code",
   "execution_count": 11,
   "id": "ebdd2962",
   "metadata": {},
   "outputs": [
    {
     "data": {
      "text/plain": [
       "21"
      ]
     },
     "execution_count": 11,
     "metadata": {},
     "output_type": "execute_result"
    }
   ],
   "source": [
    "n=0x15#１６進数\n",
    "n"
   ]
  },
  {
   "cell_type": "code",
   "execution_count": 12,
   "id": "3e92b3af",
   "metadata": {},
   "outputs": [
    {
     "data": {
      "text/plain": [
       "19"
      ]
     },
     "execution_count": 12,
     "metadata": {},
     "output_type": "execute_result"
    }
   ],
   "source": [
    "n=0o23#8進数\n",
    "n"
   ]
  },
  {
   "cell_type": "code",
   "execution_count": 13,
   "id": "3fb6cfe3",
   "metadata": {},
   "outputs": [
    {
     "data": {
      "text/plain": [
       "255"
      ]
     },
     "execution_count": 13,
     "metadata": {},
     "output_type": "execute_result"
    }
   ],
   "source": [
    "n=0b11111111#2進数\n",
    "n"
   ]
  },
  {
   "cell_type": "code",
   "execution_count": 14,
   "id": "5931b8cc",
   "metadata": {},
   "outputs": [
    {
     "name": "stdout",
     "output_type": "stream",
     "text": [
      "What's going on\n"
     ]
    }
   ],
   "source": [
    "s=\"What's going on\"\n",
    "print(s)"
   ]
  },
  {
   "cell_type": "code",
   "execution_count": 15,
   "id": "a3381929",
   "metadata": {},
   "outputs": [
    {
     "name": "stdout",
     "output_type": "stream",
     "text": [
      "What's going on\n"
     ]
    }
   ],
   "source": [
    "s='What\\'s going on'#エスケープシークエンス\n",
    "print(s)"
   ]
  },
  {
   "cell_type": "code",
   "execution_count": 16,
   "id": "31709d8c",
   "metadata": {},
   "outputs": [
    {
     "name": "stdout",
     "output_type": "stream",
     "text": [
      "15.0\n"
     ]
    },
    {
     "data": {
      "text/plain": [
       "float"
      ]
     },
     "execution_count": 16,
     "metadata": {},
     "output_type": "execute_result"
    }
   ],
   "source": [
    "num=float(\"15\")\n",
    "print(num)\n",
    "type(num)"
   ]
  },
  {
   "cell_type": "code",
   "execution_count": 17,
   "id": "64151cea",
   "metadata": {},
   "outputs": [
    {
     "name": "stdout",
     "output_type": "stream",
     "text": [
      "4500.0\n"
     ]
    },
    {
     "data": {
      "text/plain": [
       "float"
      ]
     },
     "execution_count": 17,
     "metadata": {},
     "output_type": "execute_result"
    }
   ],
   "source": [
    "num=float(\"4.5e3\")\n",
    "print(num)\n",
    "type(num)"
   ]
  },
  {
   "cell_type": "code",
   "execution_count": 18,
   "id": "d490986b",
   "metadata": {},
   "outputs": [
    {
     "name": "stdout",
     "output_type": "stream",
     "text": [
      "15\n"
     ]
    },
    {
     "data": {
      "text/plain": [
       "int"
      ]
     },
     "execution_count": 18,
     "metadata": {},
     "output_type": "execute_result"
    }
   ],
   "source": [
    "num=int(\"15\")\n",
    "print(num)\n",
    "type(num)"
   ]
  },
  {
   "cell_type": "code",
   "execution_count": 25,
   "id": "cf375df9",
   "metadata": {},
   "outputs": [
    {
     "name": "stdout",
     "output_type": "stream",
     "text": [
      "4095\n"
     ]
    }
   ],
   "source": [
    "num=int(\"FFF\",16)\n",
    "print(num)"
   ]
  },
  {
   "cell_type": "code",
   "execution_count": 26,
   "id": "37346bd6",
   "metadata": {},
   "outputs": [
    {
     "name": "stdout",
     "output_type": "stream",
     "text": [
      "10\n"
     ]
    }
   ],
   "source": [
    "num=int(\"1010\",2)\n",
    "print(num)"
   ]
  },
  {
   "cell_type": "code",
   "execution_count": 27,
   "id": "c8e074ef",
   "metadata": {},
   "outputs": [
    {
     "name": "stdout",
     "output_type": "stream",
     "text": [
      "0xff\n",
      "0o22\n",
      "0b1111\n"
     ]
    }
   ],
   "source": [
    "print(hex(255))#16進数8進数2進数\n",
    "print(oct(18))\n",
    "print(bin(15))"
   ]
  },
  {
   "cell_type": "code",
   "execution_count": 47,
   "id": "744053af",
   "metadata": {},
   "outputs": [
    {
     "name": "stdout",
     "output_type": "stream",
     "text": [
      "[180, 165, 159, 171, 155]\n"
     ]
    }
   ],
   "source": [
    "height=[180,165,159,171,155]#リスト\n",
    "print(height)"
   ]
  },
  {
   "cell_type": "code",
   "execution_count": 48,
   "id": "4df9bba3",
   "metadata": {},
   "outputs": [
    {
     "name": "stdout",
     "output_type": "stream",
     "text": [
      "180\n"
     ]
    }
   ],
   "source": [
    "print(height[0])"
   ]
  },
  {
   "cell_type": "code",
   "execution_count": 49,
   "id": "870cd205",
   "metadata": {},
   "outputs": [
    {
     "name": "stdout",
     "output_type": "stream",
     "text": [
      "155\n"
     ]
    }
   ],
   "source": [
    "print(height[-1])"
   ]
  },
  {
   "cell_type": "code",
   "execution_count": 50,
   "id": "ff5c65ce",
   "metadata": {},
   "outputs": [
    {
     "data": {
      "text/plain": [
       "5"
      ]
     },
     "execution_count": 50,
     "metadata": {},
     "output_type": "execute_result"
    }
   ],
   "source": [
    "len(height)#要素数"
   ]
  },
  {
   "cell_type": "code",
   "execution_count": 51,
   "id": "8a518240",
   "metadata": {},
   "outputs": [
    {
     "data": {
      "text/plain": [
       "(180, 165, 159, 171, 155)"
      ]
     },
     "execution_count": 51,
     "metadata": {},
     "output_type": "execute_result"
    }
   ],
   "source": [
    "height=(180,165,159,171,155)#タプル()は省略可\n",
    "height"
   ]
  },
  {
   "cell_type": "code",
   "execution_count": 52,
   "id": "162eaa12",
   "metadata": {},
   "outputs": [
    {
     "name": "stdout",
     "output_type": "stream",
     "text": [
      "('赤', '黒', '緑')\n",
      "['赤', '黒', '緑']\n"
     ]
    }
   ],
   "source": [
    "#リストはミュータブルでタプルはイミュータブルである\n",
    "#これらは相互変換可能\n",
    "t1=\"赤\",\"黒\",\"緑\"\n",
    "l1=list(t1)\n",
    "print(t1)\n",
    "print(l1)"
   ]
  },
  {
   "cell_type": "code",
   "execution_count": 53,
   "id": "36c3d7e5",
   "metadata": {},
   "outputs": [
    {
     "data": {
      "text/plain": [
       "'ん'"
      ]
     },
     "execution_count": 53,
     "metadata": {},
     "output_type": "execute_result"
    }
   ],
   "source": [
    "s=\"こんにちは\"\n",
    "s[1]"
   ]
  },
  {
   "cell_type": "code",
   "execution_count": 54,
   "id": "ec94828c",
   "metadata": {},
   "outputs": [
    {
     "data": {
      "text/plain": [
       "'は'"
      ]
     },
     "execution_count": 54,
     "metadata": {},
     "output_type": "execute_result"
    }
   ],
   "source": [
    "s[len(s)-1]"
   ]
  },
  {
   "cell_type": "code",
   "execution_count": 55,
   "id": "bb6e3e39",
   "metadata": {},
   "outputs": [
    {
     "data": {
      "text/plain": [
       "140705246712680"
      ]
     },
     "execution_count": 55,
     "metadata": {},
     "output_type": "execute_result"
    }
   ],
   "source": [
    "id(3)"
   ]
  },
  {
   "cell_type": "code",
   "execution_count": 56,
   "id": "bb5d48df",
   "metadata": {},
   "outputs": [
    {
     "data": {
      "text/plain": [
       "1221422684800"
      ]
     },
     "execution_count": 56,
     "metadata": {},
     "output_type": "execute_result"
    }
   ],
   "source": [
    "id(height)"
   ]
  },
  {
   "cell_type": "code",
   "execution_count": 57,
   "id": "4908743c",
   "metadata": {},
   "outputs": [
    {
     "name": "stdout",
     "output_type": "stream",
     "text": [
      "140705246712904\n",
      "140705246713064\n"
     ]
    }
   ],
   "source": [
    "n1=10\n",
    "print(id(n1))\n",
    "n1=n1+5\n",
    "print(id(n1))"
   ]
  },
  {
   "cell_type": "code",
   "execution_count": 58,
   "id": "6aac5f2d",
   "metadata": {},
   "outputs": [],
   "source": [
    "import calendar"
   ]
  },
  {
   "cell_type": "code",
   "execution_count": 59,
   "id": "9f35d31d",
   "metadata": {},
   "outputs": [],
   "source": [
    "import math"
   ]
  },
  {
   "cell_type": "code",
   "execution_count": 60,
   "id": "65d48621",
   "metadata": {},
   "outputs": [
    {
     "name": "stdout",
     "output_type": "stream",
     "text": [
      "   November 2023\n",
      "Mo Tu We Th Fr Sa Su\n",
      "       1  2  3  4  5\n",
      " 6  7  8  9 10 11 12\n",
      "13 14 15 16 17 18 19\n",
      "20 21 22 23 24 25 26\n",
      "27 28 29 30\n"
     ]
    }
   ],
   "source": [
    "cal=calendar.TextCalendar()\n",
    "cal.prmonth(2023,11)"
   ]
  },
  {
   "cell_type": "code",
   "execution_count": 61,
   "id": "1f3ec0fe",
   "metadata": {},
   "outputs": [
    {
     "name": "stdout",
     "output_type": "stream",
     "text": [
      "   November 2023\n",
      "Su Mo Tu We Th Fr Sa\n",
      "          1  2  3  4\n",
      " 5  6  7  8  9 10 11\n",
      "12 13 14 15 16 17 18\n",
      "19 20 21 22 23 24 25\n",
      "26 27 28 29 30\n"
     ]
    }
   ],
   "source": [
    "cal=calendar.TextCalendar(6)\n",
    "cal.prmonth(2023,11)"
   ]
  },
  {
   "cell_type": "code",
   "execution_count": 62,
   "id": "76f363b3",
   "metadata": {},
   "outputs": [
    {
     "name": "stdout",
     "output_type": "stream",
     "text": [
      "   December 2023\n",
      "Su Mo Tu We Th Fr Sa\n",
      "                1  2\n",
      " 3  4  5  6  7  8  9\n",
      "10 11 12 13 14 15 16\n",
      "17 18 19 20 21 22 23\n",
      "24 25 26 27 28 29 30\n",
      "31\n"
     ]
    }
   ],
   "source": [
    "from calendar import TextCalendar\n",
    "cal=TextCalendar(6)\n",
    "cal.prmonth(2023,12)"
   ]
  },
  {
   "cell_type": "code",
   "execution_count": 63,
   "id": "2b54d872",
   "metadata": {},
   "outputs": [
    {
     "name": "stdout",
     "output_type": "stream",
     "text": [
      "年2022\n",
      "月7\n",
      "     July 2022\n",
      "Su Mo Tu We Th Fr Sa\n",
      "                1  2\n",
      " 3  4  5  6  7  8  9\n",
      "10 11 12 13 14 15 16\n",
      "17 18 19 20 21 22 23\n",
      "24 25 26 27 28 29 30\n",
      "31\n",
      "None\n"
     ]
    }
   ],
   "source": [
    "year=int(input(\"年\"))\n",
    "month=int(input(\"月\"))\n",
    "print(cal.prmonth(year,month))"
   ]
  },
  {
   "cell_type": "code",
   "execution_count": 64,
   "id": "e1c70d87",
   "metadata": {},
   "outputs": [
    {
     "data": {
      "text/plain": [
       "4.0"
      ]
     },
     "execution_count": 64,
     "metadata": {},
     "output_type": "execute_result"
    }
   ],
   "source": [
    "num = math.sqrt(16)\n",
    "num"
   ]
  },
  {
   "cell_type": "code",
   "execution_count": 65,
   "id": "6809a7c8",
   "metadata": {},
   "outputs": [
    {
     "name": "stdout",
     "output_type": "stream",
     "text": [
      "値を入力してください:12\n",
      "3.4641016151377544\n"
     ]
    }
   ],
   "source": [
    "print(math.sqrt(int(input(\"値を入力してください:\"))))"
   ]
  },
  {
   "cell_type": "code",
   "execution_count": 66,
   "id": "c1223d39",
   "metadata": {},
   "outputs": [
    {
     "data": {
      "text/plain": [
       "4.0"
      ]
     },
     "execution_count": 66,
     "metadata": {},
     "output_type": "execute_result"
    }
   ],
   "source": [
    "from math import sqrt\n",
    "sqrt(16)"
   ]
  },
  {
   "cell_type": "code",
   "execution_count": 67,
   "id": "41a80640",
   "metadata": {},
   "outputs": [
    {
     "name": "stdout",
     "output_type": "stream",
     "text": [
      "円の直径を入力してください:12\n",
      "半径が6.0の面積→113.09733552923255\n"
     ]
    }
   ],
   "source": [
    "#直径を入力して円の面積を求める\n",
    "import math\n",
    "num = float(input(\"円の直径を入力してください:\"))\n",
    "s = ((num/2)**2)*math.pi\n",
    "print(\"半径が\"+str(num/2)+\"の面積→\",end=\"\")\n",
    "print(s)"
   ]
  },
  {
   "cell_type": "code",
   "execution_count": 68,
   "id": "aa5757e8",
   "metadata": {},
   "outputs": [
    {
     "data": {
      "text/plain": [
       "3"
      ]
     },
     "execution_count": 68,
     "metadata": {},
     "output_type": "execute_result"
    }
   ],
   "source": [
    "import random\n",
    "random.randint(0,3)#0以上3以下"
   ]
  },
  {
   "cell_type": "code",
   "execution_count": 69,
   "id": "bcf8a90b",
   "metadata": {},
   "outputs": [
    {
     "data": {
      "text/plain": [
       "2"
      ]
     },
     "execution_count": 69,
     "metadata": {},
     "output_type": "execute_result"
    }
   ],
   "source": [
    "random.randrange(0,3)#0以上3未満"
   ]
  },
  {
   "cell_type": "code",
   "execution_count": 70,
   "id": "f453317e",
   "metadata": {},
   "outputs": [
    {
     "data": {
      "text/plain": [
       "2"
      ]
     },
     "execution_count": 70,
     "metadata": {},
     "output_type": "execute_result"
    }
   ],
   "source": [
    "random.randrange(3)"
   ]
  },
  {
   "cell_type": "code",
   "execution_count": 71,
   "id": "82187b59",
   "metadata": {},
   "outputs": [
    {
     "name": "stdout",
     "output_type": "stream",
     "text": [
      "大吉\n"
     ]
    }
   ],
   "source": [
    "kuji=[\"大吉\",\"吉\",\"中吉\",\"末吉\",\"凶\"]\n",
    "print(kuji[random.randrange(len(kuji))])"
   ]
  }
 ],
 "metadata": {
  "kernelspec": {
   "display_name": "Python 3 (ipykernel)",
   "language": "python",
   "name": "python3"
  },
  "language_info": {
   "codemirror_mode": {
    "name": "ipython",
    "version": 3
   },
   "file_extension": ".py",
   "mimetype": "text/x-python",
   "name": "python",
   "nbconvert_exporter": "python",
   "pygments_lexer": "ipython3",
   "version": "3.11.4"
  }
 },
 "nbformat": 4,
 "nbformat_minor": 5
}
