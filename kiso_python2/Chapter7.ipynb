{
 "cells": [
  {
   "cell_type": "markdown",
   "id": "97fafd70",
   "metadata": {},
   "source": [
    "# オリジナルのクラスを作成する\n",
    "クラスとは、設計図\n",
    "インスタンスとは、設計図で作った実物。\n",
    "インスタンスは設計図を基に簡単にたくさん増やせる。"
   ]
  },
  {
   "cell_type": "code",
   "execution_count": 2,
   "id": "b140c5dd",
   "metadata": {},
   "outputs": [
    {
     "name": "stdout",
     "output_type": "stream",
     "text": [
      "101:斎藤太郎 180cm\n",
      "101:斎藤太郎 175cm\n"
     ]
    }
   ],
   "source": [
    "#クラスを作成\n",
    "class Customer:\n",
    "    def __init__(self,number,name,height=0):#インスタンスの初期化を行うメゾット(selfは自分自身のインスタンスを表す特別な値)\n",
    "        #selfは自分自身を示す。taroは自分自身である。\n",
    "        self.number = number#インスタンス変数に値を代入する\n",
    "        self.name = name\n",
    "        self.height = height\n",
    "\n",
    "#インスタンスを作成\n",
    "taro = Customer(101,\"斎藤太郎\",180)\n",
    "print(f\"{taro.number}:{taro.name} {taro.height}cm\")\n",
    "\n",
    "#身長を変更\n",
    "taro.height = 175\n",
    "print(f\"{taro.number}:{taro.name} {taro.height}cm\")"
   ]
  },
  {
   "cell_type": "code",
   "execution_count": 6,
   "id": "7d763716",
   "metadata": {},
   "outputs": [
    {
     "name": "stdout",
     "output_type": "stream",
     "text": [
      "bmi: 22\n",
      "斎藤太郎→bmi:23\n",
      "山田花子→bmi:23\n"
     ]
    }
   ],
   "source": [
    "#インスタンス変数とクラス変数\n",
    "class Customer:\n",
    "    bmi = 22\n",
    "    def __init__(self,number,name,height=0):\n",
    "        self.number = number\n",
    "        self.name = name\n",
    "        self.height = height\n",
    "\n",
    "#クラスの変数の値を表示\n",
    "print(f\"bmi: {Customer.bmi}\")\n",
    "\n",
    "#インスタンスを生成\n",
    "taro = Customer(101, \"斎藤太郎\", 180)\n",
    "hanako = Customer(102, \"山田花子\", 165)\n",
    "\n",
    "#クラス変数の値を変更\n",
    "Customer.bmi = 23\n",
    "print(f\"{taro.name}→bmi:{taro.bmi}\")\n",
    "print(f\"{hanako.name}→bmi:{hanako.bmi}\")"
   ]
  },
  {
   "cell_type": "code",
   "execution_count": 20,
   "id": "6ebe1b99",
   "metadata": {},
   "outputs": [
    {
     "name": "stdout",
     "output_type": "stream",
     "text": [
      "斎藤太郎　標準体重:71.28kg\n",
      "山田花子　標準体重:56.32kg\n"
     ]
    }
   ],
   "source": [
    "#クラスでメゾットを定義する\n",
    "class Customer:\n",
    "    bmi = 22\n",
    "    def __init__(self,number,name,height):\n",
    "        self.number = number\n",
    "        self.name = name\n",
    "        self.height = height\n",
    "    \n",
    "    def std_weight(self):\n",
    "        return Customer.bmi * (self.height/100)**2\n",
    "\n",
    "#インスタンスを生成\n",
    "taro = Customer(101, \"斎藤太郎\", 180)\n",
    "hanako = Customer(102, \"山田花子\", 160)\n",
    "\n",
    "#標準体重を表示\n",
    "print(f\"{taro.name}　標準体重:{taro.std_weight():.2f}kg\")\n",
    "print(f\"{hanako.name}　標準体重:{hanako.std_weight():.2f}kg\")"
   ]
  },
  {
   "cell_type": "code",
   "execution_count": 4,
   "id": "da383bc8",
   "metadata": {},
   "outputs": [
    {
     "name": "stdout",
     "output_type": "stream",
     "text": [
      "斎藤太郎 誕生日:1989-07-03\n"
     ]
    }
   ],
   "source": [
    "#クラスに変数やメソッドを動的に追加する\n",
    "from datetime import date\n",
    "class Customer:\n",
    "    bmi = 22\n",
    "    def __init__(self,number,name,height):\n",
    "        self.number = number\n",
    "        self.name = name\n",
    "        self.height = height\n",
    "    \n",
    "    def std_weight(self):\n",
    "        return Customer.bmi * (self.height/100)**2\n",
    "\n",
    "#インスタンスを生成\n",
    "taro = Customer(101, \"斎藤太郎\", 180)\n",
    "\n",
    "#インスタンス変数を追加\n",
    "taro.birthdate = date(1989,7,3)\n",
    "print(f\"{taro.name} 誕生日:{taro.birthdate}\")"
   ]
  },
  {
   "cell_type": "code",
   "execution_count": 8,
   "id": "3e5a6cc0",
   "metadata": {},
   "outputs": [
    {
     "name": "stdout",
     "output_type": "stream",
     "text": [
      "50\n",
      "50\n",
      "50\n"
     ]
    }
   ],
   "source": [
    "class Customer:\n",
    "    bmi = 22\n",
    "    def __init__(self,number,name,height):\n",
    "        self.number = number\n",
    "        self.name = name\n",
    "        self.height = height\n",
    "    \n",
    "    def std_weight(self):\n",
    "        return Customer.bmi * (self.height/100)**2\n",
    "\n",
    "#クラス変数を追加\n",
    "Customer.LIMIT = 50#定数は大文字\n",
    "    \n",
    "#インスタンスを生成\n",
    "taro = Customer(101, \"斎藤太郎\", 180)\n",
    "hanako = Customer(102, \"山田花子\", 160)\n",
    "\n",
    "print(taro.LIMIT)\n",
    "print(hanako.LIMIT)\n",
    "print(Customer.LIMIT)"
   ]
  },
  {
   "cell_type": "markdown",
   "id": "ac8aa304",
   "metadata": {},
   "source": [
    "インスタンス変数は、それぞれのインスタンスに保存されるのに対し、クラス変数はすべてのインスタンスで共有する"
   ]
  },
  {
   "cell_type": "code",
   "execution_count": 10,
   "id": "f76a1b9c",
   "metadata": {},
   "outputs": [
    {
     "name": "stdout",
     "output_type": "stream",
     "text": [
      "101: 斎藤太郎\n"
     ]
    }
   ],
   "source": [
    "#メゾットを動的に追加する\n",
    "class Customer:\n",
    "    bmi = 22\n",
    "    def __init__(self,number,name,height):\n",
    "        self.number = number\n",
    "        self.name = name\n",
    "        self.height = height\n",
    "    \n",
    "    def std_weight(self):\n",
    "        return Customer.bmi * (self.height/100)**2\n",
    "\n",
    "#メゾットを定義\n",
    "def show_info(self):\n",
    "    print(f\"{self.number}: {self.name}\")\n",
    "    \n",
    "#メゾットを追加\n",
    "Customer.show_info = show_info\n",
    "\n",
    "#インスタンスを生成\n",
    "taro = Customer(101, \"斎藤太郎\", 180)\n",
    "#追加したメゾットを実行\n",
    "taro.show_info()"
   ]
  },
  {
   "cell_type": "code",
   "execution_count": 23,
   "id": "18bfa7fa",
   "metadata": {},
   "outputs": [
    {
     "name": "stdout",
     "output_type": "stream",
     "text": [
      "99: 斎藤太郎 180cm\n"
     ]
    }
   ],
   "source": [
    "#アトリビュートを外部からアクセスできないようにする\n",
    "#このような操作をカプセル化という\n",
    "class Customer:\n",
    "    bmi = 22\n",
    "    def __init__(self,number,name,height):\n",
    "        self.__number = number\n",
    "        self.__name = name\n",
    "        self.__height = height#__を付けると外部から値を取得できない\n",
    "    \n",
    "    #nameのゲッターメゾット\n",
    "    def get_name(self):\n",
    "        return self.__name;#getメソッドを設定することで、外部から値を取得できる\n",
    "    \n",
    "    #numberのゲッターメソッド\n",
    "    def get_number(self):\n",
    "        return self.__number\n",
    "    \n",
    "    #numberのセッターメソッド \n",
    "    def set_number(self,number):\n",
    "        self.__number = number#setメソッドを設定することでさらに、外部から値を設定できる\n",
    "        \n",
    "    #heightのセッターメソッド\n",
    "    def get_height(self):\n",
    "        return self.__height#２つ合わせてアクセッサメゾットという。\n",
    "    \n",
    "    def std_weight(self):\n",
    "        return Customer.bmi * (self.height/100)**2\n",
    "\n",
    "#インスタンスを生成\n",
    "taro = Customer(101, \"斎藤太郎\", 180)\n",
    "\n",
    "#試しにゲッターメソッドを使用せずに値を取得しようとしてみる。\n",
    "# name = taro.__name;\n",
    "# number = taro.__number\n",
    "\n",
    "name = taro.get_name()\n",
    "taro.set_number(99)\n",
    "number = taro.get_number()\n",
    "height = taro.get_height()\n",
    "print(f\"{number}: {name} {height}cm\")"
   ]
  },
  {
   "cell_type": "code",
   "execution_count": 26,
   "id": "90d61047",
   "metadata": {
    "scrolled": true
   },
   "outputs": [
    {
     "name": "stdout",
     "output_type": "stream",
     "text": [
      "99: 斎藤太郎 180cm\n"
     ]
    }
   ],
   "source": [
    "#アクセッサメゾットをプロパティとして扱うには\n",
    "class Customer:\n",
    "    bmi = 22\n",
    "    def __init__(self,number,name,height):\n",
    "        self.__number = number\n",
    "        self.__name = name\n",
    "        self.__height = height\n",
    "    \n",
    "    #nameのゲッターメゾット\n",
    "    def get_name(self):\n",
    "        return self.__name;\n",
    "    \n",
    "    #numberのゲッターメソッド\n",
    "    def get_number(self):\n",
    "        return self.__number\n",
    "    \n",
    "    #numberのセッターメソッド \n",
    "    def set_number(self,number):\n",
    "        self.__number = number\n",
    "        \n",
    "    #heightのセッターメソッド\n",
    "    def get_height(self):\n",
    "        return self.__height\n",
    "    \n",
    "    def std_weight(self):\n",
    "        return Customer.bmi * (self.height/100)**2\n",
    "    \n",
    "    #プロパティ\n",
    "    name = property(get_name)#もともと、値を取得する際にname = taro.get_name()にする必要があったものを\n",
    "    # name = taro.nameでもOKにすることができる.\n",
    "    number = property(get_number,set_number)#numberはセッターメソッドも設定しているので、taro.set_name(値)ではなく、\n",
    "    # taro.name = 値 とすることができる。疑問なのは、なぜカプセル化した後に、プロパティなどで、設定を簡単にする必要がある？\n",
    "    #もとから、カプセル化しなければいいと思うのは俺だけ？？？\n",
    "    height = property(get_height)\n",
    "\n",
    "#インスタンスを生成\n",
    "taro = Customer(101, \"斎藤太郎\", 180)\n",
    "\n",
    "namae = taro.name\n",
    "#nameの方には、セッターメソッドをプロパティに設定していないのでエラーを吐く\n",
    "#taro.name = \"山田一郎\"\n",
    "taro.number = 99\n",
    "nanbaa = taro.number\n",
    "takasa = taro.height\n",
    "print(f\"{nanbaa}: {namae} {takasa}cm\")"
   ]
  },
  {
   "cell_type": "code",
   "execution_count": 30,
   "id": "ad1b7d7b",
   "metadata": {},
   "outputs": [
    {
     "name": "stdout",
     "output_type": "stream",
     "text": [
      "斎藤太郎　標準体重:71.28kg\n",
      "山田花子　標準体重:56.32kg\n"
     ]
    }
   ],
   "source": [
    "#オリジナルのクラスや関数をモジュールとして利用する\n",
    "#上のファイルをソースファイルとして[customer.py]として保存しておいた。\n",
    "#これをモジュールと同じようにインポートできる。モジュール名.クラス名()のように\n",
    "import customer\n",
    "\n",
    "taro = customer.Customer(101,\"斎藤太郎\",180)\n",
    "hanako = customer.Customer(102,\"山田花子\",160)\n",
    "\n",
    "print(f\"{taro.name}　標準体重:{taro.std_weight():.2f}kg\")\n",
    "print(f\"{hanako.name}　標準体重:{hanako.std_weight():.2f}kg\")"
   ]
  },
  {
   "cell_type": "code",
   "execution_count": 3,
   "id": "2d0c801e",
   "metadata": {},
   "outputs": [
    {
     "name": "stdout",
     "output_type": "stream",
     "text": [
      "斎藤太郎　標準体重:71.28kg\n",
      "山田花子　標準体重:56.32kg\n"
     ]
    }
   ],
   "source": [
    "from customer import Customer\n",
    "\n",
    "taro = Customer(101,\"斎藤太郎\",180)\n",
    "hanako = Customer(102,\"山田花子\",160)\n",
    "\n",
    "print(f\"{taro.name}　標準体重:{taro.std_weight():.2f}kg\")\n",
    "print(f\"{hanako.name}　標準体重:{hanako.std_weight():.2f}kg\")"
   ]
  },
  {
   "cell_type": "code",
   "execution_count": 3,
   "id": "57945314",
   "metadata": {},
   "outputs": [
    {
     "name": "stdout",
     "output_type": "stream",
     "text": [
      "斎藤太郎　標準体重:71.28kg\n"
     ]
    }
   ],
   "source": [
    "#モジュールにテスト用のステートメントを加える。\n",
    "if __name__ == \"__main__\":\n",
    "    taro = Customer(101,\"斎藤太郎\",180)\n",
    "    print(f\"{taro.name}　標準体重:{taro.std_weight():.2f}kg\")\n",
    "\n",
    "#変数__name__が__main__と等しければ、その下のブロックが実行。\n",
    "#普通に通常プログラムとして実行した場合は、__name__には__main__が格納される。\n",
    "#import文で、モジュールとしてインポートされた場合は、__name__にはファイル名が格納される。"
   ]
  },
  {
   "cell_type": "code",
   "execution_count": 27,
   "id": "dfa83cd3",
   "metadata": {},
   "outputs": [],
   "source": [
    "#クラスを継承する\n",
    "#継承元のクラスを「スーパークラス」、スーパークラスを継承したクラスを「サブクラス」という\n",
    "from customer import Customer\n",
    "from datetime import date\n",
    "\n",
    "class GoldCustomer(Customer):#customerクラスを継承している\n",
    "    def __init__(self, number, name, height=0, birthdate=0):#初期化メゾットを定義して新たに引数としてbirthdateを加えている\n",
    "        self.__birthdate = birthdate\n",
    "        super().__init__(number,name,height)#スーパークラスのメゾットを呼び出して初期化を行っている。\n",
    "        \n",
    "    #birthdateプロパティの設定\n",
    "    def get_birthdate(self):\n",
    "        return self.__birthdate\n",
    "    birthdate = property(get_birthdate)"
   ]
  },
  {
   "cell_type": "code",
   "execution_count": 28,
   "id": "6e3543c1",
   "metadata": {},
   "outputs": [
    {
     "name": "stdout",
     "output_type": "stream",
     "text": [
      "101 斎藤太郎　身長:180cm 標準体重:71.28kg 誕生日:1978-09-01\n"
     ]
    }
   ],
   "source": [
    "if __name__ == \"__main__\":\n",
    "    taro = GoldCustomer(101,\"斎藤太郎\",180,date(1978,9,1))\n",
    "    #スーパークラスのプロパティ\n",
    "    name = taro.name\n",
    "    number = taro.number\n",
    "    height = taro.height\n",
    "    #スーパークラスのメゾット\n",
    "    std_weight = taro.std_weight()\n",
    "    #サブクラスのインスタンス変数\n",
    "    birth = taro.birthdate\n",
    "    \n",
    "    print(f\"{number} {name}　身長:{height}cm 標準体重:{taro.std_weight():.2f}kg 誕生日:{birth}\")"
   ]
  },
  {
   "cell_type": "code",
   "execution_count": 34,
   "id": "aedfec4c",
   "metadata": {},
   "outputs": [],
   "source": [
    "class GoldCustomer(Customer):\n",
    "    def __init__(self, number, name, height=0, birthdate=0):\n",
    "        self.__birthdate = birthdate\n",
    "        super().__init__(number,name,height)\n",
    "        \n",
    "    #birthdateプロパティの設定\n",
    "    def get_birthdate(self):\n",
    "        return self.__birthdate\n",
    "    birthdate = property(get_birthdate)\n",
    "    \n",
    "    def get_age(self):\n",
    "        now = date.today()\n",
    "        age = now.year - self.birthdate.year\n",
    "        if (now.month,now.day) >= (self.birthdate.month,self.birthdate.day):\n",
    "            return age\n",
    "        else:\n",
    "            return age-1\n",
    "    age = property(get_age)"
   ]
  },
  {
   "cell_type": "code",
   "execution_count": 35,
   "id": "646abeb9",
   "metadata": {},
   "outputs": [
    {
     "name": "stdout",
     "output_type": "stream",
     "text": [
      "101 斎藤太郎　身長:180cm 標準体重:71.28kg 誕生日:1978-09-01\n",
      "年齢: 45\n"
     ]
    }
   ],
   "source": [
    "if __name__ == \"__main__\":\n",
    "    taro = GoldCustomer(101,\"斎藤太郎\",180,date(1978,9,1))\n",
    "    #スーパークラスのプロパティ\n",
    "    name = taro.name\n",
    "    number = taro.number\n",
    "    height = taro.height\n",
    "    #スーパークラスのメゾット\n",
    "    std_weight = taro.std_weight()\n",
    "    #サブクラスのプロパティ\n",
    "    birth = taro.birthdate\n",
    "    #サブクラスのメゾット\n",
    "    age = taro.age\n",
    "    \n",
    "    print(f\"{number} {name}　身長:{height}cm 標準体重:{taro.std_weight():.2f}kg 誕生日:{birth}\")\n",
    "    print(f\"年齢: {age}\")"
   ]
  },
  {
   "cell_type": "code",
   "execution_count": 37,
   "id": "0ea1146a",
   "metadata": {},
   "outputs": [
    {
     "name": "stdout",
     "output_type": "stream",
     "text": [
      "合計: 17\n",
      "[1, 4, 3, 0, 9, 0]\n"
     ]
    }
   ],
   "source": [
    "#組み込み型を継承する\n",
    "class Numlist(list):\n",
    "    #正の値を合計する\n",
    "    def sum_plus_value(self):\n",
    "        sum = 0\n",
    "        for n in self:\n",
    "            if n>0:\n",
    "                sum+=n\n",
    "        return sum\n",
    "    #負の値を0にする\n",
    "    def remove_minus_value(self):\n",
    "        for i in range(len(self)):\n",
    "            if self[i]<0:\n",
    "                self[i]=0\n",
    "\n",
    "if __name__ == \"__main__\":\n",
    "    lst = Numlist([1,2,3,-4,9,-9])\n",
    "    lst[1]=4\n",
    "    print(f\"合計: {lst.sum_plus_value()}\")\n",
    "    lst.remove_minus_value()\n",
    "    print(lst)"
   ]
  }
 ],
 "metadata": {
  "kernelspec": {
   "display_name": "Python 3 (ipykernel)",
   "language": "python",
   "name": "python3"
  },
  "language_info": {
   "codemirror_mode": {
    "name": "ipython",
    "version": 3
   },
   "file_extension": ".py",
   "mimetype": "text/x-python",
   "name": "python",
   "nbconvert_exporter": "python",
   "pygments_lexer": "ipython3",
   "version": "3.11.4"
  }
 },
 "nbformat": 4,
 "nbformat_minor": 5
}
