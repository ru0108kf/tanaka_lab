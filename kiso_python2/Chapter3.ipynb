{
 "cells": [
  {
   "cell_type": "code",
   "execution_count": 1,
   "id": "baf5abe7",
   "metadata": {},
   "outputs": [],
   "source": [
    "#プログラムの処理を分岐、繰り返す"
   ]
  },
  {
   "cell_type": "code",
   "execution_count": 2,
   "id": "360610fd",
   "metadata": {},
   "outputs": [
    {
     "data": {
      "text/plain": [
       "True"
      ]
     },
     "execution_count": 2,
     "metadata": {},
     "output_type": "execute_result"
    }
   ],
   "source": [
    "10>2"
   ]
  },
  {
   "cell_type": "code",
   "execution_count": 3,
   "id": "8224695c",
   "metadata": {},
   "outputs": [
    {
     "name": "stdout",
     "output_type": "stream",
     "text": [
      "点数80\n",
      "不合格\n"
     ]
    }
   ],
   "source": [
    "socore = int(input(\"点数\"))\n",
    "if socore>80:\n",
    "    print(\"合格\")\n",
    "else:\n",
    "    print(\"不合格\")"
   ]
  },
  {
   "cell_type": "code",
   "execution_count": 4,
   "id": "a1fa4ba6",
   "metadata": {},
   "outputs": [
    {
     "name": "stdout",
     "output_type": "stream",
     "text": [
      "点数80\n",
      "ぎり合格\n"
     ]
    }
   ],
   "source": [
    "socore = int(input(\"点数\"))#インデントが重要\n",
    "if socore>=81:\n",
    "    print(\"合格\")\n",
    "elif socore==80:\n",
    "    print(\"ぎり合格\")\n",
    "else:\n",
    "    print(\"不合格\")"
   ]
  },
  {
   "cell_type": "code",
   "execution_count": 5,
   "id": "3c6727c0",
   "metadata": {},
   "outputs": [
    {
     "name": "stdout",
     "output_type": "stream",
     "text": [
      "年齢を入力してください：23\n",
      "400円です\n"
     ]
    }
   ],
   "source": [
    "age = int(input(\"年齢を入力してください：\"))\n",
    "\n",
    "if age >= 0:\n",
    "    if age < 3:\n",
    "        print(\"無料です\")\n",
    "    elif age < 13:\n",
    "        print(\"200円です\")\n",
    "    elif age < 65:\n",
    "        print(\"400円です\")\n",
    "    else:\n",
    "        print(\"帰ってください\")\n",
    "else:\n",
    "    print(\"正の整数を入力してください\")"
   ]
  },
  {
   "cell_type": "code",
   "execution_count": 6,
   "id": "095750f3",
   "metadata": {},
   "outputs": [
    {
     "data": {
      "text/plain": [
       "False"
      ]
     },
     "execution_count": 6,
     "metadata": {},
     "output_type": "execute_result"
    }
   ],
   "source": [
    "#論理演算子　not and or\n",
    "not True"
   ]
  },
  {
   "cell_type": "code",
   "execution_count": 7,
   "id": "0800decf",
   "metadata": {},
   "outputs": [
    {
     "data": {
      "text/plain": [
       "True"
      ]
     },
     "execution_count": 7,
     "metadata": {},
     "output_type": "execute_result"
    }
   ],
   "source": [
    "not False"
   ]
  },
  {
   "cell_type": "code",
   "execution_count": 8,
   "id": "1b984c5b",
   "metadata": {},
   "outputs": [
    {
     "data": {
      "text/plain": [
       "False"
      ]
     },
     "execution_count": 8,
     "metadata": {},
     "output_type": "execute_result"
    }
   ],
   "source": [
    "True and False#かつ"
   ]
  },
  {
   "cell_type": "code",
   "execution_count": 9,
   "id": "1fe40c6b",
   "metadata": {},
   "outputs": [
    {
     "data": {
      "text/plain": [
       "True"
      ]
     },
     "execution_count": 9,
     "metadata": {},
     "output_type": "execute_result"
    }
   ],
   "source": [
    "True and True"
   ]
  },
  {
   "cell_type": "code",
   "execution_count": 10,
   "id": "817d67a2",
   "metadata": {},
   "outputs": [
    {
     "data": {
      "text/plain": [
       "True"
      ]
     },
     "execution_count": 10,
     "metadata": {},
     "output_type": "execute_result"
    }
   ],
   "source": [
    "True or False#または"
   ]
  },
  {
   "cell_type": "code",
   "execution_count": 11,
   "id": "aa50ebff",
   "metadata": {},
   "outputs": [
    {
     "data": {
      "text/plain": [
       "False"
      ]
     },
     "execution_count": 11,
     "metadata": {},
     "output_type": "execute_result"
    }
   ],
   "source": [
    "False or False"
   ]
  },
  {
   "cell_type": "code",
   "execution_count": 12,
   "id": "a65c46b5",
   "metadata": {},
   "outputs": [
    {
     "name": "stdout",
     "output_type": "stream",
     "text": [
      "年齢を入力してください：5\n",
      "七五三です\n"
     ]
    }
   ],
   "source": [
    "age = int(input(\"年齢を入力してください：\"))\n",
    "if (age==3)or(age==5)or(age==7):\n",
    "    print(\"七五三です\")"
   ]
  },
  {
   "cell_type": "code",
   "execution_count": 13,
   "id": "5f2c4dad",
   "metadata": {},
   "outputs": [
    {
     "name": "stdout",
     "output_type": "stream",
     "text": [
      "数字を入力してください：15\n",
      "100以上かつ3もしくは5の倍数です\n"
     ]
    }
   ],
   "source": [
    "#orよりもandが優先される\n",
    "num = int(input(\"数字を入力してください：\"))\n",
    "if (num%3==0)or(num%5==0)and(num>=100):\n",
    "    print(\"100以上かつ3もしくは5の倍数です\")"
   ]
  },
  {
   "cell_type": "code",
   "execution_count": 14,
   "id": "dceb7685",
   "metadata": {},
   "outputs": [
    {
     "name": "stdout",
     "output_type": "stream",
     "text": [
      "数字を入力してください：15\n"
     ]
    }
   ],
   "source": [
    "num = int(input(\"数字を入力してください：\"))\n",
    "if ((num%3==0)or(num%5==0))and(num>=100):\n",
    "    print(\"100以上かつ3もしくは5の倍数です\")"
   ]
  },
  {
   "cell_type": "code",
   "execution_count": 15,
   "id": "0dbc7c76",
   "metadata": {},
   "outputs": [
    {
     "name": "stdout",
     "output_type": "stream",
     "text": [
      "数値を入力してください23\n",
      "数値2を入力してください13\n",
      "[1]\n"
     ]
    }
   ],
   "source": [
    "#公約数を全て求める\n",
    "num1 = int(input(\"数値を入力してください\"))\n",
    "num2 = int(input(\"数値2を入力してください\"))\n",
    "\n",
    "def common_divisor(a, b):\n",
    "    arr = []\n",
    "    for i in range(1, min(a, b) + 1):\n",
    "        if a % i == 0 and b % i == 0:\n",
    "            arr.append(i)\n",
    "    return arr\n",
    "\n",
    "print(common_divisor(num1, num2))"
   ]
  },
  {
   "cell_type": "code",
   "execution_count": 16,
   "id": "981d4b60",
   "metadata": {},
   "outputs": [
    {
     "name": "stdout",
     "output_type": "stream",
     "text": [
      "月:12\n",
      "冬\n"
     ]
    }
   ],
   "source": [
    "month = int(input(\"月:\"))\n",
    "\n",
    "if (month == 12)or(month==1)or(month==2):\n",
    "    print(\"冬\")\n",
    "elif (month>=3)and(month<=5):\n",
    "    print(\"春\")\n",
    "elif 6<=month<=8:#どっちでもOK\n",
    "    print(\"夏\")\n",
    "elif month in (9,10,11):#in演算子\n",
    "    print(\"秋\")\n",
    "else:\n",
    "    print(\"1から12までの数値を入力してください\")"
   ]
  },
  {
   "cell_type": "code",
   "execution_count": 17,
   "id": "c0fa6a07",
   "metadata": {},
   "outputs": [
    {
     "name": "stdout",
     "output_type": "stream",
     "text": [
      "年齢を入力してください:23\n",
      "成人\n"
     ]
    }
   ],
   "source": [
    "print(\"未成年\"if int(input(\"年齢を入力してください:\"))<20 else \"成人\")#条件演算式"
   ]
  },
  {
   "cell_type": "code",
   "execution_count": 18,
   "id": "085d2c3c",
   "metadata": {},
   "outputs": [
    {
     "data": {
      "text/plain": [
       "5"
      ]
     },
     "execution_count": 18,
     "metadata": {},
     "output_type": "execute_result"
    }
   ],
   "source": [
    "True + False + 4#trueやfalseは1,0として扱える"
   ]
  },
  {
   "cell_type": "code",
   "execution_count": 19,
   "id": "70b602b4",
   "metadata": {},
   "outputs": [
    {
     "name": "stdout",
     "output_type": "stream",
     "text": [
      "1\n",
      "2\n",
      "3\n",
      "4\n"
     ]
    }
   ],
   "source": [
    "#ループ処理\n",
    "for n in [1,2,3,4]:\n",
    "    print(n)"
   ]
  },
  {
   "cell_type": "code",
   "execution_count": 20,
   "id": "7b0f6eb3",
   "metadata": {},
   "outputs": [
    {
     "name": "stdout",
     "output_type": "stream",
     "text": [
      "a\n",
      "b\n",
      "c\n",
      "d\n",
      "e\n",
      "f\n"
     ]
    }
   ],
   "source": [
    "itr=iter(\"abcdef\")\n",
    "print(next(itr))\n",
    "print(next(itr))\n",
    "print(next(itr))\n",
    "print(next(itr))\n",
    "print(next(itr))\n",
    "print(next(itr))"
   ]
  },
  {
   "cell_type": "code",
   "execution_count": 21,
   "id": "6174679b",
   "metadata": {},
   "outputs": [
    {
     "ename": "StopIteration",
     "evalue": "",
     "output_type": "error",
     "traceback": [
      "\u001b[1;31m---------------------------------------------------------------------------\u001b[0m",
      "\u001b[1;31mStopIteration\u001b[0m                             Traceback (most recent call last)",
      "Cell \u001b[1;32mIn[21], line 1\u001b[0m\n\u001b[1;32m----> 1\u001b[0m \u001b[38;5;28mnext\u001b[39m(itr)\n",
      "\u001b[1;31mStopIteration\u001b[0m: "
     ]
    }
   ],
   "source": [
    "next(itr)#エラー、要素がなくなったから"
   ]
  },
  {
   "cell_type": "code",
   "execution_count": 22,
   "id": "6ea7c900",
   "metadata": {},
   "outputs": [
    {
     "ename": "SyntaxError",
     "evalue": "invalid syntax (4110618625.py, line 2)",
     "output_type": "error",
     "traceback": [
      "\u001b[1;36m  Cell \u001b[1;32mIn[22], line 2\u001b[1;36m\u001b[0m\n\u001b[1;33m    for n:\u001b[0m\n\u001b[1;37m         ^\u001b[0m\n\u001b[1;31mSyntaxError\u001b[0m\u001b[1;31m:\u001b[0m invalid syntax\n"
     ]
    }
   ],
   "source": [
    "r = random.randrange(1)\n",
    "for n:\n",
    "    \n",
    "print(\"ssr\"if r==1 else \"sr\")\n"
   ]
  },
  {
   "cell_type": "code",
   "execution_count": 23,
   "id": "6c944680",
   "metadata": {},
   "outputs": [
    {
     "name": "stdout",
     "output_type": "stream",
     "text": [
      "3\n",
      "6\n",
      "9\n",
      "12\n",
      "15\n",
      "18\n",
      "21\n",
      "24\n",
      "27\n",
      "30\n"
     ]
    }
   ],
   "source": [
    "for a in range(3,31,3):\n",
    "    print(a)"
   ]
  },
  {
   "cell_type": "code",
   "execution_count": 24,
   "id": "17f7deae",
   "metadata": {},
   "outputs": [
    {
     "name": "stdout",
     "output_type": "stream",
     "text": [
      "10\n",
      "9\n",
      "8\n",
      "7\n",
      "6\n",
      "5\n",
      "4\n",
      "3\n",
      "2\n",
      "1\n",
      "0\n"
     ]
    }
   ],
   "source": [
    "for a in range(10,-1,-1):#カウントダウン\n",
    "    print(a)"
   ]
  },
  {
   "cell_type": "code",
   "execution_count": 25,
   "id": "69cf5e0a",
   "metadata": {},
   "outputs": [
    {
     "name": "stdout",
     "output_type": "stream",
     "text": [
      "数値を入力してください20\n",
      "210\n"
     ]
    }
   ],
   "source": [
    "end = int(input(\"数値を入力してください\"))#合計\n",
    "\n",
    "sum=0\n",
    "for n in range(1,end+1):\n",
    "    sum+=n\n",
    "\n",
    "print(sum)"
   ]
  },
  {
   "cell_type": "code",
   "execution_count": 26,
   "id": "4b8b8f83",
   "metadata": {},
   "outputs": [
    {
     "data": {
      "text/plain": [
       "[0, 10, 20, 30, 40, 50, 60, 70, 80, 90, 100]"
      ]
     },
     "execution_count": 26,
     "metadata": {},
     "output_type": "execute_result"
    }
   ],
   "source": [
    "list(range(0,101,10))#listに格納"
   ]
  },
  {
   "cell_type": "code",
   "execution_count": 27,
   "id": "68711922",
   "metadata": {},
   "outputs": [
    {
     "name": "stdout",
     "output_type": "stream",
     "text": [
      "数値を入力してください10\n",
      "55\n"
     ]
    }
   ],
   "source": [
    "end = int(input(\"数値を入力してください\"))#while文,条件が成り立つ間ループ処理を行う\n",
    "\n",
    "sum=0\n",
    "counter=0\n",
    "while counter<=end:\n",
    "    sum=sum+counter\n",
    "    counter+=1\n",
    "\n",
    "print(sum)"
   ]
  },
  {
   "cell_type": "code",
   "execution_count": 28,
   "id": "ea2da07f",
   "metadata": {},
   "outputs": [
    {
     "name": "stdout",
     "output_type": "stream",
     "text": [
      "パスワードを入力してくださいpassword\n",
      "yes\n"
     ]
    }
   ],
   "source": [
    "password=\"password\"\n",
    "while True:\n",
    "    word=input(\"パスワードを入力してください\")\n",
    "    if word==password:\n",
    "        print(\"yes\")\n",
    "        break\n",
    "    else:\n",
    "        print(\"no\")"
   ]
  },
  {
   "cell_type": "code",
   "execution_count": 29,
   "id": "037d2402",
   "metadata": {},
   "outputs": [
    {
     "name": "stdout",
     "output_type": "stream",
     "text": [
      "数字を入力:20\n",
      "19\n",
      "17\n",
      "15\n",
      "13\n",
      "11\n",
      "9\n",
      "7\n",
      "5\n",
      "3\n",
      "1\n"
     ]
    }
   ],
   "source": [
    "num=int(input(\"数字を入力:\"))\n",
    "numlist=list(range(num,-1,-1))\n",
    "\n",
    "for n in numlist:\n",
    "    if n%2==0:\n",
    "        continue#nが2で割り切れたら進まず、戻る\n",
    "    print(n)"
   ]
  },
  {
   "cell_type": "code",
   "execution_count": 30,
   "id": "2d982541",
   "metadata": {},
   "outputs": [
    {
     "name": "stdout",
     "output_type": "stream",
     "text": [
      "1: フランス\n",
      "2: アメリカ\n",
      "3: 中国\n",
      "4: ドイツ\n",
      "5: 日本\n"
     ]
    }
   ],
   "source": [
    "countries=[\"フランス\",\"アメリカ\",\"中国\",\"ドイツ\",\"日本\"]\n",
    "\n",
    "count=0\n",
    "for country in countries:#カウンタ用の変数を用意\n",
    "    count += 1\n",
    "    print(str(count)+\": \"+country)"
   ]
  },
  {
   "cell_type": "code",
   "execution_count": 31,
   "id": "4ac50f83",
   "metadata": {},
   "outputs": [
    {
     "name": "stdout",
     "output_type": "stream",
     "text": [
      "1: フランス\n",
      "2: アメリカ\n",
      "3: 中国\n",
      "4: ドイツ\n",
      "5: 日本\n"
     ]
    }
   ],
   "source": [
    "for num in range(len(countries)):#range関数を利用\n",
    "    print(str(num+1)+\": \"+countries[num])"
   ]
  },
  {
   "cell_type": "code",
   "execution_count": 32,
   "id": "f9633d26",
   "metadata": {},
   "outputs": [
    {
     "name": "stdout",
     "output_type": "stream",
     "text": [
      "0 フランス\n",
      "1 アメリカ\n",
      "2 中国\n",
      "3 ドイツ\n",
      "4 日本\n"
     ]
    }
   ],
   "source": [
    "for index,country in enumerate(countries):\n",
    "    print(index,country)"
   ]
  },
  {
   "cell_type": "code",
   "execution_count": 33,
   "id": "3e874672",
   "metadata": {},
   "outputs": [
    {
     "name": "stdout",
     "output_type": "stream",
     "text": [
      "sum 日\n",
      "mon 月\n",
      "tue 火\n",
      "wed 水\n",
      "thu 木\n",
      "fri 金\n",
      "sat 土\n"
     ]
    }
   ],
   "source": [
    "weekday1=[\"sum\",\"mon\",\"tue\",\"wed\",\"thu\",\"fri\",\"sat\"]\n",
    "weekday2=[\"日\",\"月\",\"火\",\"水\",\"木\",\"金\",\"土\"]\n",
    "\n",
    "for (eng,jpn)in zip(weekday1,weekday2):\n",
    "    print(eng,jpn)"
   ]
  },
  {
   "cell_type": "code",
   "execution_count": 34,
   "id": "2d0d1d38",
   "metadata": {},
   "outputs": [
    {
     "name": "stdout",
     "output_type": "stream",
     "text": [
      "旅行\n",
      "桜\n",
      "テレビ\n",
      "*ループを中断しました\n"
     ]
    }
   ],
   "source": [
    "words=[\"旅行\",\"桜\",\"テレビ\",\"終了\",\"岸辺\",\"ラジオ\"]#ループが完了した場合の処理\n",
    "\n",
    "for word in words:\n",
    "    if word == \"終了\":\n",
    "        print(\"*ループを中断しました\")\n",
    "        break\n",
    "    print(word)\n",
    "else:\n",
    "    print(\"*ループを終了しました\")"
   ]
  },
  {
   "cell_type": "code",
   "execution_count": 35,
   "id": "017c9ab4",
   "metadata": {},
   "outputs": [
    {
     "name": "stdout",
     "output_type": "stream",
     "text": [
      "点数を入力してください: 80\n",
      "合格\n"
     ]
    }
   ],
   "source": [
    "#例外を処理するanacondaではうまく動かない\n",
    "import sys\n",
    "try:\n",
    "    score = int(input(\"点数を入力してください: \"))\n",
    "except ValueError:\n",
    "    print(\"数値を入力してください\")\n",
    "    sys.exit()\n",
    "\n",
    "if score>=80:\n",
    "    print(\"合格\")\n",
    "else:\n",
    "    print(\"不合格\")"
   ]
  },
  {
   "cell_type": "code",
   "execution_count": 36,
   "id": "227d8888",
   "metadata": {},
   "outputs": [
    {
     "name": "stdout",
     "output_type": "stream",
     "text": [
      "点数を入力してください: 19\n",
      "不合格\n"
     ]
    }
   ],
   "source": [
    "import sys\n",
    "try:\n",
    "    score = int(input(\"点数を入力してください: \"))\n",
    "except:#任意の例外を捕まえる\n",
    "    print(\"数値を入力してください\")\n",
    "    sys.exit()\n",
    "\n",
    "if score>=80:\n",
    "    print(\"合格\")\n",
    "else:\n",
    "    print(\"不合格\")"
   ]
  }
 ],
 "metadata": {
  "kernelspec": {
   "display_name": "Python 3 (ipykernel)",
   "language": "python",
   "name": "python3"
  },
  "language_info": {
   "codemirror_mode": {
    "name": "ipython",
    "version": 3
   },
   "file_extension": ".py",
   "mimetype": "text/x-python",
   "name": "python",
   "nbconvert_exporter": "python",
   "pygments_lexer": "ipython3",
   "version": "3.11.4"
  }
 },
 "nbformat": 4,
 "nbformat_minor": 5
}
