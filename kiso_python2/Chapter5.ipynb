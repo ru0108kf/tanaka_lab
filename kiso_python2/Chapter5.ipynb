{
 "cells": [
  {
   "cell_type": "raw",
   "id": "c779f96f",
   "metadata": {},
   "source": [
    "オリジナルの関数を作成する"
   ]
  },
  {
   "cell_type": "code",
   "execution_count": 11,
   "id": "ffadcc96",
   "metadata": {},
   "outputs": [
    {
     "name": "stdout",
     "output_type": "stream",
     "text": [
      "為替レート:149\n",
      "100ドルは14900円\n",
      "為替レート:149\n",
      "150ドルは22350円\n"
     ]
    }
   ],
   "source": [
    "def dollar_to_yen(dollar,rate):\n",
    "    return dollar*rate\n",
    "\n",
    "yen=dollar_to_yen(100,149)\n",
    "print(\"為替レート:149\")\n",
    "print(f\"100ドルは{yen}円\")\n",
    "\n",
    "rate=149\n",
    "dollar=150\n",
    "yen=dollar_to_yen(dollar,rate)\n",
    "print(f\"為替レート:{rate}\")\n",
    "print(f\"{dollar}ドルは{yen}円\")"
   ]
  },
  {
   "cell_type": "code",
   "execution_count": 2,
   "id": "ac51f150",
   "metadata": {},
   "outputs": [
    {
     "name": "stdout",
     "output_type": "stream",
     "text": [
      "3\n"
     ]
    }
   ],
   "source": [
    "def test1(num):\n",
    "    #関数の内部で引数を変更\n",
    "    num+=10\n",
    "n=3\n",
    "test1(n)\n",
    "print(n)#"
   ]
  },
  {
   "cell_type": "code",
   "execution_count": 3,
   "id": "4827d710",
   "metadata": {},
   "outputs": [
    {
     "name": "stdout",
     "output_type": "stream",
     "text": [
      "num:140705246712680\n",
      "num:140705246713000\n",
      "3\n"
     ]
    }
   ],
   "source": [
    "def test1(num):\n",
    "    print(f\"num:{id(num)}\")\n",
    "    num+=10\n",
    "    print(f\"num:{id(num)}\")\n",
    "n=3\n",
    "test1(n)\n",
    "print(n)#id番号が違うから変更されない"
   ]
  },
  {
   "cell_type": "code",
   "execution_count": 4,
   "id": "97e25c9d",
   "metadata": {},
   "outputs": [
    {
     "name": "stdout",
     "output_type": "stream",
     "text": [
      "lst:3006130461120\n",
      "lst:3006130461120\n",
      "[0, 2, 3, 100]\n"
     ]
    }
   ],
   "source": [
    "def test2(lst):\n",
    "    print(f\"lst:{id(lst)}\")\n",
    "    lst[0]=0\n",
    "    lst.append(100)\n",
    "    print(f\"lst:{id(lst)}\")\n",
    "l=[1,2,3]\n",
    "test2(l)\n",
    "print(l)#リストはミュータブルなので変更できる"
   ]
  },
  {
   "cell_type": "code",
   "execution_count": 5,
   "id": "9827f28d",
   "metadata": {},
   "outputs": [
    {
     "name": "stdout",
     "output_type": "stream",
     "text": [
      "1\n"
     ]
    }
   ],
   "source": [
    "#スコープ\n",
    "value=1\n",
    "def scope_test1():\n",
    "    print(value)\n",
    "\n",
    "scope_test1()"
   ]
  },
  {
   "cell_type": "code",
   "execution_count": 6,
   "id": "0c3a1373",
   "metadata": {},
   "outputs": [
    {
     "ename": "NameError",
     "evalue": "name 'value2' is not defined",
     "output_type": "error",
     "traceback": [
      "\u001b[1;31m---------------------------------------------------------------------------\u001b[0m",
      "\u001b[1;31mNameError\u001b[0m                                 Traceback (most recent call last)",
      "Cell \u001b[1;32mIn[6], line 3\u001b[0m\n\u001b[0;32m      1\u001b[0m \u001b[38;5;28;01mdef\u001b[39;00m \u001b[38;5;21mscope_test2\u001b[39m():\n\u001b[0;32m      2\u001b[0m     value2\u001b[38;5;241m=\u001b[39m\u001b[38;5;241m1\u001b[39m\n\u001b[1;32m----> 3\u001b[0m \u001b[38;5;28mprint\u001b[39m(value2)\n",
      "\u001b[1;31mNameError\u001b[0m: name 'value2' is not defined"
     ]
    }
   ],
   "source": [
    "def scope_test2():\n",
    "    value2=1\n",
    "print(value2)"
   ]
  },
  {
   "cell_type": "code",
   "execution_count": 7,
   "id": "f6ef650b",
   "metadata": {},
   "outputs": [
    {
     "name": "stdout",
     "output_type": "stream",
     "text": [
      "内部 100\n",
      "外部 1\n"
     ]
    }
   ],
   "source": [
    "value3=1\n",
    "def scope_test3():\n",
    "    value3=100\n",
    "    print(\"内部\",value3)\n",
    "\n",
    "scope_test3()\n",
    "print(\"外部\",value3)"
   ]
  },
  {
   "cell_type": "code",
   "execution_count": 8,
   "id": "0cab74be",
   "metadata": {},
   "outputs": [
    {
     "name": "stdout",
     "output_type": "stream",
     "text": [
      "内部 100\n",
      "外部 100\n"
     ]
    }
   ],
   "source": [
    "value3=1\n",
    "def scope_test3():\n",
    "    global value3#グローバル変数に変更\n",
    "    value3=100\n",
    "    print(\"内部\",value3)\n",
    "\n",
    "scope_test3()\n",
    "print(\"外部\",value3)"
   ]
  },
  {
   "cell_type": "code",
   "execution_count": 12,
   "id": "daac408f",
   "metadata": {},
   "outputs": [
    {
     "name": "stdout",
     "output_type": "stream",
     "text": [
      "3 4\n",
      "2016 1 3 Hello Python\n"
     ]
    }
   ],
   "source": [
    "print(3,4)\n",
    "print(2016,1,3,\"Hello\",\"Python\")"
   ]
  },
  {
   "cell_type": "code",
   "execution_count": 19,
   "id": "4a1f787a",
   "metadata": {},
   "outputs": [],
   "source": [
    "#このような引数を可変長引数という\n",
    "#たくさんの引数を同時に受け取れる。定義するときは＊を引数の前に置くといい。"
   ]
  },
  {
   "cell_type": "code",
   "execution_count": 18,
   "id": "783f6741",
   "metadata": {},
   "outputs": [
    {
     "name": "stdout",
     "output_type": "stream",
     "text": [
      "1-2-Hello-python\n"
     ]
    }
   ],
   "source": [
    "print(1,2,\"Hello\",\"python\",sep=\"-\")"
   ]
  },
  {
   "cell_type": "code",
   "execution_count": 20,
   "id": "5c20249a",
   "metadata": {},
   "outputs": [
    {
     "name": "stdout",
     "output_type": "stream",
     "text": [
      "1 (2, 3, 4)\n",
      "hello ('Python', 2015, 3, 5)\n"
     ]
    }
   ],
   "source": [
    "def func(arg1,*arg2):\n",
    "    print(arg1,arg2)\n",
    "\n",
    "func(1,2,3,4)\n",
    "func(\"hello\",\"Python\",2015,3,5)#2番目以降の引数がタプルとなって出力される"
   ]
  },
  {
   "cell_type": "code",
   "execution_count": 21,
   "id": "f476565b",
   "metadata": {},
   "outputs": [
    {
     "ename": "TypeError",
     "evalue": "func() missing 1 required keyword-only argument: 'arg2'",
     "output_type": "error",
     "traceback": [
      "\u001b[1;31m---------------------------------------------------------------------------\u001b[0m",
      "\u001b[1;31mTypeError\u001b[0m                                 Traceback (most recent call last)",
      "Cell \u001b[1;32mIn[21], line 5\u001b[0m\n\u001b[0;32m      2\u001b[0m \u001b[38;5;28;01mdef\u001b[39;00m \u001b[38;5;21mfunc\u001b[39m(\u001b[38;5;241m*\u001b[39marg1,arg2):\n\u001b[0;32m      3\u001b[0m     \u001b[38;5;28mprint\u001b[39m(arg1,arg2)\n\u001b[1;32m----> 5\u001b[0m func(\u001b[38;5;241m1\u001b[39m,\u001b[38;5;241m2\u001b[39m,\u001b[38;5;241m3\u001b[39m,\u001b[38;5;241m4\u001b[39m)\n\u001b[0;32m      6\u001b[0m func(\u001b[38;5;124m\"\u001b[39m\u001b[38;5;124mhello\u001b[39m\u001b[38;5;124m\"\u001b[39m,\u001b[38;5;124m\"\u001b[39m\u001b[38;5;124mPython\u001b[39m\u001b[38;5;124m\"\u001b[39m,\u001b[38;5;241m2015\u001b[39m,\u001b[38;5;241m3\u001b[39m,\u001b[38;5;241m5\u001b[39m)\n",
      "\u001b[1;31mTypeError\u001b[0m: func() missing 1 required keyword-only argument: 'arg2'"
     ]
    }
   ],
   "source": [
    "#引数の順番に注意\n",
    "def func(*arg1,arg2):\n",
    "    print(arg1,arg2)\n",
    "\n",
    "func(1,2,3,4)\n",
    "func(\"hello\",\"Python\",2015,3,5)"
   ]
  },
  {
   "cell_type": "code",
   "execution_count": 23,
   "id": "8055fa94",
   "metadata": {},
   "outputs": [
    {
     "name": "stdout",
     "output_type": "stream",
     "text": [
      "(1, 2, 3) 4\n",
      "('hello', 'Python', 2015, 3) 5\n"
     ]
    }
   ],
   "source": [
    "def func(*arg1,arg2):\n",
    "    print(arg1,arg2)\n",
    "\n",
    "func(1,2,3,arg2=4)#キーワード引数にして呼び出せば解決する\n",
    "func(\"hello\",\"Python\",2015,3,arg2=5)"
   ]
  },
  {
   "cell_type": "code",
   "execution_count": 24,
   "id": "0a9e99a1",
   "metadata": {},
   "outputs": [
    {
     "name": "stdout",
     "output_type": "stream",
     "text": [
      "6.75\n"
     ]
    }
   ],
   "source": [
    "def average(*nums):\n",
    "    sum=0\n",
    "    for n in nums:\n",
    "        sum+=n\n",
    "    return sum/len(nums)\n",
    "print(average(3,6,8,10))"
   ]
  },
  {
   "cell_type": "code",
   "execution_count": 25,
   "id": "33f69896",
   "metadata": {},
   "outputs": [
    {
     "name": "stdout",
     "output_type": "stream",
     "text": [
      "28.25\n"
     ]
    }
   ],
   "source": [
    "def average2(*nums):\n",
    "    return sum(nums)/len(nums)\n",
    "print(average2(1,2,10,100))"
   ]
  },
  {
   "cell_type": "code",
   "execution_count": 27,
   "id": "6e121915",
   "metadata": {},
   "outputs": [
    {
     "name": "stdout",
     "output_type": "stream",
     "text": [
      "{'name': '田中一郎', 'num': 1}\n",
      "{'name': '山田太郎', 'age': 59, 'num': 2, 'point': 60}\n"
     ]
    }
   ],
   "source": [
    "#キーワード引数を辞書として受け取る\n",
    "def func(**dic):\n",
    "    print(dic)\n",
    "\n",
    "func(name=\"田中一郎\",num=1)\n",
    "func(name=\"山田太郎\",age=59,num=2,point=60)"
   ]
  },
  {
   "cell_type": "code",
   "execution_count": 1,
   "id": "2f190d46",
   "metadata": {},
   "outputs": [],
   "source": [
    "def func(arg,**dic):\n",
    "    print(dic)"
   ]
  },
  {
   "cell_type": "code",
   "execution_count": 2,
   "id": "3f0fdd31",
   "metadata": {},
   "outputs": [
    {
     "ename": "SyntaxError",
     "evalue": "arguments cannot follow var-keyword argument (545409612.py, line 1)",
     "output_type": "error",
     "traceback": [
      "\u001b[1;36m  Cell \u001b[1;32mIn[2], line 1\u001b[1;36m\u001b[0m\n\u001b[1;33m    def func(**dic,arg):\u001b[0m\n\u001b[1;37m                   ^\u001b[0m\n\u001b[1;31mSyntaxError\u001b[0m\u001b[1;31m:\u001b[0m arguments cannot follow var-keyword argument\n"
     ]
    }
   ],
   "source": [
    "def func(**dic,arg):#順番に注意\n",
    "    print(dic)"
   ]
  },
  {
   "cell_type": "code",
   "execution_count": 3,
   "id": "1dc22c38",
   "metadata": {},
   "outputs": [
    {
     "name": "stdout",
     "output_type": "stream",
     "text": [
      "4\n",
      "2\n"
     ]
    }
   ],
   "source": [
    "#lambda式で無名関数を定義する\n",
    "def smaller(num1,num2):\n",
    "    return num2 if num1>num2 else num1\n",
    "\n",
    "print(smaller(4,8))\n",
    "print(smaller(9,2))"
   ]
  },
  {
   "cell_type": "code",
   "execution_count": 4,
   "id": "7426747c",
   "metadata": {},
   "outputs": [
    {
     "name": "stdout",
     "output_type": "stream",
     "text": [
      "7\n",
      "2\n"
     ]
    }
   ],
   "source": [
    "smaller = lambda num1,num2:num2 if num1>num2 else num1\n",
    "\n",
    "print(smaller(7,9))\n",
    "print(smaller(19,2))"
   ]
  },
  {
   "cell_type": "code",
   "execution_count": 10,
   "id": "ea663a8c",
   "metadata": {},
   "outputs": [
    {
     "data": {
      "text/plain": [
       "745"
      ]
     },
     "execution_count": 10,
     "metadata": {},
     "output_type": "execute_result"
    }
   ],
   "source": [
    "dollar_to_yen = lambda dollar,rate=149:rate*dollar\n",
    "dollar_to_yen(dollar=5)"
   ]
  },
  {
   "cell_type": "code",
   "execution_count": 11,
   "id": "ef1f0cd6",
   "metadata": {},
   "outputs": [
    {
     "data": {
      "text/plain": [
       "7.25"
      ]
     },
     "execution_count": 11,
     "metadata": {},
     "output_type": "execute_result"
    }
   ],
   "source": [
    "average = lambda *nums:sum(nums)/len(nums)\n",
    "average(5,7,8,9)"
   ]
  },
  {
   "cell_type": "code",
   "execution_count": 12,
   "id": "5b1e855b",
   "metadata": {},
   "outputs": [
    {
     "name": "stdout",
     "output_type": "stream",
     "text": [
      "15.24\n",
      "20.32\n",
      "15.24\n",
      "10.16\n",
      "13.97\n",
      "17.272\n",
      "25.4\n"
     ]
    }
   ],
   "source": [
    "#関数を活用する\n",
    "def to_cm(inch):\n",
    "    return inch*2.54\n",
    "\n",
    "inches=[6,8,6,4,5.5,6.8,10]\n",
    "for cm in map(to_cm,inches):#map(関数,リスト)\n",
    "    print(cm)"
   ]
  },
  {
   "cell_type": "code",
   "execution_count": 13,
   "id": "c542db7b",
   "metadata": {},
   "outputs": [
    {
     "name": "stdout",
     "output_type": "stream",
     "text": [
      "[15.24, 20.32, 15.24, 10.16, 13.97, 17.272, 25.4]\n"
     ]
    }
   ],
   "source": [
    "#map関数の結果をリストに変換\n",
    "def to_cm(inch):\n",
    "    return inch*2.54\n",
    "\n",
    "inches=[6,8,6,4,5.5,6.8,10]\n",
    "cms=list(map(to_cm,inches))\n",
    "print(cms)"
   ]
  },
  {
   "cell_type": "code",
   "execution_count": 14,
   "id": "92a9beab",
   "metadata": {},
   "outputs": [
    {
     "name": "stdout",
     "output_type": "stream",
     "text": [
      "[15.24, 20.32, 15.24, 10.16, 13.97, 17.272, 25.4]\n"
     ]
    }
   ],
   "source": [
    "inches=[6,8,6,4,5.5,6.8,10]\n",
    "cms=list(map(lambda n:n*2.54,inches))#無名関数でもOK\n",
    "print(cms)"
   ]
  },
  {
   "cell_type": "code",
   "execution_count": 15,
   "id": "7b2ce39e",
   "metadata": {},
   "outputs": [
    {
     "name": "stdout",
     "output_type": "stream",
     "text": [
      "[15.24, 20.32, 15.24, 10.16, 13.97, 17.272, 25.4]\n"
     ]
    }
   ],
   "source": [
    "inches=[6,8,6,4,5.5,6.8,10]\n",
    "cms=[n*2.54 for n in inches]#リストの内包処理\n",
    "print(cms)"
   ]
  },
  {
   "cell_type": "code",
   "execution_count": 16,
   "id": "9dde9967",
   "metadata": {},
   "outputs": [
    {
     "name": "stdout",
     "output_type": "stream",
     "text": [
      "[15.24, 20.32, 15.24, 13.97, 17.272, 25.4]\n"
     ]
    }
   ],
   "source": [
    "#リストの要素をフィルタリングする\n",
    "#filer(関数,リスト)リストの要素に対して、関数でTrueとなる要素を戻す\n",
    "def larger_5(inch):\n",
    "    return inch>5\n",
    "\n",
    "inches=[6,8,6,4,5.5,6.8,10]\n",
    "cms=[]\n",
    "for inch in filter(larger_5,inches):\n",
    "    cms.append(inch*2.54)\n",
    "    \n",
    "print(cms)"
   ]
  },
  {
   "cell_type": "code",
   "execution_count": 28,
   "id": "80aa1ebf",
   "metadata": {},
   "outputs": [
    {
     "name": "stdout",
     "output_type": "stream",
     "text": [
      "[15.24, 20.32, 15.24, 13.97, 17.272, 25.4]\n"
     ]
    }
   ],
   "source": [
    "cms=[]\n",
    "for inch in filter(lambda inch:inch>5,inches):\n",
    "    cms.append(inch*2.54)\n",
    "    \n",
    "print(cms)"
   ]
  },
  {
   "cell_type": "code",
   "execution_count": 20,
   "id": "0178e22d",
   "metadata": {},
   "outputs": [
    {
     "name": "stdout",
     "output_type": "stream",
     "text": [
      "[15.24, 20.32, 15.24, 13.97, 17.272, 25.4]\n"
     ]
    }
   ],
   "source": [
    "cms=[inch*2.54 for inch in inches if inch>5]\n",
    "print(cms)"
   ]
  },
  {
   "cell_type": "code",
   "execution_count": 21,
   "id": "766a6af2",
   "metadata": {},
   "outputs": [
    {
     "name": "stdout",
     "output_type": "stream",
     "text": [
      "[15.24, 20.32, 15.24, 13.97, 17.272, 25.4]\n"
     ]
    }
   ],
   "source": [
    "cms = list(map(lambda inch:inch*2.54,filter(lambda inch:inch>5,inches)))\n",
    "print(cms)"
   ]
  },
  {
   "cell_type": "code",
   "execution_count": 23,
   "id": "88d46c23",
   "metadata": {},
   "outputs": [
    {
     "name": "stdout",
     "output_type": "stream",
     "text": [
      "['ABC', 'Bad', 'Foo', 'Woo', 'and', 'fly', 'good']\n"
     ]
    }
   ],
   "source": [
    "#リストのソート\n",
    "lst1=[\"fly\",\"good\",\"ABC\",\"Bad\",\"Woo\",\"Foo\",\"and\"]\n",
    "lst2 = sorted(lst1)\n",
    "print(lst2)"
   ]
  },
  {
   "cell_type": "code",
   "execution_count": 25,
   "id": "d98db9c2",
   "metadata": {},
   "outputs": [
    {
     "name": "stdout",
     "output_type": "stream",
     "text": [
      "['ABC', 'and', 'Bad', 'fly', 'Foo', 'good', 'Woo']\n"
     ]
    }
   ],
   "source": [
    "lst1=[\"fly\",\"good\",\"ABC\",\"Bad\",\"Woo\",\"Foo\",\"and\"]\n",
    "lst2 = sorted(lst1,key=str.upper)\n",
    "print(lst2)"
   ]
  },
  {
   "cell_type": "code",
   "execution_count": 29,
   "id": "58818139",
   "metadata": {},
   "outputs": [
    {
     "name": "stdout",
     "output_type": "stream",
     "text": [
      "['大津徹-1959', '井上太郎-1971', '田中一郎-1979', '後藤信-1980', '山田花子-1990', '藤本和雄-1998']\n"
     ]
    }
   ],
   "source": [
    "#ソートの関数を定義する\n",
    "names = [\"田中一郎-1979\",\"山田花子-1990\",\"井上太郎-1971\",\"藤本和雄-1998\",\"大津徹-1959\",\"後藤信-1980\"]\n",
    "\n",
    "def get_year(str):\n",
    "    year = str[-4:]\n",
    "    return int(year)\n",
    "\n",
    "names.sort(key=get_year)\n",
    "print(names)"
   ]
  },
  {
   "cell_type": "code",
   "execution_count": 31,
   "id": "320efd8f",
   "metadata": {},
   "outputs": [
    {
     "name": "stdout",
     "output_type": "stream",
     "text": [
      "['藤本和雄-1998', '山田花子-1990', '後藤信-1980', '田中一郎-1979', '井上太郎-1971', '大津徹-1959']\n"
     ]
    }
   ],
   "source": [
    "names.sort(key=lambda str:int(str[-4:]),reverse=True)\n",
    "print(names)"
   ]
  },
  {
   "cell_type": "code",
   "execution_count": 33,
   "id": "fc342583",
   "metadata": {},
   "outputs": [
    {
     "data": {
      "text/plain": [
       "dict_items([('Taro', 55), ('Makoto', 49), ('Akio', 30), ('Kazuo', 32), ('Chie', 22), ('Ken', 48)])"
      ]
     },
     "execution_count": 33,
     "metadata": {},
     "output_type": "execute_result"
    }
   ],
   "source": [
    "#辞書の要素をソート\n",
    "names = {\"Taro\":55,\"Makoto\":49,\"Akio\":30,\"Kazuo\":32,\"Chie\":22,\"Ken\":48}\n",
    "names.items()#タプルに変換しなければ、両方のkeyと値を取得できない"
   ]
  },
  {
   "cell_type": "code",
   "execution_count": 37,
   "id": "f7e0c08b",
   "metadata": {},
   "outputs": [
    {
     "name": "stdout",
     "output_type": "stream",
     "text": [
      "Akio 30\n",
      "Chie 22\n",
      "Kazuo 32\n",
      "Ken 48\n",
      "Makoto 49\n",
      "Taro 55\n"
     ]
    }
   ],
   "source": [
    "for name in sorted(names.items(),key=lambda n:n[0]):#キーワード引数として、（n[0]は辞書の要素）を選択\n",
    "    print(name[0],name[1])"
   ]
  },
  {
   "cell_type": "code",
   "execution_count": 40,
   "id": "70f0f69d",
   "metadata": {},
   "outputs": [
    {
     "name": "stdout",
     "output_type": "stream",
     "text": [
      "Akio 30\n",
      "Chie 22\n",
      "Kazuo 32\n",
      "Ken 48\n",
      "Makoto 49\n",
      "Taro 55\n"
     ]
    }
   ],
   "source": [
    "for name in sorted(names.keys()):\n",
    "    print(name,names[name])"
   ]
  },
  {
   "cell_type": "code",
   "execution_count": 41,
   "id": "1f01df6b",
   "metadata": {},
   "outputs": [
    {
     "name": "stdout",
     "output_type": "stream",
     "text": [
      "Chie 22\n",
      "Akio 30\n",
      "Kazuo 32\n",
      "Ken 48\n",
      "Makoto 49\n",
      "Taro 55\n"
     ]
    }
   ],
   "source": [
    "for name in sorted(names.items(),key=lambda n:n[1]):#キーワード引数として、値を選択\n",
    "    print(name[0],name[1])"
   ]
  },
  {
   "cell_type": "code",
   "execution_count": 46,
   "id": "b8e60bff",
   "metadata": {},
   "outputs": [
    {
     "name": "stdout",
     "output_type": "stream",
     "text": [
      "{'イギリス': 11, 'スペイン': 7, 'ドイツ': 8, 'フランス': 3}\n",
      "イギリス:11\n",
      "ドイツ:8\n",
      "スペイン:7\n",
      "フランス:3\n"
     ]
    }
   ],
   "source": [
    "answers=[\"イギリス\",\"イギリス\",\"イギリス\",\"スペイン\",\"ドイツ\",\"イギリス\",\"イギリス\",\"フランス\",\"ドイツ\",\n",
    "        \"ドイツ\",\"ドイツ\",\"スペイン\",\"ドイツ\",\"スペイン\",\"ドイツ\",\"スペイン\",\"ドイツ\",\"スペイン\",\"スペイン\",\"スペイン\",\n",
    "       \"イギリス\",\"イギリス\",\"フランス\",\"フランス\",\"イギリス\",\"イギリス\",\"ドイツ\",\"イギリス\",\"イギリス\"]\n",
    "\n",
    "#空の辞書を用意\n",
    "results={}\n",
    "\n",
    "#辞書resultsに国と得票数を格納する\n",
    "for country in answers:\n",
    "    if country in results:\n",
    "        results[country]+=1\n",
    "    else:\n",
    "        results[country]=1\n",
    "\n",
    "print(results)\n",
    "#結果をソートして表示する\n",
    "for country in sorted(results.items(),key=lambda c:c[1],reverse=True):\n",
    "    print(f\"{country[0]}:{country[1]}\")"
   ]
  },
  {
   "cell_type": "code",
   "execution_count": 48,
   "id": "eb0caf77",
   "metadata": {},
   "outputs": [
    {
     "name": "stdout",
     "output_type": "stream",
     "text": [
      "H\n",
      "E\n",
      "L\n",
      "L\n",
      "O\n"
     ]
    },
    {
     "ename": "StopIteration",
     "evalue": "",
     "output_type": "error",
     "traceback": [
      "\u001b[1;31m---------------------------------------------------------------------------\u001b[0m",
      "\u001b[1;31mStopIteration\u001b[0m                             Traceback (most recent call last)",
      "Cell \u001b[1;32mIn[48], line 11\u001b[0m\n\u001b[0;32m      9\u001b[0m \u001b[38;5;28mprint\u001b[39m(\u001b[38;5;28mnext\u001b[39m(gen))\n\u001b[0;32m     10\u001b[0m \u001b[38;5;28mprint\u001b[39m(\u001b[38;5;28mnext\u001b[39m(gen))\n\u001b[1;32m---> 11\u001b[0m \u001b[38;5;28mprint\u001b[39m(\u001b[38;5;28mnext\u001b[39m(gen))\n",
      "\u001b[1;31mStopIteration\u001b[0m: "
     ]
    }
   ],
   "source": [
    "#ジェネレータ関数を定義する\n",
    "def my_gen1(str):\n",
    "    for c in str.upper():\n",
    "        yield c\n",
    "gen = my_gen1(\"HeLlo\");\n",
    "print(next(gen))\n",
    "print(next(gen))\n",
    "print(next(gen))\n",
    "print(next(gen))\n",
    "print(next(gen))\n",
    "print(next(gen))"
   ]
  },
  {
   "cell_type": "code",
   "execution_count": 52,
   "id": "eb829b8a",
   "metadata": {},
   "outputs": [
    {
     "name": "stdout",
     "output_type": "stream",
     "text": [
      "H\n",
      "E\n",
      "L\n",
      "L\n",
      "O\n"
     ]
    }
   ],
   "source": [
    "def my_gen1(str):\n",
    "    for c in str.upper():\n",
    "        yield c\n",
    "gen = my_gen1(\"HeLlo\");\n",
    "for n in gen:\n",
    "    print(n)"
   ]
  },
  {
   "cell_type": "code",
   "execution_count": 125,
   "id": "382ff5a5",
   "metadata": {},
   "outputs": [
    {
     "name": "stdout",
     "output_type": "stream",
     "text": [
      "0\n",
      "7\n",
      "9\n",
      "3\n",
      "8\n",
      "1\n",
      "5\n",
      "6\n",
      "4\n",
      "2\n"
     ]
    }
   ],
   "source": [
    "#重複のない乱数を戻すジェネレータ関数\n",
    "import random\n",
    "\n",
    "def random_gen(num):\n",
    "    #生成済みの乱数を格納するリスト\n",
    "    randoms=[]\n",
    "    \n",
    "    while True:\n",
    "        rand_num = random.randrange(num)\n",
    "        #乱数に重複がない場合\n",
    "        if rand_num not in randoms:\n",
    "            randoms.append(rand_num)\n",
    "            yield rand_num\n",
    "        #すべての乱数を生成した\n",
    "        elif len(randoms) == num:\n",
    "            break\n",
    "            \n",
    "rand = random_gen(10)\n",
    "print(next(rand))\n",
    "print(next(rand))\n",
    "print(next(rand))\n",
    "print(next(rand))\n",
    "print(next(rand))"
   ]
  },
  {
   "cell_type": "code",
   "execution_count": 141,
   "id": "af8f16d0",
   "metadata": {},
   "outputs": [
    {
     "name": "stdout",
     "output_type": "stream",
     "text": [
      "8\n",
      "1\n",
      "2\n",
      "6\n",
      "0\n",
      "3\n",
      "4\n",
      "5\n",
      "9\n",
      "7\n"
     ]
    }
   ],
   "source": [
    "#重複のない乱数を戻すジェネレータ関数\n",
    "import random\n",
    "\n",
    "def random_gen(num):\n",
    "    #生成済みの乱数を格納するリスト\n",
    "    randoms=[]\n",
    "    \n",
    "    while True:\n",
    "        rand_num = random.randrange(num)\n",
    "        #乱数に重複がない場合\n",
    "        if rand_num not in randoms:\n",
    "            randoms.append(rand_num)\n",
    "            yield rand_num\n",
    "        #すべての乱数を生成した\n",
    "        elif len(randoms) == num:\n",
    "            break\n",
    "            \n",
    "rand = random_gen(10)\n",
    "for n in rand:\n",
    "    print(n)"
   ]
  },
  {
   "cell_type": "code",
   "execution_count": 143,
   "id": "2bd4ed22",
   "metadata": {},
   "outputs": [
    {
     "name": "stdout",
     "output_type": "stream",
     "text": [
      "H\n",
      "E\n",
      "L\n",
      "L\n",
      "O\n"
     ]
    }
   ],
   "source": [
    "#ジェネレータ式\n",
    "str = \"HeLlo\"\n",
    "gen = (c for c in str.upper())\n",
    "for n in gen:\n",
    "    print(n)"
   ]
  },
  {
   "cell_type": "code",
   "execution_count": 144,
   "id": "ec13caff",
   "metadata": {},
   "outputs": [
    {
     "name": "stdout",
     "output_type": "stream",
     "text": [
      "H\n",
      "E\n",
      "L\n",
      "L\n",
      "O\n"
     ]
    }
   ],
   "source": [
    "#内包表記\n",
    "gen = [c for c in str.upper()]\n",
    "for c in gen:\n",
    "    print(c)\n",
    "#どちらも結果は同じだが、内包表記はリストの生成を全て行ってから処理を行うのに対し、ジェネレータ式は要素が要求された時点に値を\n",
    "#返すため、メモリの消費を抑えることができる。"
   ]
  }
 ],
 "metadata": {
  "kernelspec": {
   "display_name": "Python 3 (ipykernel)",
   "language": "python",
   "name": "python3"
  },
  "language_info": {
   "codemirror_mode": {
    "name": "ipython",
    "version": 3
   },
   "file_extension": ".py",
   "mimetype": "text/x-python",
   "name": "python",
   "nbconvert_exporter": "python",
   "pygments_lexer": "ipython3",
   "version": "3.11.4"
  }
 },
 "nbformat": 4,
 "nbformat_minor": 5
}
