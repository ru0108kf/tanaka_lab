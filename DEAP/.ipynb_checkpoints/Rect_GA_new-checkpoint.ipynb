{
 "cells": [
  {
   "cell_type": "code",
   "execution_count": 1,
   "id": "9dc363cc",
   "metadata": {},
   "outputs": [],
   "source": [
    "#モジュールの読み込み\n",
    "import matplotlib.pyplot as plt\n",
    "from matplotlib import patches\n",
    "import math\n",
    "import numpy as np\n",
    "import random\n",
    "import pandas as pd\n",
    "import itertools\n",
    "import time\n",
    "from IPython.display import clear_output\n",
    "from deap import base\n",
    "from deap import creator\n",
    "from deap import tools\n",
    "%matplotlib inline"
   ]
  },
  {
   "cell_type": "markdown",
   "id": "c9e769c1",
   "metadata": {},
   "source": [
    "## 長方形詰込み問題編"
   ]
  },
  {
   "cell_type": "code",
   "execution_count": 55,
   "id": "38c47bdc",
   "metadata": {},
   "outputs": [],
   "source": [
    "#設定\n",
    "seed = 0\n",
    "random.seed(seed)\n",
    "np.random.seed(seed)\n",
    "\n",
    "W, B, V = 4, 20, 25\n",
    "wh = np.random.uniform(low=0.5, high=1.5, size=(B, 2))\n",
    "wh = wh*(math.sqrt(V/np.sum(wh[:,0]*wh[:,1])))\n",
    "xy = [[0,0]]*B\n",
    "\n",
    "wh_df = pd.DataFrame(data=(wh),columns=(\"w\",\"h\"))\n",
    "xy_df = pd.DataFrame(data=(xy),columns=(\"x\",\"y\"))\n",
    "Rect_df = pd.concat([wh_df,xy_df],axis=1)"
   ]
  },
  {
   "cell_type": "code",
   "execution_count": 56,
   "id": "d8bc6faa",
   "metadata": {},
   "outputs": [],
   "source": [
    "#Axesオブジェクトに長方形を配置\n",
    "def Rect_place(rect,n):\n",
    "    global ax,fig\n",
    "    ax.grid()\n",
    "    colors=\"#\"+''.join([random.choice('0123456789ABCDEF') for i in range(3)])\n",
    "    r = patches.Rectangle( xy=(rect.loc[n][\"x\"],rect.loc[n][\"y\"]) , width=rect.loc[n][\"w\"], height=rect.loc[n][\"h\"], color=colors)\n",
    "    ax.add_patch(r)\n",
    "\n",
    "class Rect():\n",
    "    def __init__(self, x, y, w, h):\n",
    "        self.x1 = x\n",
    "        self.y1 = y\n",
    "        self.x2 = x + w\n",
    "        self.y2 = y + h\n",
    "        self.w = w\n",
    "        self.h = h\n",
    "    \n",
    "    def overlap(self, b):\n",
    "        return max(self.x1, b.x1) < min(self.x2, b.x2) and max(self.y1, b.y1) < min(self.y2, b.y2)\n",
    "\n",
    "    def subtract_by(self, b):\n",
    "        if self.overlap(b):\n",
    "            rooms = []\n",
    "            if (self.x1 < b.x1 and b.x1 < self.x2) and max(self.y1, b.y1) < min(self.y2, b.y2):\n",
    "                rooms.append(Rect(self.x1, self.y1, b.x1 - self.x1, self.h))\n",
    "\n",
    "            if (self.x1 < b.x2 and b.x2 < self.x2) and max(self.y1, b.y1) < min(self.y2, b.y2):\n",
    "                rooms.append(Rect(b.x2, self.y1, self.x2 - b.x2, self.h))\n",
    "\n",
    "            if (self.y1 < b.y1 and b.y1 < self.y2) and max(self.x1, b.x1) < min(self.x2, b.x2) :\n",
    "                rooms.append(Rect(self.x1, self.y1, self.w, b.y1 - self.y1))\n",
    "\n",
    "            if (self.y1 < b.y2 and b.y2 < self.y2) and max(self.x1, b.x1) < min(self.x2, b.x2) :\n",
    "                rooms.append(Rect(self.x1, b.y2, self.w, self.y2 - b.y2))\n",
    "            return rooms\n",
    "        \n",
    "        else:\n",
    "            return [self]\n",
    "\n",
    "    def include(self, b):\n",
    "        return self.x1 <= b.x1 and b.x2 <= self.x2 and self.y1 <= b.y1 and b.y2 <= self.y2\n",
    "\n",
    "    def larger_than(self, w, h):\n",
    "    # 座標は関係なく、図形として入るかどうか\n",
    "        return w <= self.w and h <= self.h\n",
    "    \n",
    "def put_rect(input_rects, roomsORIG):\n",
    "# 空白矩形と比較し、配置可能な空白を探索\n",
    "    rects = []\n",
    "    uniq_rooms = list(roomsORIG)\n",
    "    for input_rect in input_rects:\n",
    "        for i in range(len(uniq_rooms)):\n",
    "            room = uniq_rooms[i]\n",
    "            if room.larger_than(input_rect[0], input_rect[1]): #このrectに配置可能\n",
    "                new_rect = Rect(room.x1, room.y1, input_rect[0], input_rect[1])\n",
    "                rects.append(new_rect)\n",
    "                break\n",
    "\n",
    "        # すべての空白矩形から subtractする\n",
    "        new_rooms = []\n",
    "        for room in uniq_rooms:\n",
    "            new_rooms += room.subtract_by(new_rect)\n",
    "        new_rooms = sorted(new_rooms, key=lambda x:x.y1) # 結局総当たりするので意味ないが、将来効率化を考えソート\n",
    "\n",
    "        # 重複削除 総当たり\n",
    "        uniq_rooms = []\n",
    "        for r_i in new_rooms:\n",
    "            include_flg = False\n",
    "            for r_j in new_rooms:\n",
    "                if r_i == r_j: continue\n",
    "                if r_j.include(r_i):\n",
    "                    include_flg = True\n",
    "                    break\n",
    "            if not include_flg:\n",
    "            # print(\"{} は他のどれにも含まれない\".format(r_i))\n",
    "                uniq_rooms.append(r_i)\n",
    "        # 低い順（左にある順）に並び替え\n",
    "        new_rooms = sorted(new_rooms, key=lambda a:a.x1)\n",
    "        uniq_rooms = sorted(new_rooms, key=lambda a:a.y1)\n",
    "\n",
    "    return (rects, uniq_rooms)"
   ]
  },
  {
   "cell_type": "code",
   "execution_count": 77,
   "id": "41788b14",
   "metadata": {},
   "outputs": [
    {
     "name": "stdout",
     "output_type": "stream",
     "text": [
      "高さ：7.71\n"
     ]
    },
    {
     "data": {
      "image/png": "[encoded data removed]",
      "text/plain": [
       "<Figure size 400x800 with 1 Axes>"
      ]
     },
     "metadata": {},
     "output_type": "display_data"
    }
   ],
   "source": [
    "# 実行\n",
    "Rect1 = Rect_df.copy()\n",
    "img_list =  []\n",
    "for i in range(B):\n",
    "    img_list.append((Rect1.loc[i][\"w\"],Rect1.loc[i][\"h\"]))\n",
    "rects, rooms = put_rect(img_list, roomsORIG=[Rect(0,0,W,100)])\n",
    "x,y = [],[]\n",
    "for rect in rects:\n",
    "    x.append(rect.x1)\n",
    "    y.append(rect.y1)\n",
    "Rect1[\"x\"] = x\n",
    "Rect1[\"y\"] = y\n",
    "\n",
    "# 高さを定義\n",
    "Height = round(max(Rect1[\"y\"]+Rect1[\"h\"]),2)\n",
    "H = math.ceil(Height)\n",
    "# Axesオブジェクトを作成\n",
    "fig, ax = plt.subplots(figsize=(W,H))\n",
    "ax.set_xticks([0, W])\n",
    "ax.set_yticks([0, H])\n",
    "ax.axhline(Height)\n",
    "plt.text(4.1,Height,Height,size='10')\n",
    "ax.grid()\n",
    "\n",
    "for n in range(B):\n",
    "    Rect_place(Rect1,n)\n",
    "    \n",
    "# 図形を描画\n",
    "print(f\"高さ：{Height}\")\n",
    "plt.show()"
   ]
  },
  {
   "cell_type": "markdown",
   "id": "18c8d933",
   "metadata": {},
   "source": [
    "## GA編"
   ]
  },
  {
   "cell_type": "code",
   "execution_count": 58,
   "id": "04b351d0",
   "metadata": {},
   "outputs": [
    {
     "name": "stderr",
     "output_type": "stream",
     "text": [
      "C:\\Users\\msy-t\\anaconda3\\Lib\\site-packages\\deap\\creator.py:185: RuntimeWarning: A class named 'FitnessMin' has already been created and it will be overwritten. Consider deleting previous creation of that class or rename it.\n",
      "  warnings.warn(\"A class named '{0}' has already been created and it \"\n",
      "C:\\Users\\msy-t\\anaconda3\\Lib\\site-packages\\deap\\creator.py:185: RuntimeWarning: A class named 'Individual' has already been created and it will be overwritten. Consider deleting previous creation of that class or rename it.\n",
      "  warnings.warn(\"A class named '{0}' has already been created and it \"\n"
     ]
    }
   ],
   "source": [
    "creator.create(\"FitnessMin\", base.Fitness, weights=(-1.0,))\n",
    "creator.create(\"Individual\", list, fitness=creator.FitnessMin)\n",
    "\n",
    "toolbox = base.Toolbox()\n",
    "toolbox.register(\"indices\", random.sample, range(B), B)\n",
    "toolbox.register(\"individual\", tools.initIterate, creator.Individual,toolbox.indices)\n",
    "toolbox.register(\"population\", tools.initRepeat, list, toolbox.individual)"
   ]
  },
  {
   "cell_type": "code",
   "execution_count": 59,
   "id": "e7c3088b",
   "metadata": {},
   "outputs": [],
   "source": [
    "# 評価関数\n",
    "def evalRect(individual):\n",
    "    global B,Rect_df\n",
    "    rect_df = Rect_df.copy()\n",
    "    lst = individual\n",
    "    # リスト順にdataを並び替え、行を再ラベリングする。\n",
    "    rect_df = rect_df.reindex(index=lst)\n",
    "    rect_df = rect_df.set_axis(list(np.arange(0, len(lst))), axis=0)\n",
    "    img_list =  []\n",
    "    for i in range(B):\n",
    "        img_list.append((rect_df.loc[i][\"w\"],rect_df.loc[i][\"h\"]))\n",
    "    rects, rooms = put_rect(img_list, roomsORIG=[Rect(0,0,W,100)])\n",
    "    x,y = [],[]\n",
    "    for rect in rects:\n",
    "        x.append(rect.x1)\n",
    "        y.append(rect.y1)\n",
    "    rect_df[\"x\"] = x\n",
    "    rect_df[\"y\"] = y\n",
    "    # 最大値\n",
    "    Height = round(max(rect_df[\"y\"]+rect_df[\"h\"]),2)\n",
    "    return Height,"
   ]
  },
  {
   "cell_type": "markdown",
   "id": "772fde62",
   "metadata": {},
   "source": [
    "### 交叉\n",
    "#### 部分写像交叉(PMX: Partially-mapped crossover)\n",
    "　親の一方からは順番の一部をそのまま受け継ぎ，他の親からも残りの順番について、できるだけ多く親の順番を受け継ぐことを目的にしている。そのために，２つのランダムに選んだ切断点間の部分の順番を選び，以下に示す交叉を行う。\n",
    "例えばつぎに示す２つの親の順番の交叉を考える。\n",
    "\n",
    "　p1=(1 2 3 | 4 5 6 7 | 8 9)\n",
    "　p2=(4 5 2 | 1 8 7 6 | 9 3)\n",
    " \n",
    "まず縦棒 | にて示した２点で挟まれた部分を交叉するとつぎに示す子が得られる。ここで * は今のところ未決定であることを示す。\n",
    "\n",
    "　c1=(* * * | 1 8 7 6 | * *)\n",
    "　c2=(* * * | 4 5 6 7 | * *)\n",
    " \n",
    "このことは次の入れ替えを定義していることにもなる。\n",
    "- 1 <-> 4, 8 <-> 5, 7 <-> 6, 6 <-> 7\n",
    "\n",
    "残りの未決定の部分について、既定のものと衝突を起こさないもの（即ち，既定のものに含まれないもの）はそのまま入れると、つぎの順番が得られる。\n",
    "\n",
    "　c1=(* 2 3 | 1 8 7 6 | * 9)\n",
    "　c2=(* * 2 | 4 5 6 7 | 9 3)\n",
    "\n",
    "最後に残った部分には前記の入れ替えの定義を参照して衝突を起こさないように入れる。即ち、*c1*については１番目の * には1の代わりに4を入れ、８番目の * には8 の代わりに 5 を入れる。同様の操作を*c2*についても 行うと次の経路が得られる。\n",
    "\n",
    "　o1=(4 2 3 | 1 8 7 6 | 5 9)\n",
    "　o2=(1 8 2 | 4 5 6 7 | 9 3)\n",
    " \n",
    "この方法は類似性と順序を保存している点に特徴がある。\n",
    "\n",
    "### 突然変異\n",
    "- 転座　ランダムに選んだ２つの順序を入れ替える。\n",
    "- 挿入　ランダムに選んだ１つの番号を取り出してその位置を詰め、同じくランダムに   選んだ１つの番号の所に挿入し、それ以降をずらす。\n",
    "\n",
    "今回選んだのは**転座**"
   ]
  },
  {
   "cell_type": "code",
   "execution_count": 60,
   "id": "694f78f8",
   "metadata": {},
   "outputs": [],
   "source": [
    "# 評価関数、交差、突然変異、選択淘汰\n",
    "toolbox.register(\"evaluate\", evalRect)\n",
    "toolbox.register(\"mate\", tools.cxPartialyMatched)\n",
    "toolbox.register(\"mutate\", tools.mutShuffleIndexes, indpb=0.05)\n",
    "toolbox.register(\"select\", tools.selTournament, tournsize=5)"
   ]
  },
  {
   "cell_type": "markdown",
   "id": "7f45f72e",
   "metadata": {},
   "source": [
    "### 数値\n",
    "交叉確率は50％\\\n",
    "突然変異確率は20％\\\n",
    "初期個体群は30\\\n",
    "世代数は50"
   ]
  },
  {
   "cell_type": "code",
   "execution_count": 66,
   "id": "8a61de78",
   "metadata": {},
   "outputs": [],
   "source": [
    "def main():\n",
    "    pop = toolbox.population(n=300)\n",
    "    CXPB, MUTPB ,NGEN = 0.5, 0.2, 50\n",
    "    clear_output(True)\n",
    "    print(\"Start of evolution\")\n",
    "\n",
    "    fitnesses = list(map(toolbox.evaluate, pop))\n",
    "    for ind, fit in zip(pop, fitnesses):\n",
    "        ind.fitness.values = fit\n",
    "    \n",
    "    fits = [ind.fitness.values[0] for ind in pop]\n",
    "    log_min = [min(fits)]\n",
    "    log_max = [max(fits)]\n",
    "    length = len(pop)\n",
    "    mean = sum(fits) / length\n",
    "    sum2 = sum(x*x for x in fits)\n",
    "    std = abs(sum2 / length - mean**2)**0.5\n",
    "    log_mean = [mean]\n",
    "    log_std = [std]\n",
    "    \n",
    "    print(\"  Evaluated %i individuals\" % len(pop))\n",
    "    \n",
    "    for g in range(NGEN):\n",
    "        \n",
    "        \n",
    "        print(\"-- Generation %i --\" % g)\n",
    "\n",
    "        offspring = toolbox.select(pop, len(pop))\n",
    "        offspring = list(map(toolbox.clone, offspring))\n",
    "\n",
    "        for child1, child2 in zip(offspring[::2], offspring[1::2]):\n",
    "            if random.random() < CXPB:\n",
    "                toolbox.mate(child1, child2)\n",
    "                del child1.fitness.values\n",
    "                del child2.fitness.values\n",
    "        for mutant in offspring:\n",
    "            if random.random() < MUTPB:\n",
    "                toolbox.mutate(mutant)\n",
    "                del mutant.fitness.values\n",
    "\n",
    "        invalid_ind = [ind for ind in offspring if not ind.fitness.valid]\n",
    "        fitnesses = map(toolbox.evaluate, invalid_ind)\n",
    "        for ind, fit in zip(invalid_ind, fitnesses):\n",
    "            ind.fitness.values = fit\n",
    "        \n",
    "        print(\"  Evaluated %i individuals\" % len(invalid_ind))\n",
    "\n",
    "        pop[:] = offspring\n",
    "\n",
    "        fits = [ind.fitness.values[0] for ind in pop]\n",
    "        \n",
    "        # 母集団の最小、最大、平均、標準偏差を表示\n",
    "        length = len(pop)\n",
    "        mean = sum(fits) / length\n",
    "        sum2 = sum(x*x for x in fits)\n",
    "        std = abs(sum2 / length - mean**2)**0.5\n",
    "        \n",
    "        log_min.append(min(fits))\n",
    "        log_max.append(max(fits))\n",
    "        log_mean.append(mean)\n",
    "        log_std.append(std)\n",
    "        gen = list(range(0, NGEN+1))\n",
    "\n",
    "        print(\"  Min %s\" % min(fits))\n",
    "        print(\"  Max %s\" % max(fits))\n",
    "        print(\"  Avg %s\" % mean)\n",
    "        print(\"  Std %s\" % std)\n",
    "        \n",
    "    print(\"-- End of (successful) evolution --\")\n",
    "    clear_output()\n",
    "    best_ind = tools.selBest(pop, 1)[0]\n",
    "    print(\"Best individual is %s, %s\" % (best_ind, best_ind.fitness.values))\n",
    "    return best_ind, gen, log_min, log_max, log_mean, log_std"
   ]
  },
  {
   "cell_type": "code",
   "execution_count": 67,
   "id": "9ddfbc9f",
   "metadata": {},
   "outputs": [
    {
     "name": "stdout",
     "output_type": "stream",
     "text": [
      "Best individual is [18, 12, 0, 10, 11, 1, 6, 3, 17, 5, 16, 19, 9, 14, 2, 7, 15, 13, 4, 8], (6.97,)\n",
      "経過時間： 1471.91秒\n"
     ]
    }
   ],
   "source": [
    "t1 = time.time()\n",
    "if __name__ == \"__main__\":\n",
    "    best_ind, gen, log_min, log_max, log_mean, log_std = main()\n",
    "t2 = time.time()\n",
    "elapsed_time = t2-t1\n",
    "print(f\"経過時間：{elapsed_time: .2f}秒\")"
   ]
  },
  {
   "cell_type": "code",
   "execution_count": 82,
   "id": "403f4f15",
   "metadata": {},
   "outputs": [
    {
     "name": "stdout",
     "output_type": "stream",
     "text": [
      "高さ：6.97\n"
     ]
    },
    {
     "data": {
      "image/png": "[encoded data removed]",
      "text/plain": [
       "<Figure size 400x700 with 1 Axes>"
      ]
     },
     "metadata": {},
     "output_type": "display_data"
    }
   ],
   "source": [
    "#描画\n",
    "lst = best_ind\n",
    "\n",
    "Rect2 = Rect_df.copy()\n",
    "Rect2 = Rect2.reindex(index=lst)\n",
    "Rect2 = Rect2.set_axis(list(np.arange(0, len(lst))), axis=0)\n",
    "\n",
    "img_list =  []\n",
    "for i in range(B):\n",
    "    img_list.append((Rect2.loc[i][\"w\"],Rect2.loc[i][\"h\"]))\n",
    "rects, rooms = put_rect(img_list, roomsORIG=[Rect(0,0,W,100)])\n",
    "x,y = [],[]\n",
    "for rect in rects:\n",
    "    x.append(rect.x1)\n",
    "    y.append(rect.y1)\n",
    "Rect2[\"x\"] = x\n",
    "Rect2[\"y\"] = y\n",
    "\n",
    "# 高さを定義\n",
    "Height = round(max(Rect2[\"y\"]+Rect2[\"h\"]),2)\n",
    "H = math.ceil(Height)\n",
    "\n",
    "#Axesオブジェクトを作成\n",
    "fig, ax = plt.subplots(figsize=(W,H))\n",
    "ax.set_xticks([0, W])\n",
    "ax.set_yticks([0, H+1])\n",
    "ax.axhline(Height)\n",
    "plt.text(4.1,Height,Height,size='10')\n",
    "ax.grid()\n",
    "    \n",
    "for n in range(B):\n",
    "    Rect_place(Rect2,n)\n",
    "    \n",
    "#図形を描画\n",
    "print(f\"高さ：{Height}\")\n",
    "plt.show()"
   ]
  },
  {
   "cell_type": "code",
   "execution_count": 87,
   "id": "92ed0756",
   "metadata": {},
   "outputs": [
    {
     "data": {
      "image/png": "[encoded data removed]",
      "text/plain": [
       "<Figure size 640x480 with 1 Axes>"
      ]
     },
     "metadata": {},
     "output_type": "display_data"
    }
   ],
   "source": [
    "#描画2\n",
    "x = gen\n",
    "y1 = log_min\n",
    "y2 = log_max\n",
    "y3 = log_mean\n",
    "y4 = log_std\n",
    "\n",
    "fig, ax = plt.subplots()\n",
    "plt.xlim(0,len(x)-1)\n",
    "plt.ylim(6,H+1)\n",
    "ax.plot(x, y1,\"r\", y3,\"b\")\n",
    "\n",
    "plt.title(\"Height\")\n",
    "ax.set_xlabel(\"Generation\")\n",
    "ax.set_ylabel(\"Fitness\")\n",
    "\n",
    "plt.show()"
   ]
  },
  {
   "cell_type": "code",
   "execution_count": null,
   "id": "f548bd2d",
   "metadata": {},
   "outputs": [],
   "source": []
  }
 ],
 "metadata": {
  "kernelspec": {
   "display_name": "Python 3 (ipykernel)",
   "language": "python",
   "name": "python3"
  },
  "language_info": {
   "codemirror_mode": {
    "name": "ipython",
    "version": 3
   },
   "file_extension": ".py",
   "mimetype": "text/x-python",
   "name": "python",
   "nbconvert_exporter": "python",
   "pygments_lexer": "ipython3",
   "version": "3.11.4"
  }
 },
 "nbformat": 4,
 "nbformat_minor": 5
}
