{
 "cells": [
  {
   "cell_type": "markdown",
   "id": "1675671b",
   "metadata": {},
   "source": [
    "# 遺伝的アルゴリズムをDEAPを使って理解する。"
   ]
  },
  {
   "cell_type": "markdown",
   "id": "4f48e0a8",
   "metadata": {},
   "source": [
    "## 遺伝的アルゴリズム(GA)とは何か？\n",
    "生物の進化にヒントを得た、最適化のためのアルゴリズムの一つである。\\\n",
    "以下の概念を用いて、システムをモデル化し、効率的な探索アルゴリズムを与える\n",
    "\n",
    "- 選択淘汰・・・環境により適合した「種」は次世代で個体を増やし、環境に適合しない「種」は個体を減らす\n",
    "- 交差・・・一定確率で二つの「種」の遺伝子配列が組み合わされて新しい種となること\n",
    "- 突然変異・・・遺伝子配列の中の特定のビットが一定確率で逆転して、別の種となること\n",
    "- 世代交代・・・上記の選択・交叉・突然変異によって、次第により環境に適した種が多数を占めるようになること "
   ]
  },
  {
   "cell_type": "markdown",
   "id": "f7b06bec",
   "metadata": {},
   "source": [
    "## 1.概要"
   ]
  },
  {
   "cell_type": "markdown",
   "id": "85a61415",
   "metadata": {},
   "source": [
    "### Type\n",
    "まずやるべきことは、自分の問題に適した型を考えること。\\\n",
    "**creatorモジュール**を用いれば、利用可能な型のリストを探す代わりに、自分で型を作ることができる。適切な型を作るのは大変に思えるかもしれないが、**creator**はそれをとても簡単にしてくれる。実際、通常は1行で完了する。例えば、最小化問題用のFitnessMinクラスと、作成されたばかりのフィットネスに設定されたフィットネス属性を持つリストから派生したIndividualクラスを作成する。"
   ]
  },
  {
   "cell_type": "code",
   "execution_count": 29,
   "id": "1bf6aebb",
   "metadata": {},
   "outputs": [],
   "source": [
    "from deap import base, creator\n",
    "creator.create(\"FitnessMin\", base.Fitness, weights=(-1.0,))\n",
    "creator.create(\"Individual\", list, fitness=creator.FitnessMin)"
   ]
  },
  {
   "cell_type": "markdown",
   "id": "c2938b21",
   "metadata": {},
   "source": [
    "## Initialization\n",
    "型が作成されたら、時にはランダムな値、時には推測された値で初期条件を設定する。\n",
    "**toolbox**は、あらゆる種類のtoolのためのコンテナである。\n",
    "以下は、ランダムな浮動小数点数を含む個体と、それを含む母集団の初期条件を作成するコードの最後の行である。"
   ]
  },
  {
   "cell_type": "code",
   "execution_count": 36,
   "id": "d026288b",
   "metadata": {},
   "outputs": [],
   "source": [
    "import random\n",
    "from deap import tools\n",
    "\n",
    "IND_SIZE = 10\n",
    "\n",
    "toolbox = base.Toolbox()\n",
    "toolbox.register(\"attribute\", random.random)\n",
    "toolbox.register(\"individual\", tools.initRepeat, creator.Individual,\n",
    "                 toolbox.attribute, n=IND_SIZE)\n",
    "toolbox.register(\"population\", tools.initRepeat, list, toolbox.individual)"
   ]
  },
  {
   "cell_type": "markdown",
   "id": "2afd5eb3",
   "metadata": {},
   "source": [
    "これは、個体から集団を初期化する関数を作成するもので、それ自体はランダムな浮動小数点数で初期化される。関数は与えられた名前の下にデフォルトの引数とともにツールボックスに登録される。"
   ]
  },
  {
   "cell_type": "markdown",
   "id": "afb93d0c",
   "metadata": {},
   "source": [
    "## Operators\n",
    "いくつかの演算子はすでにツールモジュールに実装されていることを除けば、Initializerと同じである。最適なものを選んだら、ツールボックスに登録する。さらに、評価関数を作成する必要がある。"
   ]
  },
  {
   "cell_type": "code",
   "execution_count": 35,
   "id": "e0286a50",
   "metadata": {},
   "outputs": [],
   "source": [
    "def evaluate(individual):\n",
    "    return sum(individual),\n",
    "\n",
    "toolbox.register(\"mate\", tools.cxTwoPoint)\n",
    "toolbox.register(\"mutate\", tools.mutGaussian, mu=0, sigma=1, indpb=0.1)\n",
    "toolbox.register(\"select\", tools.selTournament, tournsize=3)\n",
    "toolbox.register(\"evaluate\", evaluate)"
   ]
  },
  {
   "cell_type": "markdown",
   "id": "419f6301",
   "metadata": {},
   "source": [
    "登録された関数は、アルゴリズムが演算子の名前に依存しないように、汎用性を持たせるためにツールボックスによって名前が変更される。また、フィットネス値は反復可能でなければならないことに注意。"
   ]
  },
  {
   "cell_type": "markdown",
   "id": "0d491b3a",
   "metadata": {},
   "source": [
    "## Algorithms\n",
    "これですべての準備が整ったので、独自のアルゴリズムを書き始めることができる。これは通常main()の中で行う。完全を期すために、完全な世代アルゴリズムを開発する。"
   ]
  },
  {
   "cell_type": "code",
   "execution_count": 33,
   "id": "088fff85",
   "metadata": {},
   "outputs": [],
   "source": [
    "def main():\n",
    "    pop = toolbox.population(n=50)\n",
    "    CXPB, MUTPB, NGEN = 0.5, 0.2, 40\n",
    "\n",
    "    # Evaluate the entire population\n",
    "    fitnesses = map(toolbox.evaluate, pop)\n",
    "    for ind, fit in zip(pop, fitnesses):\n",
    "        ind.fitness.values = fit\n",
    "\n",
    "    for g in range(NGEN):\n",
    "        # Select the next generation individuals\n",
    "        offspring = toolbox.select(pop, len(pop))\n",
    "        # Clone the selected individuals\n",
    "        offspring = map(toolbox.clone, offspring)\n",
    "\n",
    "        # Apply crossover and mutation on the offspring\n",
    "        for child1, child2 in zip(offspring[::2], offspring[1::2]):\n",
    "            if random.random() < CXPB:\n",
    "                toolbox.mate(child1, child2)\n",
    "                del child1.fitness.values\n",
    "                del child2.fitness.values\n",
    "\n",
    "        for mutant in offspring:\n",
    "            if random.random() < MUTPB:\n",
    "                toolbox.mutate(mutant)\n",
    "                del mutant.fitness.values\n",
    "\n",
    "        # Evaluate the individuals with an invalid fitness\n",
    "        invalid_ind = [ind for ind in offspring if not ind.fitness.valid]\n",
    "        fitnesses = map(toolbox.evaluate, invalid_ind)\n",
    "        for ind, fit in zip(invalid_ind, fitnesses):\n",
    "            ind.fitness.values = fit\n",
    "\n",
    "        # The population is entirely replaced by the offspring\n",
    "        pop[:] = offspring\n",
    "\n",
    "    return pop"
   ]
  }
 ],
 "metadata": {
  "kernelspec": {
   "display_name": "Python 3 (ipykernel)",
   "language": "python",
   "name": "python3"
  },
  "language_info": {
   "codemirror_mode": {
    "name": "ipython",
    "version": 3
   },
   "file_extension": ".py",
   "mimetype": "text/x-python",
   "name": "python",
   "nbconvert_exporter": "python",
   "pygments_lexer": "ipython3",
   "version": "3.11.4"
  }
 },
 "nbformat": 4,
 "nbformat_minor": 5
}
