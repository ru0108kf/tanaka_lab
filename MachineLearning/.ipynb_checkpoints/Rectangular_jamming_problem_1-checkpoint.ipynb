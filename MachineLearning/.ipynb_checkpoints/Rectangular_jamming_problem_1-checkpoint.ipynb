{
 "cells": [
  {
   "cell_type": "markdown",
   "id": "4eaf99f8",
   "metadata": {},
   "source": [
    "# 長方形詰込み問題"
   ]
  },
  {
   "cell_type": "code",
   "execution_count": 117,
   "id": "44f06938",
   "metadata": {},
   "outputs": [],
   "source": [
    "#モジュールの読み込み\n",
    "import matplotlib.pyplot as plt\n",
    "from matplotlib import patches\n",
    "import math\n",
    "import numpy as np\n",
    "import random\n",
    "%matplotlib inline"
   ]
  },
  {
   "cell_type": "code",
   "execution_count": 118,
   "id": "ad32a24a",
   "metadata": {},
   "outputs": [
    {
     "name": "stdout",
     "output_type": "stream",
     "text": [
      "[array([1.12553301, 1.58048674]), array([0.50017156, 0.95349886]), array([0.72013384, 0.63850789]), array([0.77939032, 1.01834109]), array([1.09515121, 1.3082251 ]), array([1.12879177, 1.52782925]), array([0.80667837, 1.81717615]), array([0.54108139, 1.50570127]), array([1.1259572 , 1.33803474]), array([0.71058041, 0.79715223])]\n"
     ]
    }
   ],
   "source": [
    "#数値設定\n",
    "#seed値\n",
    "seed = 1\n",
    "#長方形の数\n",
    "block_num = 10\n",
    "#横縦\n",
    "W = 4\n",
    "H = 4\n",
    "#生成する長方形の大きさ\n",
    "R = 2\n",
    "#ランダムな値を決める\n",
    "np.random.seed(seed)\n",
    "random.seed(seed)\n",
    "random_num_lst = np.random.uniform(low=0.5, high=R, size=block_num*2).tolist()\n",
    "#縦と横の長さのリスト\n",
    "wh = np.array_split(random_num_lst, block_num)\n",
    "print(wh)"
   ]
  },
  {
   "cell_type": "code",
   "execution_count": 129,
   "id": "6aeddc5e",
   "metadata": {},
   "outputs": [],
   "source": [
    "#色と長方形を並べる\n",
    "def Rect(x,y):\n",
    "    random.seed(seed)\n",
    "    #Axesオブジェクト生成\n",
    "    fig, ax = plt.subplots(figsize=(W,H))\n",
    "    ax.set_xticks([0, W])\n",
    "    ax.set_yticks([0, H])\n",
    "    ax.grid()\n",
    "    #色をランダムに決めて、num_lstと座標から長方形を配置\n",
    "    for i in range(block_num):\n",
    "        colors=[\"#\"+''.join([random.choice('0123456789ABCDEF')for j in range(6)])for k in range(block_num)]\n",
    "        r = patches.Rectangle( xy=(x[i],y[i]) , width=wh[i][0], height=wh[i][1], color=colors[i])\n",
    "        ax.add_patch(r)"
   ]
  },
  {
   "cell_type": "code",
   "execution_count": 1,
   "id": "a3877164",
   "metadata": {},
   "outputs": [],
   "source": [
    "def bottom_left(lst):\n",
    "    #図形の底に配置\n",
    "    bottom = 0\n",
    "    x = [0]\n",
    "    y = [0]\n",
    "    for i in range(block_num):\n",
    "        bottom += lst[i][0]\n",
    "        if bottom<=W:\n",
    "            x.append(bottom)\n",
    "            y.append(0)\n",
    "        else:\n",
    "            x.remove(bottom-lst[i][0])\n",
    "            y.remove(0)\n",
    "            stop = len(x)\n",
    "            break\n",
    "\n",
    "    #図形のうちtopが最も低いところに配置ただし、自身のwよりも狭い場合は、一番左へ\n",
    "    minimum=[]\n",
    "    for i in range(stop):\n",
    "        minimum.append(float(lst[i][1]))\n",
    "    minimum_sorted = sorted(minimum)\n",
    "    j = minimum.index(minimum_sorted[0])\n",
    "    k = minimum.index(minimum_sorted[1])\n",
    "    if lst[stop][0]<=lst[j][1]:\n",
    "        x.append(lst[j][1])\n",
    "        y.append(lst[j-1][0])\n",
    "    elif lst[stop][0]<=lst[k][1]:\n",
    "        x.append(lst[k-1][0])\n",
    "        y.append(lst[k][1])\n",
    "    else:\n",
    "        x.append(0)\n",
    "        y.append(lst[0][1])\n",
    "    return x,y"
   ]
  },
  {
   "cell_type": "code",
   "execution_count": null,
   "id": "bdff48c6",
   "metadata": {},
   "outputs": [],
   "source": [
    "def overlap(x,y):\n",
    "    "
   ]
  },
  {
   "cell_type": "code",
   "execution_count": 140,
   "id": "cf4586ab",
   "metadata": {},
   "outputs": [
    {
     "ename": "IndexError",
     "evalue": "list index out of range",
     "output_type": "error",
     "traceback": [
      "\u001b[1;31m---------------------------------------------------------------------------\u001b[0m",
      "\u001b[1;31mIndexError\u001b[0m                                Traceback (most recent call last)",
      "Cell \u001b[1;32mIn[140], line 2\u001b[0m\n\u001b[0;32m      1\u001b[0m x,y\u001b[38;5;241m=\u001b[39mbottom_left(wh)\n\u001b[1;32m----> 2\u001b[0m Rect(x,y)\n\u001b[0;32m      3\u001b[0m \u001b[38;5;66;03m#図形を描画\u001b[39;00m\n\u001b[0;32m      4\u001b[0m plt\u001b[38;5;241m.\u001b[39mshow()\n",
      "Cell \u001b[1;32mIn[129], line 12\u001b[0m, in \u001b[0;36mRect\u001b[1;34m(x, y)\u001b[0m\n\u001b[0;32m     10\u001b[0m \u001b[38;5;28;01mfor\u001b[39;00m i \u001b[38;5;129;01min\u001b[39;00m \u001b[38;5;28mrange\u001b[39m(block_num):\n\u001b[0;32m     11\u001b[0m     colors\u001b[38;5;241m=\u001b[39m[\u001b[38;5;124m\"\u001b[39m\u001b[38;5;124m#\u001b[39m\u001b[38;5;124m\"\u001b[39m\u001b[38;5;241m+\u001b[39m\u001b[38;5;124m'\u001b[39m\u001b[38;5;124m'\u001b[39m\u001b[38;5;241m.\u001b[39mjoin([random\u001b[38;5;241m.\u001b[39mchoice(\u001b[38;5;124m'\u001b[39m\u001b[38;5;124m0123456789ABCDEF\u001b[39m\u001b[38;5;124m'\u001b[39m)\u001b[38;5;28;01mfor\u001b[39;00m j \u001b[38;5;129;01min\u001b[39;00m \u001b[38;5;28mrange\u001b[39m(\u001b[38;5;241m6\u001b[39m)])\u001b[38;5;28;01mfor\u001b[39;00m k \u001b[38;5;129;01min\u001b[39;00m \u001b[38;5;28mrange\u001b[39m(block_num)]\n\u001b[1;32m---> 12\u001b[0m     r \u001b[38;5;241m=\u001b[39m patches\u001b[38;5;241m.\u001b[39mRectangle( xy\u001b[38;5;241m=\u001b[39m(x[i],y[i]) , width\u001b[38;5;241m=\u001b[39mwh[i][\u001b[38;5;241m0\u001b[39m], height\u001b[38;5;241m=\u001b[39mwh[i][\u001b[38;5;241m1\u001b[39m], color\u001b[38;5;241m=\u001b[39mcolors[i])\n\u001b[0;32m     13\u001b[0m     ax\u001b[38;5;241m.\u001b[39madd_patch(r)\n",
      "\u001b[1;31mIndexError\u001b[0m: list index out of range"
     ]
    },
    {
     "data": {
      "image/png": "[encoded data removed]",
      "text/plain": [
       "<Figure size 400x400 with 1 Axes>"
      ]
     },
     "metadata": {},
     "output_type": "display_data"
    }
   ],
   "source": [
    "x,y=bottom_left(wh)\n",
    "Rect(x,y)\n",
    "#図形を描画\n",
    "plt.show()"
   ]
  },
  {
   "cell_type": "code",
   "execution_count": null,
   "id": "e1d328f4",
   "metadata": {},
   "outputs": [],
   "source": [
    "#class Rect:\n",
    "    def __init__(self, x, y, w, h):\n",
    "        self.x1 = x\n",
    "        self.y1 = y\n",
    "        self.x2 = x + w\n",
    "        self.y2 = y + h\n",
    "        self.w = w\n",
    "        self.h = h\n",
    "\n",
    "    def overlap(self, b):\n",
    "        return max(self.x1, b.x1) < min(self.x2, b.x2) and max(self.y1, b.y1) < min(self.y2, b.y2)\n",
    "\n",
    "    def subtract_by(self, b):\n",
    "        if self.overlap(b):\n",
    "            rooms = []\n",
    "        if (self.x1 < b.x1 and b.x1 < self.x2) and max(self.y1, b.y1) < min(self.y2, b.y2):\n",
    "            rooms.append(Rect(self.x1, self.y1, b.x1 - self.x1, self.h))\n",
    "\n",
    "        if (self.x1 < b.x2 and b.x2 < self.x2) and max(self.y1, b.y1) < min(self.y2, b.y2):\n",
    "            rooms.append(Rect(b.x2, self.y1, self.x2 - b.x2, self.h))\n",
    "\n",
    "        if (self.y1 < b.y1 and b.y1 < self.y2) and max(self.x1, b.x1) < min(self.x2, b.x2) :\n",
    "            rooms.append(Rect(self.x1, self.y1, self.w, b.y1 - self.y1))\n",
    "\n",
    "        if (self.y1 < b.y2 and b.y2 < self.y2) and max(self.x1, b.x1) < min(self.x2, b.x2) :\n",
    "            rooms.append(Rect(self.x1, b.y2, self.w, self.y2 - b.y2))\n",
    "            return rooms\n",
    "\n",
    "        else:\n",
    "            return [self]\n",
    "\n",
    "def include(self, b):\n",
    "    return self.x1 <= b.x1 and b.x2 <= self.x2 and self.y1 <= b.y1 and b.y2 <= self.y2\n",
    "\n",
    "def larger_than(self, w, h):\n",
    "    # 座標は関係なく、図形として入るかどうか\n",
    "    return w <= self.w and h <= self.h\n",
    "\n",
    "def __str__(self):\n",
    "    return \"({}, {}, {}, {})\".format(self.x1, self.y1, self.w, self.h)"
   ]
  },
  {
   "cell_type": "code",
   "execution_count": null,
   "id": "c576e36b",
   "metadata": {},
   "outputs": [],
   "source": [
    "def put_rect(input_rects, roomsORIG=[Rect(0, 0, 1024, 10000)]):\n",
    "    rects = []\n",
    "    uniq_rooms = list(roomsORIG)\n",
    "    for input_rect in input_rects:\n",
    "    for i in range(len(uniq_rooms)):\n",
    "        room = uniq_rooms[i]\n",
    "    if room.larger_than(input_rect[0], input_rect[1]): #このrectに配置可能\n",
    "        new_rect = Rect(room.x1, room.y1, input_rect[0], input_rect[1])\n",
    "        rects.append(new_rect)\n",
    "        break\n",
    "\n",
    "    # すべての空白矩形から subtractする\n",
    "    new_rooms = []\n",
    "    for room in uniq_rooms:\n",
    "        new_rooms += room.subtract_by(new_rect)\n",
    "    new_rooms = sorted(new_rooms, key=lambda x:x.y1) # 結局総当たりするので意味ないが、将来効率化を考えソート\n",
    "\n",
    "    # 重複削除 総当たり\n",
    "    uniq_rooms = []\n",
    "    for r_i in new_rooms:\n",
    "        include_flg = False\n",
    "    for r_j in new_rooms:\n",
    "        if r_i == r_j: continue\n",
    "        if r_j.include(r_i):\n",
    "            include_flg = True\n",
    "            break\n",
    "    if not include_flg:\n",
    "        # print(\"{} は他のどれにも含まれない\".format(r_i))\n",
    "        uniq_rooms.append(r_i)\n",
    "    # 低い順（左にある順）に並び替え\n",
    "    new_rooms = sorted(new_rooms, key=lambda a:a.x1)\n",
    "    uniq_rooms = sorted(new_rooms, key=lambda a:a.y1)\n",
    "\n",
    "return (rects, uniq_rooms)\n",
    "\n",
    "\n",
    "\n",
    "img_list = [(300, 350), (200, 300), (400, 400), (150, 250), (250, 400)]\n",
    "rects, rooms = put_rect(img_list, roomsORIG=[Rect(0,0,1024,10000)])\n",
    "for rect in rects:\n",
    "    print(rect)"
   ]
  }
 ],
 "metadata": {
  "kernelspec": {
   "display_name": "Python 3 (ipykernel)",
   "language": "python",
   "name": "python3"
  },
  "language_info": {
   "codemirror_mode": {
    "name": "ipython",
    "version": 3
   },
   "file_extension": ".py",
   "mimetype": "text/x-python",
   "name": "python",
   "nbconvert_exporter": "python",
   "pygments_lexer": "ipython3",
   "version": "3.11.4"
  }
 },
 "nbformat": 4,
 "nbformat_minor": 5
}
