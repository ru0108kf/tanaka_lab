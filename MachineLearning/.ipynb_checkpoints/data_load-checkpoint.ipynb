{
 "cells": [
  {
   "cell_type": "markdown",
   "id": "d498d577",
   "metadata": {},
   "source": [
    "データのロード"
   ]
  },
  {
   "cell_type": "code",
   "execution_count": 1,
   "id": "61a7f842",
   "metadata": {},
   "outputs": [
    {
     "data": {
      "text/plain": [
       "array([ 0.,  0.,  5., 13.,  9.,  1.,  0.,  0.,  0.,  0., 13., 15., 10.,\n",
       "       15.,  5.,  0.,  0.,  3., 15.,  2.,  0., 11.,  8.,  0.,  0.,  4.,\n",
       "       12.,  0.,  0.,  8.,  8.,  0.,  0.,  5.,  8.,  0.,  0.,  9.,  8.,\n",
       "        0.,  0.,  4., 11.,  0.,  1., 12.,  7.,  0.,  0.,  2., 14.,  5.,\n",
       "       10., 12.,  0.,  0.,  0.,  0.,  6., 13., 10.,  0.,  0.,  0.])"
      ]
     },
     "execution_count": 1,
     "metadata": {},
     "output_type": "execute_result"
    }
   ],
   "source": [
    "#サンプルデータセットのロード\n",
    "#sckit-learnのdatasetsをロード\n",
    "from sklearn import datasets\n",
    "\n",
    "#digitデータセットをロード\n",
    "digits = datasets.load_digits()\n",
    "\n",
    "#特徴量行列を作成\n",
    "features = digits.data\n",
    "\n",
    "#ターゲットベクトルを作成\n",
    "target = digits.target\n",
    "\n",
    "#最初の観測値を表示\n",
    "features[0]"
   ]
  },
  {
   "cell_type": "code",
   "execution_count": 2,
   "id": "d722acfd",
   "metadata": {},
   "outputs": [],
   "source": [
    "#シュミレーションによるデータセットの生成??\n"
   ]
  },
  {
   "cell_type": "code",
   "execution_count": 5,
   "id": "5b29d162",
   "metadata": {},
   "outputs": [
    {
     "data": {
      "text/html": [
       "<div>\n",
       "<style scoped>\n",
       "    .dataframe tbody tr th:only-of-type {\n",
       "        vertical-align: middle;\n",
       "    }\n",
       "\n",
       "    .dataframe tbody tr th {\n",
       "        vertical-align: top;\n",
       "    }\n",
       "\n",
       "    .dataframe thead th {\n",
       "        text-align: right;\n",
       "    }\n",
       "</style>\n",
       "<table border=\"1\" class=\"dataframe\">\n",
       "  <thead>\n",
       "    <tr style=\"text-align: right;\">\n",
       "      <th></th>\n",
       "      <th>id</th>\n",
       "      <th>cnf1</th>\n",
       "      <th>cnf2</th>\n",
       "      <th>treat</th>\n",
       "      <th>outcome</th>\n",
       "    </tr>\n",
       "  </thead>\n",
       "  <tbody>\n",
       "    <tr>\n",
       "      <th>0</th>\n",
       "      <td>1</td>\n",
       "      <td>0.077303</td>\n",
       "      <td>0.850043</td>\n",
       "      <td>0</td>\n",
       "      <td>67.467982</td>\n",
       "    </tr>\n",
       "    <tr>\n",
       "      <th>1</th>\n",
       "      <td>2</td>\n",
       "      <td>-0.296869</td>\n",
       "      <td>-0.925313</td>\n",
       "      <td>0</td>\n",
       "      <td>47.100143</td>\n",
       "    </tr>\n",
       "  </tbody>\n",
       "</table>\n",
       "</div>"
      ],
      "text/plain": [
       "   id      cnf1      cnf2  treat    outcome\n",
       "0   1  0.077303  0.850043      0  67.467982\n",
       "1   2 -0.296869 -0.925313      0  47.100143"
      ]
     },
     "execution_count": 5,
     "metadata": {},
     "output_type": "execute_result"
    }
   ],
   "source": [
    "#CSVファイルのロード\n",
    "#ライブラリをロード\n",
    "import pandas as pd\n",
    "\n",
    "#urlを作成\n",
    "url = \"C:\\\\Users\\\\msy-t\\\\jupyter notebook\\\\python_MachineLearning\\\\robustwife.csv\"\n",
    "\n",
    "#データセットをロード\n",
    "dataframe = pd.read_csv(url)\n",
    "\n",
    "#最初の2行を表示\n",
    "dataframe.head(2)"
   ]
  },
  {
   "cell_type": "code",
   "execution_count": 7,
   "id": "039d2954",
   "metadata": {},
   "outputs": [
    {
     "data": {
      "text/html": [
       "<div>\n",
       "<style scoped>\n",
       "    .dataframe tbody tr th:only-of-type {\n",
       "        vertical-align: middle;\n",
       "    }\n",
       "\n",
       "    .dataframe tbody tr th {\n",
       "        vertical-align: top;\n",
       "    }\n",
       "\n",
       "    .dataframe thead th {\n",
       "        text-align: right;\n",
       "    }\n",
       "</style>\n",
       "<table border=\"1\" class=\"dataframe\">\n",
       "  <thead>\n",
       "    <tr style=\"text-align: right;\">\n",
       "      <th></th>\n",
       "      <th>id</th>\n",
       "      <th>cnf1</th>\n",
       "      <th>cnf2</th>\n",
       "      <th>treat</th>\n",
       "      <th>outcome</th>\n",
       "    </tr>\n",
       "  </thead>\n",
       "  <tbody>\n",
       "    <tr>\n",
       "      <th>0</th>\n",
       "      <td>1</td>\n",
       "      <td>0.077303</td>\n",
       "      <td>0.850043</td>\n",
       "      <td>0</td>\n",
       "      <td>67.467982</td>\n",
       "    </tr>\n",
       "    <tr>\n",
       "      <th>1</th>\n",
       "      <td>2</td>\n",
       "      <td>-0.296869</td>\n",
       "      <td>-0.925313</td>\n",
       "      <td>0</td>\n",
       "      <td>47.100143</td>\n",
       "    </tr>\n",
       "  </tbody>\n",
       "</table>\n",
       "</div>"
      ],
      "text/plain": [
       "   id      cnf1      cnf2  treat    outcome\n",
       "0   1  0.077303  0.850043      0  67.467982\n",
       "1   2 -0.296869 -0.925313      0  47.100143"
      ]
     },
     "execution_count": 7,
     "metadata": {},
     "output_type": "execute_result"
    }
   ],
   "source": [
    "#Excelファイルの読み込み\n",
    "#urlを作成\n",
    "url = \"C:\\\\Users\\\\msy-t\\\\jupyter notebook\\\\python_MachineLearning\\\\robustwife.xlsx\"\n",
    "\n",
    "#データをロード\n",
    "dataframe = pd.read_excel(url)\n",
    "\n",
    "#最初の2行を表示\n",
    "dataframe.head(2)"
   ]
  }
 ],
 "metadata": {
  "kernelspec": {
   "display_name": "Python 3 (ipykernel)",
   "language": "python",
   "name": "python3"
  },
  "language_info": {
   "codemirror_mode": {
    "name": "ipython",
    "version": 3
   },
   "file_extension": ".py",
   "mimetype": "text/x-python",
   "name": "python",
   "nbconvert_exporter": "python",
   "pygments_lexer": "ipython3",
   "version": "3.11.4"
  }
 },
 "nbformat": 4,
 "nbformat_minor": 5
}
