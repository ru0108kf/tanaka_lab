{
 "cells": [
  {
   "cell_type": "markdown",
   "id": "47b15d73",
   "metadata": {},
   "source": [
    "錐線形最適化問題"
   ]
  },
  {
   "cell_type": "code",
   "execution_count": 7,
   "id": "303be2d5",
   "metadata": {},
   "outputs": [
    {
     "name": "stdout",
     "output_type": "stream",
     "text": [
      "Linear Program\n",
      "  minimize -0.5*x[0] - x[1]\n",
      "  over\n",
      "    2x1 real variable x\n",
      "  subject to\n",
      "    x[0] - x[1] >= 0\n",
      "    x[0] <= 3\n",
      "    x[0] + x[1] <= 4\n",
      "    x[i] >= 0 f.a. i in [0..1]\n",
      "===================================\n",
      "           PICOS 2.4.17            \n",
      "===================================\n",
      "Problem type: Linear Program.\n",
      "Searching a solution strategy for CVXOPT.\n",
      "Solution strategy:\n",
      "  1. ExtraOptions\n",
      "  2. CVXOPTSolver\n",
      "Applying ExtraOptions.\n",
      "Building a CVXOPT problem instance.\n",
      "Starting solution search.\n",
      "-----------------------------------\n",
      " Python Convex Optimization Solver \n",
      "    via internal CONELP solver     \n",
      "-----------------------------------\n",
      "     pcost       dcost       gap    pres   dres   k/t\n",
      " 0: -2.2083e+00 -1.1542e+01  8e+00  0e+00  1e+00  1e+00\n",
      " 1: -2.6138e+00 -3.6497e+00  8e-01  6e-17  1e-01  9e-02\n",
      " 2: -2.9846e+00 -3.0236e+00  3e-02  4e-16  5e-03  4e-03\n",
      " 3: -2.9998e+00 -3.0002e+00  3e-04  4e-16  5e-05  4e-05\n",
      " 4: -3.0000e+00 -3.0000e+00  3e-06  2e-16  5e-07  4e-07\n",
      " 5: -3.0000e+00 -3.0000e+00  3e-08  2e-16  5e-09  4e-09\n",
      "Optimal solution found.\n",
      "------------[ CVXOPT ]-------------\n",
      "Solver claims optimal solution for feasible problem.\n",
      "Applying the solution.\n",
      "Applied solution is primal feasible.\n",
      "Search 9.4e-03s, solve 1.9e-02s, overhead 97%.\n",
      "=============[ PICOS ]=============\n",
      "status: optimal\n",
      "objective value: -2.999999984639242\n",
      "x:\n",
      "[ 2.00e+00]\n",
      "[ 2.00e+00]\n",
      "\n"
     ]
    }
   ],
   "source": [
    "#制約が不等式であっても、スラック変数を用いれば、等式に変換できる。\n",
    "import picos as pic\n",
    "pic.ascii()#数式表現をアスキー文字を用いて行うための設定\n",
    "P = pic.Problem()\n",
    "x = pic.RealVariable(\"x\",2)#xの設定数\n",
    "P.add_constraint(x[0]-x[1]>=0)\n",
    "P.add_constraint(x[0]<=3)\n",
    "P.add_constraint(x[0]+x[1]<=4)\n",
    "P.add_list_of_constraints([x[i]>=0 for i in range(2)])\n",
    "objective = -0.5*x[0]-x[1]\n",
    "P.set_objective(\"min\",objective)\n",
    "print(P)\n",
    "P.options.verbosity = 1\n",
    "solution = P.solve(solver=\"cvxopt\")\n",
    "print(\"status:\",solution.claimedStatus)\n",
    "print(\"objective value:\",P.value)\n",
    "print(\"x:\")\n",
    "print(x.value)"
   ]
  },
  {
   "cell_type": "markdown",
   "id": "d9d1f895",
   "metadata": {},
   "source": [
    "結果より、最適値x0=2,x1=2において、最適値-3をとることがわかる。\\\n",
    "この最適化問題は、行列を用いて表すこともできる。"
   ]
  },
  {
   "cell_type": "code",
   "execution_count": 8,
   "id": "2784e067",
   "metadata": {},
   "outputs": [],
   "source": [
    "#行列を表す\n",
    "import cvxopt as cvx\n",
    "A = pic.Constant(\"A\",cvx.matrix([[-1,1,1],[1,0,1]]))\n",
    "b = [0,3,4]\n",
    "c = [-0.5,-1]"
   ]
  },
  {
   "cell_type": "code",
   "execution_count": 9,
   "id": "e8977228",
   "metadata": {},
   "outputs": [],
   "source": [
    "#変数は同様に定義\n",
    "P = pic.Problem()\n",
    "x = pic.RealVariable(\"x\",2)\n",
    "objective = c|x#内積"
   ]
  },
  {
   "cell_type": "code",
   "execution_count": 12,
   "id": "eb761bdc",
   "metadata": {},
   "outputs": [
    {
     "name": "stdout",
     "output_type": "stream",
     "text": [
      "Linear Program\n",
      "  minimize <[2x1], x>\n",
      "  over\n",
      "    2x1 real variable x\n",
      "  subject to\n",
      "    A*x <= [3x1]\n",
      "    x >= 0\n",
      "    A*x <= [3x1]\n",
      "    x >= 0\n",
      "    A*x <= [3x1]\n",
      "    x >= 0\n"
     ]
    }
   ],
   "source": [
    "#objectiveを目的関数として設定し、Ax<=bを制約式として設定する\n",
    "P.set_objective(\"min\",objective)\n",
    "P.add_constraint(A*x <= b)\n",
    "P.add_constraint(x >= 0)\n",
    "print(P)"
   ]
  },
  {
   "cell_type": "markdown",
   "id": "9ca2cc2c",
   "metadata": {},
   "source": [
    "３つの不等式ではなく、行列Aによる、一つの不等式に集約されていることがわかる"
   ]
  },
  {
   "cell_type": "code",
   "execution_count": 14,
   "id": "78ef96bf",
   "metadata": {},
   "outputs": [
    {
     "name": "stdout",
     "output_type": "stream",
     "text": [
      "status: optimal\n",
      "objective value: -2.9999999996781757\n",
      "x:\n",
      "[ 2.00e+00]\n",
      "[ 2.00e+00]\n",
      "\n"
     ]
    }
   ],
   "source": [
    "#解く\n",
    "solution = P.solve(solver = \"cvxopt\")\n",
    "print(\"status:\",solution.claimedStatus)\n",
    "print(\"objective value:\",P.value)\n",
    "print(\"x:\")\n",
    "print(x.value)"
   ]
  },
  {
   "cell_type": "markdown",
   "id": "b35cf1b0",
   "metadata": {},
   "source": [
    "同様の結果が得られる"
   ]
  },
  {
   "cell_type": "markdown",
   "id": "7ded750d",
   "metadata": {},
   "source": [
    "2.二次錐最適化問題\\\n",
    "線形最適化問題と二次錐最適化問題の違いは、x≥0であるか、x⪰s0であるかの違いである\n",
    "これは、二次錐制約と呼ばれる。（省略）"
   ]
  },
  {
   "cell_type": "code",
   "execution_count": null,
   "id": "3a5af1d7",
   "metadata": {},
   "outputs": [],
   "source": [
    "import picos as pic\n",
    "pic.ascii()\n",
    "P = pic.Problem()\n",
    "x = pic.RealVariable(\"x\",3)\n"
   ]
  }
 ],
 "metadata": {
  "kernelspec": {
   "display_name": "Python 3 (ipykernel)",
   "language": "python",
   "name": "python3"
  },
  "language_info": {
   "codemirror_mode": {
    "name": "ipython",
    "version": 3
   },
   "file_extension": ".py",
   "mimetype": "text/x-python",
   "name": "python",
   "nbconvert_exporter": "python",
   "pygments_lexer": "ipython3",
   "version": "3.11.4"
  }
 },
 "nbformat": 4,
 "nbformat_minor": 5
}
