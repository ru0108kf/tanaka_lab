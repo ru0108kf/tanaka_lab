{
 "cells": [
  {
   "cell_type": "markdown",
   "id": "d230ff01",
   "metadata": {},
   "source": [
    "PICOS"
   ]
  },
  {
   "cell_type": "markdown",
   "id": "4651dacc",
   "metadata": {},
   "source": [
    "線形最適化問題"
   ]
  },
  {
   "cell_type": "code",
   "execution_count": 4,
   "id": "2014f7a1",
   "metadata": {},
   "outputs": [],
   "source": [
    "from pulp import *"
   ]
  },
  {
   "cell_type": "code",
   "execution_count": 5,
   "id": "1f866fb4",
   "metadata": {},
   "outputs": [],
   "source": [
    "#問題例生成\n",
    "prob = LpProblem(\"The_Problem\",LpMinimize)"
   ]
  },
  {
   "cell_type": "code",
   "execution_count": 6,
   "id": "1e7285d5",
   "metadata": {},
   "outputs": [
    {
     "data": {
      "text/plain": [
       "example"
      ]
     },
     "execution_count": 6,
     "metadata": {},
     "output_type": "execute_result"
    }
   ],
   "source": [
    "#変数生成\n",
    "LpVariable(\"example\",None,100)\n",
    "#引数=(変数名,変数の下限,変数の上限,変数のタイプ)\n",
    "#変数のタイプは連続変数(LpContinuous),整数変数(LpInteger),0-1変数（LpBinary)\n",
    "#上限と下限がない場合はNone\n",
    "#上限のみの場合はupBound = 100のみを書けばよい"
   ]
  },
  {
   "cell_type": "code",
   "execution_count": 7,
   "id": "544c2a02",
   "metadata": {},
   "outputs": [],
   "source": [
    "x1 = LpVariable(\"x1\",0,None,LpContinuous)#0以上の連続変数\n",
    "x2 = LpVariable(\"x2\",0,None,LpContinuous)\n",
    "x3 = LpVariable(\"x3\",0,None,LpContinuous)"
   ]
  },
  {
   "cell_type": "code",
   "execution_count": 8,
   "id": "2a86e946",
   "metadata": {},
   "outputs": [],
   "source": [
    "#目的関数生成\n",
    "#-3*x1+11*x2+2*x3\n",
    "#prob += に続けて目的関数を書く\n",
    "prob += -3*x1 + 11*x2 + 2*x3"
   ]
  },
  {
   "cell_type": "code",
   "execution_count": 9,
   "id": "106c5a80",
   "metadata": {},
   "outputs": [],
   "source": [
    "#制約式生成\n",
    "prob += (-1)*x1 + 3*x2 <= 5\n",
    "prob += 3*x1 + 3*x2 <= 4\n",
    "prob += 3*x2 + 2*x3 <= 6\n",
    "prob += 3*x1 + 5*x3 <= 4\n",
    "#それぞれの要素が非負要素であることは、変数生成の時に下限を設定しておいたたため、x1 >= 0を入れる必要はない"
   ]
  },
  {
   "cell_type": "code",
   "execution_count": 10,
   "id": "76d9bc79",
   "metadata": {},
   "outputs": [
    {
     "name": "stdout",
     "output_type": "stream",
     "text": [
      "The_Problem:\n",
      "MINIMIZE\n",
      "-3*x1 + 11*x2 + 2*x3 + 0\n",
      "SUBJECT TO\n",
      "_C1: - x1 + 3 x2 <= 5\n",
      "\n",
      "_C2: 3 x1 + 3 x2 <= 4\n",
      "\n",
      "_C3: 3 x2 + 2 x3 <= 6\n",
      "\n",
      "_C4: 3 x1 + 5 x3 <= 4\n",
      "\n",
      "VARIABLES\n",
      "x1 Continuous\n",
      "x2 Continuous\n",
      "x3 Continuous\n",
      "\n"
     ]
    }
   ],
   "source": [
    "#まとめると、\n",
    "prob = LpProblem(\"The_Problem\",LpMinimize)\n",
    "x1 = LpVariable(\"x1\",0,None,LpContinuous)#0以上の連続変数\n",
    "x2 = LpVariable(\"x2\",0,None,LpContinuous)\n",
    "x3 = LpVariable(\"x3\",0,None,LpContinuous)\n",
    "prob += -3*x1 + 11*x2 + 2*x3\n",
    "prob += (-1)*x1 + 3*x2 <= 5\n",
    "prob += 3*x1 + 3*x2 <= 4\n",
    "prob += 3*x2 + 2*x3 <= 6\n",
    "prob += 3*x1 + 5*x3 <= 4\n",
    "print(prob)"
   ]
  },
  {
   "cell_type": "code",
   "execution_count": 11,
   "id": "d6b420e2",
   "metadata": {},
   "outputs": [],
   "source": [
    "#問題を解く\n",
    "status = prob.solve()"
   ]
  },
  {
   "cell_type": "code",
   "execution_count": 12,
   "id": "fa0f0733",
   "metadata": {},
   "outputs": [
    {
     "name": "stdout",
     "output_type": "stream",
     "text": [
      "Optimal\n"
     ]
    }
   ],
   "source": [
    "#問題例には1.実行不能,2.非有界,3.最適解を持つ　の３例ある\n",
    "print(LpStatus[status])"
   ]
  },
  {
   "cell_type": "code",
   "execution_count": 13,
   "id": "949f091e",
   "metadata": {},
   "outputs": [
    {
     "name": "stdout",
     "output_type": "stream",
     "text": [
      "-3.9999999\n"
     ]
    }
   ],
   "source": [
    "#最適解\n",
    "print(value(prob.objective))"
   ]
  },
  {
   "cell_type": "code",
   "execution_count": 14,
   "id": "2f6cb45b",
   "metadata": {},
   "outputs": [
    {
     "name": "stdout",
     "output_type": "stream",
     "text": [
      "x1: 1.3333333 , 2: 0.0 , 3: 0.0\n"
     ]
    }
   ],
   "source": [
    "print(\"x1:\",value(x1),\", 2:\",value(x2),\", 3:\",value(x3))"
   ]
  },
  {
   "cell_type": "code",
   "execution_count": 15,
   "id": "b30ff5b4",
   "metadata": {},
   "outputs": [
    {
     "name": "stdout",
     "output_type": "stream",
     "text": [
      "x1: 1.3333333 , 2: 0.0 , 3: 0.0\n"
     ]
    }
   ],
   "source": [
    "print(\"x1:\",x1.varValue,\", 2:\",x2.varValue,\", 3:\",x3.varValue)"
   ]
  },
  {
   "cell_type": "code",
   "execution_count": 16,
   "id": "018786a4",
   "metadata": {},
   "outputs": [
    {
     "name": "stdout",
     "output_type": "stream",
     "text": [
      "status: Optimal\n",
      "optimal value: -3.9999999\n",
      "x1: 1.3333333 , 2: 0.0 , 3: 0.0\n"
     ]
    }
   ],
   "source": [
    "#列方向モデリング\n",
    "#前のモデルは、行方向モデリングで、\n",
    "#列方向モデリングは、あとから変数を追加したい場合に有利である。\n",
    "prob = LpProblem(\"Problem\",LpMinimize)\n",
    "obj = LpConstraintVar(\"obj\")#目的関数を表すオブジェクト,この時点では、まだ何の項も含んでいない\n",
    "prob.setObjective(obj)#objを目的関数に設定\n",
    "a = LpConstraintVar(\"Constaint_a\",LpConstraintLE,5)#最初の制約式を表すオブジェクト\n",
    "b = LpConstraintVar(\"Constaint_b\",LpConstraintLE,4)#(制約式の名前,右向きの不等式か左向きの不等式か等式か,右辺の値を指定)\n",
    "c = LpConstraintVar(\"Constaint_c\",LpConstraintLE,6)\n",
    "d = LpConstraintVar(\"Constaint_d\",LpConstraintLE,4)\n",
    "prob += a\n",
    "prob += b\n",
    "prob += c\n",
    "prob += d\n",
    "x1 = LpVariable(\"x1\",0,None,LpContinuous,-3*obj - a + 3*b +3*d)\n",
    "x2 = LpVariable(\"x2\",0,None,LpContinuous,11*obj +3*a + 3*b +3*c)\n",
    "x3 = LpVariable(\"x3\",0,None,LpContinuous,2*obj +2*c + 5*d)\n",
    "status = prob.solve()\n",
    "print(\"status:\",LpStatus[status])\n",
    "print(\"optimal value:\",value(prob.objective))\n",
    "print(\"x1:\",x1.varValue,\", 2:\",x2.varValue,\", 3:\",x3.varValue)"
   ]
  }
 ],
 "metadata": {
  "kernelspec": {
   "display_name": "Python 3 (ipykernel)",
   "language": "python",
   "name": "python3"
  },
  "language_info": {
   "codemirror_mode": {
    "name": "ipython",
    "version": 3
   },
   "file_extension": ".py",
   "mimetype": "text/x-python",
   "name": "python",
   "nbconvert_exporter": "python",
   "pygments_lexer": "ipython3",
   "version": "3.11.4"
  }
 },
 "nbformat": 4,
 "nbformat_minor": 5
}
