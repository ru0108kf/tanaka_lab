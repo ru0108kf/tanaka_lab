{
 "cells": [
  {
   "cell_type": "code",
   "execution_count": 1,
   "id": "59f67f88",
   "metadata": {},
   "outputs": [
    {
     "name": "stdout",
     "output_type": "stream",
     "text": [
      "WARNING: Failed to create solver with name 'C': Failed to set executable for\n",
      "solver asl. File with name=C either does not exist or it is not executable. To\n",
      "skip this validation, call set_executable with validate=False.\n",
      "Traceback (most recent call last):\n",
      "  File \"C:\\Users\\msy-t\\anaconda3\\Lib\\site-packages\\pyomo\\opt\\base\\solvers.py\", line 165, in __call__\n",
      "    opt = self._cls[_implicit_solvers[mode]](**kwds)\n",
      "          ^^^^^^^^^^^^^^^^^^^^^^^^^^^^^^^^^^^^^^^^^^\n",
      "  File \"C:\\Users\\msy-t\\anaconda3\\Lib\\site-packages\\pyomo\\solvers\\plugins\\solvers\\ASL.py\", line 45, in __init__\n",
      "    SystemCallSolver.__init__(self, **kwds)\n",
      "  File \"C:\\Users\\msy-t\\anaconda3\\Lib\\site-packages\\pyomo\\opt\\solver\\shellcmd.py\", line 67, in __init__\n",
      "    self.set_executable(name=executable, validate=validate)\n",
      "  File \"C:\\Users\\msy-t\\anaconda3\\Lib\\site-packages\\pyomo\\opt\\solver\\shellcmd.py\", line 116, in set_executable\n",
      "    raise ValueError(\n",
      "ValueError: Failed to set executable for solver asl. File with name=C either does not exist or it is not executable. To skip this validation, call set_executable with validate=False.\n"
     ]
    },
    {
     "ename": "RuntimeError",
     "evalue": "Attempting to use an unavailable solver.\n\nThe SolverFactory was unable to create the solver \"C\"\nand returned an UnknownSolver object.  This error is raised at the point\nwhere the UnknownSolver object was used as if it were valid (by calling\nmethod \"solve\").\n\nThe original solver was created with the following parameters:\n\texecutable: C\n\tsolver: \\Users\\msy-t\\anaconda3\\Lib\\site-packages\\pyomo\\solvers\\Cbc-refactor-win64-msvc16-mt\\bin\\cbc.exe\n\ttype: C\n\t_args: ()\n\toptions: {}",
     "output_type": "error",
     "traceback": [
      "\u001b[1;31m---------------------------------------------------------------------------\u001b[0m",
      "\u001b[1;31mRuntimeError\u001b[0m                              Traceback (most recent call last)",
      "Cell \u001b[1;32mIn[1], line 38\u001b[0m\n\u001b[0;32m     36\u001b[0m instance\u001b[38;5;241m=\u001b[39mmodel\u001b[38;5;241m.\u001b[39mcreate_instance(data)\n\u001b[0;32m     37\u001b[0m solver\u001b[38;5;241m=\u001b[39mSolverFactory(\u001b[38;5;124mr\u001b[39m\u001b[38;5;124m\"\u001b[39m\u001b[38;5;124mC:\u001b[39m\u001b[38;5;124m\\\u001b[39m\u001b[38;5;124mUsers\u001b[39m\u001b[38;5;124m\\\u001b[39m\u001b[38;5;124mmsy-t\u001b[39m\u001b[38;5;124m\\\u001b[39m\u001b[38;5;124manaconda3\u001b[39m\u001b[38;5;124m\\\u001b[39m\u001b[38;5;124mLib\u001b[39m\u001b[38;5;124m\\\u001b[39m\u001b[38;5;124msite-packages\u001b[39m\u001b[38;5;124m\\\u001b[39m\u001b[38;5;124mpyomo\u001b[39m\u001b[38;5;124m\\\u001b[39m\u001b[38;5;124msolvers\u001b[39m\u001b[38;5;124m\\\u001b[39m\u001b[38;5;124mCbc-refactor-win64-msvc16-mt\u001b[39m\u001b[38;5;124m\\\u001b[39m\u001b[38;5;124mbin\u001b[39m\u001b[38;5;124m\\\u001b[39m\u001b[38;5;124mcbc.exe\u001b[39m\u001b[38;5;124m\"\u001b[39m)\n\u001b[1;32m---> 38\u001b[0m result\u001b[38;5;241m=\u001b[39msolver\u001b[38;5;241m.\u001b[39msolve(instance)\n\u001b[0;32m     39\u001b[0m \u001b[38;5;28mprint\u001b[39m(result[\u001b[38;5;124m\"\u001b[39m\u001b[38;5;124mSolver\u001b[39m\u001b[38;5;124m\"\u001b[39m])\n\u001b[0;32m     40\u001b[0m \u001b[38;5;28mprint\u001b[39m(\u001b[38;5;124m\"\u001b[39m\u001b[38;5;124moptimal value:\u001b[39m\u001b[38;5;124m\"\u001b[39m,value(instance\u001b[38;5;241m.\u001b[39mOBJ))\n",
      "File \u001b[1;32m~\\anaconda3\\Lib\\site-packages\\pyomo\\opt\\base\\solvers.py:102\u001b[0m, in \u001b[0;36mUnknownSolver.solve\u001b[1;34m(self, *args, **kwds)\u001b[0m\n\u001b[0;32m    100\u001b[0m \u001b[38;5;28;01mdef\u001b[39;00m \u001b[38;5;21msolve\u001b[39m(\u001b[38;5;28mself\u001b[39m, \u001b[38;5;241m*\u001b[39margs, \u001b[38;5;241m*\u001b[39m\u001b[38;5;241m*\u001b[39mkwds):\n\u001b[0;32m    101\u001b[0m \u001b[38;5;250m    \u001b[39m\u001b[38;5;124;03m\"\"\"Perform optimization and return an SolverResults object.\"\"\"\u001b[39;00m\n\u001b[1;32m--> 102\u001b[0m     \u001b[38;5;28mself\u001b[39m\u001b[38;5;241m.\u001b[39m_solver_error(\u001b[38;5;124m'\u001b[39m\u001b[38;5;124msolve\u001b[39m\u001b[38;5;124m'\u001b[39m)\n",
      "File \u001b[1;32m~\\anaconda3\\Lib\\site-packages\\pyomo\\opt\\base\\solvers.py:119\u001b[0m, in \u001b[0;36mUnknownSolver._solver_error\u001b[1;34m(self, method_name)\u001b[0m\n\u001b[0;32m    118\u001b[0m     \u001b[38;5;28;01mdef\u001b[39;00m \u001b[38;5;21m_solver_error\u001b[39m(\u001b[38;5;28mself\u001b[39m, method_name):\n\u001b[1;32m--> 119\u001b[0m         \u001b[38;5;28;01mraise\u001b[39;00m \u001b[38;5;167;01mRuntimeError\u001b[39;00m(\n\u001b[0;32m    120\u001b[0m \u001b[38;5;250m            \u001b[39m\u001b[38;5;124;03m\"\"\"Attempting to use an unavailable solver.\u001b[39;00m\n\u001b[0;32m    121\u001b[0m \n\u001b[0;32m    122\u001b[0m \u001b[38;5;124;03mThe SolverFactory was unable to create the solver \"%s\"\u001b[39;00m\n\u001b[0;32m    123\u001b[0m \u001b[38;5;124;03mand returned an UnknownSolver object.  This error is raised at the point\u001b[39;00m\n\u001b[0;32m    124\u001b[0m \u001b[38;5;124;03mwhere the UnknownSolver object was used as if it were valid (by calling\u001b[39;00m\n\u001b[0;32m    125\u001b[0m \u001b[38;5;124;03mmethod \"%s\").\u001b[39;00m\n\u001b[0;32m    126\u001b[0m \n\u001b[0;32m    127\u001b[0m \u001b[38;5;124;03mThe original solver was created with the following parameters:\u001b[39;00m\n\u001b[0;32m    128\u001b[0m \u001b[38;5;124;03m\\t\"\"\"\u001b[39;00m\n\u001b[0;32m    129\u001b[0m             \u001b[38;5;241m%\u001b[39m (\u001b[38;5;28mself\u001b[39m\u001b[38;5;241m.\u001b[39mtype, method_name)\n\u001b[0;32m    130\u001b[0m             \u001b[38;5;241m+\u001b[39m \u001b[38;5;124m\"\u001b[39m\u001b[38;5;130;01m\\n\u001b[39;00m\u001b[38;5;130;01m\\t\u001b[39;00m\u001b[38;5;124m\"\u001b[39m\u001b[38;5;241m.\u001b[39mjoin(\u001b[38;5;124m\"\u001b[39m\u001b[38;5;132;01m%s\u001b[39;00m\u001b[38;5;124m: \u001b[39m\u001b[38;5;132;01m%s\u001b[39;00m\u001b[38;5;124m\"\u001b[39m \u001b[38;5;241m%\u001b[39m i \u001b[38;5;28;01mfor\u001b[39;00m i \u001b[38;5;129;01min\u001b[39;00m \u001b[38;5;28msorted\u001b[39m(\u001b[38;5;28mself\u001b[39m\u001b[38;5;241m.\u001b[39m_kwds\u001b[38;5;241m.\u001b[39mitems()))\n\u001b[0;32m    131\u001b[0m             \u001b[38;5;241m+\u001b[39m \u001b[38;5;124m\"\u001b[39m\u001b[38;5;130;01m\\n\u001b[39;00m\u001b[38;5;130;01m\\t\u001b[39;00m\u001b[38;5;124m_args: \u001b[39m\u001b[38;5;132;01m%s\u001b[39;00m\u001b[38;5;124m\"\u001b[39m \u001b[38;5;241m%\u001b[39m (\u001b[38;5;28mself\u001b[39m\u001b[38;5;241m.\u001b[39m_args,)\n\u001b[0;32m    132\u001b[0m             \u001b[38;5;241m+\u001b[39m \u001b[38;5;124m\"\u001b[39m\u001b[38;5;130;01m\\n\u001b[39;00m\u001b[38;5;130;01m\\t\u001b[39;00m\u001b[38;5;124moptions: \u001b[39m\u001b[38;5;132;01m%s\u001b[39;00m\u001b[38;5;124m\"\u001b[39m \u001b[38;5;241m%\u001b[39m (\u001b[38;5;28mself\u001b[39m\u001b[38;5;241m.\u001b[39moptions,)\n\u001b[0;32m    133\u001b[0m         )\n",
      "\u001b[1;31mRuntimeError\u001b[0m: Attempting to use an unavailable solver.\n\nThe SolverFactory was unable to create the solver \"C\"\nand returned an UnknownSolver object.  This error is raised at the point\nwhere the UnknownSolver object was used as if it were valid (by calling\nmethod \"solve\").\n\nThe original solver was created with the following parameters:\n\texecutable: C\n\tsolver: \\Users\\msy-t\\anaconda3\\Lib\\site-packages\\pyomo\\solvers\\Cbc-refactor-win64-msvc16-mt\\bin\\cbc.exe\n\ttype: C\n\t_args: ()\n\toptions: {}"
     ]
    }
   ],
   "source": [
    "from pyomo.environ import *\n",
    "\n",
    "model = AbstractModel()\n",
    "\n",
    "model.m = Param(within = NonNegativeIntegers)\n",
    "model.n = Param(within = NonNegativeIntegers)\n",
    "\n",
    "model.I = RangeSet(1, model.m)\n",
    "model.J = RangeSet(1, model.n)\n",
    "\n",
    "model.a = Param(model.I, model.J, default = 0)\n",
    "model.b = Param(model.I)\n",
    "model.c = Param(model.J)\n",
    "\n",
    "model.x = Var(model.J, domain = NonNegativeReals)\n",
    "\n",
    "def obj_expression(model):\n",
    "    return summation(model.c, model.x)\n",
    "\n",
    "model.OBJ = Objective(rule = obj_expression)\n",
    "\n",
    "def ax_constraint_rule(model, i):\n",
    "    return sum(model.a[i,j] * model.x[j] for j in model.J) >= model.b[i]\n",
    "\n",
    "model.AxbConstraint = Constraint(model.I, rule = ax_constraint_rule)\n",
    "\n",
    "data = {None: {\n",
    "    \"m\": {None: 4}, \"n\": {None: 3},\n",
    "    \"c\": {1:-3, 2:11, 3:2},\n",
    "    \"a\": {(1,1): 1, (1,2): -3,\n",
    "         (2,1): -3, (2,2): -3,\n",
    "         (3,2): -3, (3,3): -2,\n",
    "         (4,1): 3, (4,3): 5\n",
    "         }, \"b\": {1:-5, 2:-4, 3:-6, 4:4}, }}\n",
    "\n",
    "instance=model.create_instance(data)\n",
    "solver=SolverFactory(r\"C:\\Users\\msy-t\\anaconda3\\Lib\\site-packages\\pyomo\\solvers\\Cbc-refactor-win64-msvc16-mt\\bin\\cbc.exe\")\n",
    "result=solver.solve(instance)\n",
    "print(result[\"Solver\"])\n",
    "print(\"optimal value:\",value(instance.OBJ))\n",
    "print(\"optimal solution\")\n",
    "for j in instance.x:\n",
    "    print(instance.x[j],value(instance.x[j]))"
   ]
  }
 ],
 "metadata": {
  "kernelspec": {
   "display_name": "Python 3 (ipykernel)",
   "language": "python",
   "name": "python3"
  },
  "language_info": {
   "codemirror_mode": {
    "name": "ipython",
    "version": 3
   },
   "file_extension": ".py",
   "mimetype": "text/x-python",
   "name": "python",
   "nbconvert_exporter": "python",
   "pygments_lexer": "ipython3",
   "version": "3.11.4"
  }
 },
 "nbformat": 4,
 "nbformat_minor": 5
}
